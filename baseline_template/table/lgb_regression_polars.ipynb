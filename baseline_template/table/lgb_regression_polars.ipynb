{
 "cells": [
  {
   "cell_type": "code",
   "execution_count": 14,
   "metadata": {},
   "outputs": [],
   "source": [
    "import polars as pl\n",
    "import numpy as np\n",
    "\n",
    "from sklearn.model_selection import KFold, train_test_split\n",
    "from sklearn.metrics import root_mean_squared_error\n",
    "\n",
    "import lightgbm as lgb\n",
    "\n",
    "import seaborn as sns"
   ]
  },
  {
   "cell_type": "code",
   "execution_count": 2,
   "metadata": {},
   "outputs": [
    {
     "data": {
      "text/plain": [
       "'1.5.0'"
      ]
     },
     "execution_count": 2,
     "metadata": {},
     "output_type": "execute_result"
    }
   ],
   "source": [
    "pl.__version__"
   ]
  },
  {
   "cell_type": "code",
   "execution_count": 3,
   "metadata": {},
   "outputs": [
    {
     "data": {
      "text/plain": [
       "'4.5.0'"
      ]
     },
     "execution_count": 3,
     "metadata": {},
     "output_type": "execute_result"
    }
   ],
   "source": [
    "lgb.__version__"
   ]
  },
  {
   "cell_type": "code",
   "execution_count": 4,
   "metadata": {},
   "outputs": [],
   "source": [
    "df = pl.DataFrame(\n",
    "    {\n",
    "        \"feature1\": range(100),\n",
    "        \"feature2\": range(100, 200),\n",
    "        \"feat_category\": [\"A\", \"B\", \"C\", \"D\"] * 25,\n",
    "        \"target\": [x * 0.5 + 10 for x in range(100)],\n",
    "    }\n",
    ")\n",
    "\n",
    "# df = pl.read_csv(\"../../input/titanic.csv\")"
   ]
  },
  {
   "cell_type": "code",
   "execution_count": 5,
   "metadata": {},
   "outputs": [],
   "source": [
    "USE_COL = [\"feature1\", \"feature2\", \"feat_category\"]\n",
    "CATEGORICAL_FEATURE = [\"feat_category\"]\n",
    "TARGET_COL = \"target\"\n",
    "FOLD_NUM = 5\n",
    "SEED = 42"
   ]
  },
  {
   "cell_type": "code",
   "execution_count": 6,
   "metadata": {},
   "outputs": [],
   "source": [
    "# 学習データとテストデータに分割する\n",
    "train, test = train_test_split(\n",
    "    df,\n",
    "    test_size=0.3,\n",
    "    random_state=SEED,\n",
    "    shuffle=True,\n",
    "    # stratify=df.get_column(TARGET_COL),\n",
    ")"
   ]
  },
  {
   "cell_type": "code",
   "execution_count": 7,
   "metadata": {},
   "outputs": [],
   "source": [
    "# Categorical型への変換\n",
    "train = train.with_columns(pl.col(CATEGORICAL_FEATURE).cast(pl.Categorical))\n",
    "test = test.with_columns(pl.col(CATEGORICAL_FEATURE).cast(pl.Categorical))"
   ]
  },
  {
   "cell_type": "code",
   "execution_count": 8,
   "metadata": {},
   "outputs": [],
   "source": [
    "# Foldの作成\n",
    "fold_arr = np.zeros(train.height)\n",
    "fold = KFold(n_splits=FOLD_NUM, shuffle=True, random_state=SEED)\n",
    "\n",
    "for idx, (_, val_idx) in enumerate(fold.split(train)):\n",
    "    fold_arr[val_idx] = idx\n",
    "\n",
    "train = train.with_columns(pl.Series(fold_arr).cast(pl.Int64).alias(\"fold\"))"
   ]
  },
  {
   "cell_type": "code",
   "execution_count": 11,
   "metadata": {},
   "outputs": [],
   "source": [
    "# LightGBMで用いるパラメータを指定\n",
    "params = {\n",
    "    \"objective\": \"regression\",\n",
    "    \"metric\": \"rmse\",\n",
    "    \"max_depth\": -1,\n",
    "    \"min_data_in_leaf\": 10,  # 1つの葉に入る最小のデータ数\n",
    "    \"num_leaves\": 24,  # 2**max_depthより少し小さめにすると過学習を防げる\n",
    "    \"learning_rate\": 0.01,  # 1回のiterationで学習を進める割合、大きいと学習が早く終わる。小さいと学習は長いが高精度になりやすい。\n",
    "    \"bagging_freq\": 5,  # 指定した回数ごとにbaggingを行う\n",
    "    \"feature_fraction\": 0.9,  # 1回のiterationで利用する特徴量(列方向)の割合\n",
    "    \"bagging_fraction\": 0.8,  # 1回のiterationで利用するデータ(行方向)の割合\n",
    "    \"verbose\": -1,  # 出力するログレベルの変更、-1はFatalなログのみを出力\n",
    "    \"seed\": SEED,  # ランダムシードの固定\n",
    "    \"lambda_l1\": 0.4,  # 正則化のためのパラメータ\n",
    "    \"lambda_l2\": 0.4,  # 正則化のためのパラメータ\n",
    "}"
   ]
  },
  {
   "cell_type": "code",
   "execution_count": 12,
   "metadata": {},
   "outputs": [
    {
     "name": "stdout",
     "output_type": "stream",
     "text": [
      "Start fold 0\n",
      "Training until validation scores don't improve for 100 rounds\n",
      "[100]\ttraining's rmse: 6.15513\tvalid_1's rmse: 9.34773\n",
      "[200]\ttraining's rmse: 3.3575\tvalid_1's rmse: 5.66925\n",
      "[300]\ttraining's rmse: 2.56277\tvalid_1's rmse: 4.1384\n",
      "[400]\ttraining's rmse: 2.39872\tvalid_1's rmse: 3.5368\n",
      "[500]\ttraining's rmse: 2.36418\tvalid_1's rmse: 3.31859\n",
      "[600]\ttraining's rmse: 2.35806\tvalid_1's rmse: 3.22407\n",
      "[700]\ttraining's rmse: 2.356\tvalid_1's rmse: 3.20173\n",
      "[800]\ttraining's rmse: 2.34833\tvalid_1's rmse: 3.18737\n",
      "Early stopping, best iteration is:\n",
      "[760]\ttraining's rmse: 2.35134\tvalid_1's rmse: 3.16555\n",
      "Start fold 1\n",
      "Training until validation scores don't improve for 100 rounds\n",
      "[100]\ttraining's rmse: 6.31701\tvalid_1's rmse: 5.75742\n",
      "[200]\ttraining's rmse: 3.21711\tvalid_1's rmse: 3.15152\n",
      "[300]\ttraining's rmse: 2.20665\tvalid_1's rmse: 2.31393\n",
      "[400]\ttraining's rmse: 1.93062\tvalid_1's rmse: 2.03443\n",
      "[500]\ttraining's rmse: 1.87636\tvalid_1's rmse: 1.95129\n",
      "[600]\ttraining's rmse: 1.85934\tvalid_1's rmse: 1.89196\n",
      "[700]\ttraining's rmse: 1.84489\tvalid_1's rmse: 1.86772\n",
      "[800]\ttraining's rmse: 1.83509\tvalid_1's rmse: 1.84317\n",
      "[900]\ttraining's rmse: 1.82578\tvalid_1's rmse: 1.82928\n",
      "[1000]\ttraining's rmse: 1.81684\tvalid_1's rmse: 1.80518\n",
      "[1100]\ttraining's rmse: 1.80961\tvalid_1's rmse: 1.79826\n",
      "[1200]\ttraining's rmse: 1.80391\tvalid_1's rmse: 1.79491\n",
      "Early stopping, best iteration is:\n",
      "[1121]\ttraining's rmse: 1.80793\tvalid_1's rmse: 1.792\n",
      "Start fold 2\n",
      "Training until validation scores don't improve for 100 rounds\n",
      "[100]\ttraining's rmse: 6.49792\tvalid_1's rmse: 5.53858\n",
      "[200]\ttraining's rmse: 3.25064\tvalid_1's rmse: 2.90361\n",
      "[300]\ttraining's rmse: 2.22185\tvalid_1's rmse: 2.07237\n",
      "[400]\ttraining's rmse: 1.97048\tvalid_1's rmse: 1.86486\n",
      "[500]\ttraining's rmse: 1.92211\tvalid_1's rmse: 1.79466\n",
      "[600]\ttraining's rmse: 1.90786\tvalid_1's rmse: 1.78504\n",
      "[700]\ttraining's rmse: 1.89709\tvalid_1's rmse: 1.77792\n",
      "[800]\ttraining's rmse: 1.88634\tvalid_1's rmse: 1.72496\n",
      "[900]\ttraining's rmse: 1.87916\tvalid_1's rmse: 1.69121\n",
      "[1000]\ttraining's rmse: 1.87426\tvalid_1's rmse: 1.66409\n",
      "[1100]\ttraining's rmse: 1.86814\tvalid_1's rmse: 1.63028\n",
      "[1200]\ttraining's rmse: 1.8655\tvalid_1's rmse: 1.61567\n",
      "Early stopping, best iteration is:\n",
      "[1170]\ttraining's rmse: 1.86704\tvalid_1's rmse: 1.60856\n",
      "Start fold 3\n",
      "Training until validation scores don't improve for 100 rounds\n",
      "[100]\ttraining's rmse: 6.30738\tvalid_1's rmse: 6.35081\n",
      "[200]\ttraining's rmse: 3.4475\tvalid_1's rmse: 3.15709\n",
      "[300]\ttraining's rmse: 2.54988\tvalid_1's rmse: 2.2532\n",
      "[400]\ttraining's rmse: 2.33075\tvalid_1's rmse: 2.15716\n",
      "Early stopping, best iteration is:\n",
      "[380]\ttraining's rmse: 2.35933\tvalid_1's rmse: 2.15565\n",
      "Start fold 4\n",
      "Training until validation scores don't improve for 100 rounds\n",
      "[100]\ttraining's rmse: 6.42937\tvalid_1's rmse: 5.41934\n",
      "[200]\ttraining's rmse: 3.33453\tvalid_1's rmse: 2.62733\n",
      "[300]\ttraining's rmse: 2.40842\tvalid_1's rmse: 2.0152\n",
      "[400]\ttraining's rmse: 2.18505\tvalid_1's rmse: 1.9659\n",
      "[500]\ttraining's rmse: 2.1347\tvalid_1's rmse: 1.97039\n",
      "Early stopping, best iteration is:\n",
      "[435]\ttraining's rmse: 2.16154\tvalid_1's rmse: 1.94525\n"
     ]
    }
   ],
   "source": [
    "# テストデータに対する推論、特徴量重要度(後述)を計算するために、モデルを保存するobjectを作成\n",
    "models = []\n",
    "\n",
    "# Cross Validationによる学習の実施\n",
    "for fold in range(FOLD_NUM):\n",
    "    print(f\"Start fold {fold}\")\n",
    "\n",
    "    # foldごとにtrainとvalidに分ける\n",
    "    train_fold = train.filter(pl.col(\"fold\") != fold)\n",
    "    valid_fold = train.filter(pl.col(\"fold\") == fold)\n",
    "\n",
    "    # X(説明変数)とy(目的変数)に分ける\n",
    "    X_train = train_fold.select(USE_COL)\n",
    "    X_valid = valid_fold.select(USE_COL)\n",
    "    y_train = train_fold.select(TARGET_COL)\n",
    "    y_valid = valid_fold.select(TARGET_COL)\n",
    "\n",
    "    # LightGBMが認識可能な形にデータセットを変換\n",
    "    lgb_train = lgb.Dataset(X_train.to_pandas(), y_train.to_pandas())\n",
    "    lgb_eval = lgb.Dataset(\n",
    "        X_valid.to_pandas(), y_valid.to_pandas(), reference=lgb_train\n",
    "    )\n",
    "\n",
    "    # モデルの学習\n",
    "    model = lgb.train(\n",
    "        params,\n",
    "        lgb_train,\n",
    "        num_boost_round=10000,  # 学習のiteration回数\n",
    "        valid_sets=[lgb_train, lgb_eval],\n",
    "        callbacks=[\n",
    "            lgb.early_stopping(\n",
    "                stopping_rounds=100\n",
    "            ),  # Early stopingの回数、binary_loglossが改善しないiterationが100回続いたら学習を止める\n",
    "            lgb.log_evaluation(100),  # 指定したiteration回数ごとにlogを出力する\n",
    "        ],\n",
    "    )\n",
    "\n",
    "    # モデルを保存\n",
    "    models.append([fold, model])"
   ]
  },
  {
   "cell_type": "code",
   "execution_count": 15,
   "metadata": {},
   "outputs": [
    {
     "name": "stdout",
     "output_type": "stream",
     "text": [
      "fold 0 Score: 3.165547226658896\n",
      "fold 1 Score: 1.7922859720463291\n",
      "fold 2 Score: 1.6085584075926749\n",
      "fold 3 Score: 2.1556547445493686\n",
      "fold 4 Score: 1.945253096494813\n"
     ]
    }
   ],
   "source": [
    "# 学習データ全体に対する推論結果を保存するobjectを作成\n",
    "oof = np.zeros((len(train)))\n",
    "\n",
    "# foldの値と学習済みモデルを利用し、モデルの評価を行う\n",
    "for fold, model in models:\n",
    "    valid_fold = train.filter(pl.col(\"fold\") == fold)\n",
    "\n",
    "    X_valid = valid_fold.select(USE_COL)\n",
    "    y_valid = valid_fold.select(TARGET_COL)\n",
    "\n",
    "    # validデータに対する推論\n",
    "    y_valid_pred = model.predict(\n",
    "        X_valid.to_pandas(), num_iteration=model.best_iteration\n",
    "    )\n",
    "\n",
    "    score = root_mean_squared_error(y_valid, y_valid_pred)\n",
    "    print(f\"fold {fold} Score: {score}\")\n",
    "\n",
    "    is_valid = train.get_column(\"fold\") == fold\n",
    "    oof[is_valid] = y_valid_pred"
   ]
  },
  {
   "cell_type": "code",
   "execution_count": 16,
   "metadata": {},
   "outputs": [
    {
     "data": {
      "text/plain": [
       "np.float64(2.2023303742881004)"
      ]
     },
     "execution_count": 16,
     "metadata": {},
     "output_type": "execute_result"
    }
   ],
   "source": [
    "oof_score = root_mean_squared_error(train.get_column(TARGET_COL), oof)\n",
    "oof_score"
   ]
  },
  {
   "cell_type": "code",
   "execution_count": 17,
   "metadata": {},
   "outputs": [
    {
     "data": {
      "text/plain": [
       "<Axes: >"
      ]
     },
     "execution_count": 17,
     "metadata": {},
     "output_type": "execute_result"
    },
    {
     "data": {
      "image/png": "[encoded data removed]",
      "text/plain": [
       "<Figure size 640x480 with 1 Axes>"
      ]
     },
     "metadata": {},
     "output_type": "display_data"
    }
   ],
   "source": [
    "import pandas as pd\n",
    "\n",
    "feature_importances = [\n",
    "    model.feature_importance(importance_type=\"gain\") for _, model in models\n",
    "]\n",
    "feature_importances_df = pd.DataFrame(feature_importances, columns=USE_COL)\n",
    "\n",
    "order = feature_importances_df.mean().sort_values(ascending=False).index.tolist()\n",
    "\n",
    "sns.boxplot(data=feature_importances_df, orient=\"h\", order=order)"
   ]
  },
  {
   "cell_type": "code",
   "execution_count": 18,
   "metadata": {},
   "outputs": [
    {
     "data": {
      "text/plain": [
       "array([52.44307486, 35.90955414, 44.73829737, 32.53883583, 31.05920578,\n",
       "       30.24133921, 19.11700965, 50.88147948, 15.98959675, 15.98959675,\n",
       "       15.98959675, 24.21024827, 45.48070381, 25.71339754, 54.90344146,\n",
       "       15.98959675, 48.94659732, 50.11787051, 15.98959675, 24.86748648,\n",
       "       37.00664841, 54.90344146, 22.36427774, 30.24133921, 44.73829737,\n",
       "       15.98959675, 30.24133921, 54.90344146, 15.98959675, 44.73829737])"
      ]
     },
     "execution_count": 18,
     "metadata": {},
     "output_type": "execute_result"
    }
   ],
   "source": [
    "pred = np.array([model.predict(test[USE_COL].to_pandas()) for _, model in models])\n",
    "pred = np.mean(pred, axis=0)\n",
    "pred"
   ]
  },
  {
   "cell_type": "code",
   "execution_count": null,
   "metadata": {},
   "outputs": [],
   "source": []
  }
 ],
 "metadata": {
  "kernelspec": {
   "display_name": ".venv",
   "language": "python",
   "name": "python3"
  },
  "language_info": {
   "codemirror_mode": {
    "name": "ipython",
    "version": 3
   },
   "file_extension": ".py",
   "mimetype": "text/x-python",
   "name": "python",
   "nbconvert_exporter": "python",
   "pygments_lexer": "ipython3",
   "version": "3.12.4"
  }
 },
 "nbformat": 4,
 "nbformat_minor": 2
}
