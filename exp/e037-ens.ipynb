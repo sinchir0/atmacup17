{
 "cells": [
  {
   "cell_type": "code",
   "execution_count": 6,
   "metadata": {},
   "outputs": [],
   "source": [
    "EXP_NAME = \"e037-ens\""
   ]
  },
  {
   "cell_type": "code",
   "execution_count": 1,
   "metadata": {},
   "outputs": [],
   "source": [
    "import polars as pl"
   ]
  },
  {
   "cell_type": "markdown",
   "metadata": {},
   "source": [
    "# CVの計算を行う"
   ]
  },
  {
   "cell_type": "code",
   "execution_count": 2,
   "metadata": {},
   "outputs": [],
   "source": [
    "cv_fold0 = pl.read_csv(\n",
    "    \"../\" + \"trained_models/e037-use-all-info/valid_dataset_e037-use-all-info.csv\"\n",
    ")\n",
    "cv_fold1 = pl.read_csv(\n",
    "    \"../\"\n",
    "    + \"trained_models/e037-fold1-use-all-info/valid_dataset_e037-fold1-use-all-info.csv\"\n",
    ")\n",
    "cv_fold2 = pl.read_csv(\n",
    "    \"../\"\n",
    "    + \"trained_models/e037-fold2-use-all-info/valid_dataset_e037-fold2-use-all-info.csv\"\n",
    ")"
   ]
  },
  {
   "cell_type": "code",
   "execution_count": 3,
   "metadata": {},
   "outputs": [],
   "source": [
    "oof = pl.concat([cv_fold0, cv_fold1, cv_fold2])"
   ]
  },
  {
   "cell_type": "code",
   "execution_count": 4,
   "metadata": {},
   "outputs": [
    {
     "data": {
      "text/html": [
       "<div><style>\n",
       ".dataframe > thead > tr,\n",
       ".dataframe > tbody > tr {\n",
       "  text-align: right;\n",
       "  white-space: pre-wrap;\n",
       "}\n",
       "</style>\n",
       "<small>shape: (10_000, 13)</small><table border=\"1\" class=\"dataframe\"><thead><tr><th>index</th><th>Clothing ID</th><th>Age</th><th>Title</th><th>Review Text</th><th>Rating</th><th>label</th><th>Positive Feedback Count</th><th>Division Name</th><th>Department Name</th><th>Class Name</th><th>fold</th><th>valid_pred</th></tr><tr><td>i64</td><td>i64</td><td>i64</td><td>str</td><td>str</td><td>i64</td><td>i64</td><td>i64</td><td>str</td><td>str</td><td>str</td><td>i64</td><td>f64</td></tr></thead><tbody><tr><td>3</td><td>0</td><td>45</td><td>&quot;&quot;</td><td>&quot;I was really pleased with this…</td><td>5</td><td>1</td><td>9</td><td>&quot;General&quot;</td><td>&quot;Bottoms&quot;</td><td>&quot;Skirts&quot;</td><td>0</td><td>0.9974885</td></tr><tr><td>5</td><td>0</td><td>62</td><td>&quot;Beautiful day to evening skirt&quot;</td><td>&quot;A lovely skirt and i&#x27;m so glad…</td><td>4</td><td>1</td><td>0</td><td>&quot;General&quot;</td><td>&quot;Bottoms&quot;</td><td>&quot;Skirts&quot;</td><td>0</td><td>0.998319</td></tr><tr><td>6</td><td>0</td><td>73</td><td>&quot;Too small&quot;</td><td>&quot;I usually wear a 6 and ordered…</td><td>2</td><td>0</td><td>7</td><td>&quot;General&quot;</td><td>&quot;Bottoms&quot;</td><td>&quot;Skirts&quot;</td><td>0</td><td>0.161452</td></tr><tr><td>18</td><td>2</td><td>38</td><td>&quot;Amazing find!&quot;</td><td>&quot;I can?t describe my love for t…</td><td>5</td><td>1</td><td>0</td><td>&quot;General&quot;</td><td>&quot;Tops&quot;</td><td>&quot;Sweaters&quot;</td><td>0</td><td>0.998862</td></tr><tr><td>20</td><td>2</td><td>42</td><td>&quot;Cropped and boxy&quot;</td><td>&quot;It is a beautiful sweater, but…</td><td>2</td><td>0</td><td>0</td><td>&quot;General&quot;</td><td>&quot;Tops&quot;</td><td>&quot;Sweaters&quot;</td><td>0</td><td>0.04406</td></tr><tr><td>&hellip;</td><td>&hellip;</td><td>&hellip;</td><td>&hellip;</td><td>&hellip;</td><td>&hellip;</td><td>&hellip;</td><td>&hellip;</td><td>&hellip;</td><td>&hellip;</td><td>&hellip;</td><td>&hellip;</td><td>&hellip;</td></tr><tr><td>9988</td><td>232</td><td>45</td><td>&quot;Yes!&quot;</td><td>&quot;Oh my goodness, i paid full pr…</td><td>5</td><td>1</td><td>0</td><td>&quot;General&quot;</td><td>&quot;Dresses&quot;</td><td>&quot;Dresses&quot;</td><td>2</td><td>0.999013</td></tr><tr><td>9989</td><td>232</td><td>48</td><td>&quot;A colorful big box&quot;</td><td>&quot;Since this sold out so fast i …</td><td>1</td><td>0</td><td>0</td><td>&quot;General&quot;</td><td>&quot;Dresses&quot;</td><td>&quot;Dresses&quot;</td><td>2</td><td>0.029619</td></tr><tr><td>9992</td><td>232</td><td>52</td><td>&quot;Nicely fitted, lined dress but…</td><td>&quot;Great dress, nicely structured…</td><td>4</td><td>1</td><td>0</td><td>&quot;General&quot;</td><td>&quot;Dresses&quot;</td><td>&quot;Dresses&quot;</td><td>2</td><td>0.959724</td></tr><tr><td>9993</td><td>232</td><td>54</td><td>&quot;Love love love!&quot;</td><td>&quot;I love this dress! i was so ex…</td><td>4</td><td>1</td><td>0</td><td>&quot;General&quot;</td><td>&quot;Dresses&quot;</td><td>&quot;Dresses&quot;</td><td>2</td><td>0.9990471</td></tr><tr><td>9999</td><td>232</td><td>62</td><td>&quot;&quot;</td><td>&quot;I love this dress. very comfor…</td><td>5</td><td>1</td><td>2</td><td>&quot;General&quot;</td><td>&quot;Dresses&quot;</td><td>&quot;Dresses&quot;</td><td>2</td><td>0.9987576</td></tr></tbody></table></div>"
      ],
      "text/plain": [
       "shape: (10_000, 13)\n",
       "┌───────┬─────────────┬─────┬────────────────────┬───┬────────────┬────────────┬──────┬────────────┐\n",
       "│ index ┆ Clothing ID ┆ Age ┆ Title              ┆ … ┆ Department ┆ Class Name ┆ fold ┆ valid_pred │\n",
       "│ ---   ┆ ---         ┆ --- ┆ ---                ┆   ┆ Name       ┆ ---        ┆ ---  ┆ ---        │\n",
       "│ i64   ┆ i64         ┆ i64 ┆ str                ┆   ┆ ---        ┆ str        ┆ i64  ┆ f64        │\n",
       "│       ┆             ┆     ┆                    ┆   ┆ str        ┆            ┆      ┆            │\n",
       "╞═══════╪═════════════╪═════╪════════════════════╪═══╪════════════╪════════════╪══════╪════════════╡\n",
       "│ 3     ┆ 0           ┆ 45  ┆                    ┆ … ┆ Bottoms    ┆ Skirts     ┆ 0    ┆ 0.9974885  │\n",
       "│ 5     ┆ 0           ┆ 62  ┆ Beautiful day to   ┆ … ┆ Bottoms    ┆ Skirts     ┆ 0    ┆ 0.998319   │\n",
       "│       ┆             ┆     ┆ evening skirt      ┆   ┆            ┆            ┆      ┆            │\n",
       "│ 6     ┆ 0           ┆ 73  ┆ Too small          ┆ … ┆ Bottoms    ┆ Skirts     ┆ 0    ┆ 0.161452   │\n",
       "│ 18    ┆ 2           ┆ 38  ┆ Amazing find!      ┆ … ┆ Tops       ┆ Sweaters   ┆ 0    ┆ 0.998862   │\n",
       "│ 20    ┆ 2           ┆ 42  ┆ Cropped and boxy   ┆ … ┆ Tops       ┆ Sweaters   ┆ 0    ┆ 0.04406    │\n",
       "│ …     ┆ …           ┆ …   ┆ …                  ┆ … ┆ …          ┆ …          ┆ …    ┆ …          │\n",
       "│ 9988  ┆ 232         ┆ 45  ┆ Yes!               ┆ … ┆ Dresses    ┆ Dresses    ┆ 2    ┆ 0.999013   │\n",
       "│ 9989  ┆ 232         ┆ 48  ┆ A colorful big box ┆ … ┆ Dresses    ┆ Dresses    ┆ 2    ┆ 0.029619   │\n",
       "│ 9992  ┆ 232         ┆ 52  ┆ Nicely fitted,     ┆ … ┆ Dresses    ┆ Dresses    ┆ 2    ┆ 0.959724   │\n",
       "│       ┆             ┆     ┆ lined dress but…   ┆   ┆            ┆            ┆      ┆            │\n",
       "│ 9993  ┆ 232         ┆ 54  ┆ Love love love!    ┆ … ┆ Dresses    ┆ Dresses    ┆ 2    ┆ 0.9990471  │\n",
       "│ 9999  ┆ 232         ┆ 62  ┆                    ┆ … ┆ Dresses    ┆ Dresses    ┆ 2    ┆ 0.9987576  │\n",
       "└───────┴─────────────┴─────┴────────────────────┴───┴────────────┴────────────┴──────┴────────────┘"
      ]
     },
     "execution_count": 4,
     "metadata": {},
     "output_type": "execute_result"
    }
   ],
   "source": [
    "oof"
   ]
  },
  {
   "cell_type": "code",
   "execution_count": 9,
   "metadata": {},
   "outputs": [],
   "source": [
    "import os\n",
    "\n",
    "os.makedirs(\"../\" + f\"trained_models/{EXP_NAME}\", exist_ok=True)\n",
    "oof.write_csv(\"../\" + f\"trained_models/{EXP_NAME}/large-oof.csv\")"
   ]
  },
  {
   "cell_type": "code",
   "execution_count": 10,
   "metadata": {},
   "outputs": [
    {
     "name": "stdout",
     "output_type": "stream",
     "text": [
      "CV Score: 0.9696432121740296\n"
     ]
    }
   ],
   "source": [
    "from sklearn.metrics import roc_auc_score\n",
    "\n",
    "cv_score = roc_auc_score(oof[\"label\"], oof[\"valid_pred\"])\n",
    "print(f\"CV Score: {cv_score}\")"
   ]
  },
  {
   "cell_type": "code",
   "execution_count": 11,
   "metadata": {},
   "outputs": [],
   "source": [
    "pred_fold0 = pl.read_csv(\n",
    "    \"../\" + \"trained_models/e037-use-all-info/submission_e037-use-all-info_cv0.9756.csv\"\n",
    ")\n",
    "pred_fold1 = pl.read_csv(\n",
    "    \"../\"\n",
    "    + \"trained_models/e037-fold1-use-all-info/submission_e037-fold1-use-all-info_cv0.9681.csv\"\n",
    ")\n",
    "pred_fold2 = pl.read_csv(\n",
    "    \"../\"\n",
    "    + \"trained_models/e037-fold2-use-all-info/submission_e037-fold2-use-all-info_cv0.9697.csv\"\n",
    ")"
   ]
  },
  {
   "cell_type": "code",
   "execution_count": 16,
   "metadata": {},
   "outputs": [],
   "source": [
    "((pred_fold0 + pred_fold1 + pred_fold2) / 3).write_csv(\n",
    "    \"../\" + f\"trained_models/{EXP_NAME}/ens37-cv{cv_score:.4f}.csv\"\n",
    ")"
   ]
  },
  {
   "cell_type": "code",
   "execution_count": null,
   "metadata": {},
   "outputs": [],
   "source": []
  }
 ],
 "metadata": {
  "kernelspec": {
   "display_name": "base",
   "language": "python",
   "name": "python3"
  },
  "language_info": {
   "codemirror_mode": {
    "name": "ipython",
    "version": 3
   },
   "file_extension": ".py",
   "mimetype": "text/x-python",
   "name": "python",
   "nbconvert_exporter": "python",
   "pygments_lexer": "ipython3",
   "version": "3.10.14"
  }
 },
 "nbformat": 4,
 "nbformat_minor": 2
}
