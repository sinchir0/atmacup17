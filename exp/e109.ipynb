{
 "cells": [
  {
   "cell_type": "markdown",
   "metadata": {},
   "source": [
    "# 目的\n",
    "LightGBMによる2ndStage"
   ]
  },
  {
   "cell_type": "code",
   "execution_count": 26,
   "metadata": {},
   "outputs": [],
   "source": [
    "EXP_NAME = \"e109-add-llm-embedding\"\n",
    "COMPETITION_NAME = \"atmacup17\"\n",
    "\n",
    "DATA_PATH = \"data\"\n",
    "ENV_PATH = \"env_file\"\n",
    "MODEL_OUTPUT_PATH = f\"trained_models/{EXP_NAME}\"\n",
    "TARGET_COL = \"Recommended IND\"\n",
    "\n",
    "# experiment parameter\n",
    "DEBUG = False\n",
    "TRAINING = True\n",
    "UPLOAD_DATA_TO_S3 = True\n",
    "# UPLOAD_DATA_TO_KAGGLE = True\n",
    "WANDB = True"
   ]
  },
  {
   "cell_type": "code",
   "execution_count": 27,
   "metadata": {},
   "outputs": [],
   "source": [
    "import polars as pl\n",
    "import numpy as np\n",
    "\n",
    "from sklearn.model_selection import KFold, train_test_split\n",
    "from sklearn.metrics import roc_auc_score\n",
    "\n",
    "import lightgbm as lgb\n",
    "\n",
    "import seaborn as sns"
   ]
  },
  {
   "cell_type": "code",
   "execution_count": 28,
   "metadata": {},
   "outputs": [
    {
     "data": {
      "text/plain": [
       "'1.0.0'"
      ]
     },
     "execution_count": 28,
     "metadata": {},
     "output_type": "execute_result"
    }
   ],
   "source": [
    "pl.__version__"
   ]
  },
  {
   "cell_type": "code",
   "execution_count": 29,
   "metadata": {},
   "outputs": [
    {
     "data": {
      "text/plain": [
       "'4.5.0'"
      ]
     },
     "execution_count": 29,
     "metadata": {},
     "output_type": "execute_result"
    }
   ],
   "source": [
    "lgb.__version__"
   ]
  },
  {
   "cell_type": "code",
   "execution_count": null,
   "metadata": {},
   "outputs": [],
   "source": []
  },
  {
   "cell_type": "code",
   "execution_count": 30,
   "metadata": {},
   "outputs": [
    {
     "name": "stdout",
     "output_type": "stream",
     "text": [
      "/home/shinichiro.saito/atmacup17/exp\n",
      "GCP!\n",
      "/home/shinichiro.saito/atmacup17/data\n",
      "/home/shinichiro.saito/atmacup17/exp\n",
      "GCP!\n",
      "/home/shinichiro.saito/atmacup17/trained_models/e109-add-llm-embedding\n",
      "/home/shinichiro.saito/atmacup17/exp\n",
      "GCP!\n"
     ]
    }
   ],
   "source": [
    "def resolve_path(base_path: str) -> str:\n",
    "    import os\n",
    "\n",
    "    cwd = os.getcwd()\n",
    "    print(cwd)\n",
    "    if cwd == f\"/notebooks\":\n",
    "        print(\"Jupyter Kernel By VSCode!\")\n",
    "        return \"kernel\", f\"/notebooks/{COMPETITION_NAME}/{base_path}\"\n",
    "    elif cwd == f\"/notebooks/{COMPETITION_NAME}\":\n",
    "        print(\"nohup!\")\n",
    "        return base_path\n",
    "    elif cwd == f\"/notebooks/{COMPETITION_NAME}/{COMPETITION_NAME}/exp\":\n",
    "        print(\"Jupyter Lab!\")\n",
    "        return \"nohup\", f\"../../{base_path}\"\n",
    "    elif cwd == f\"/content\":\n",
    "        print(\"Google Colab!\")\n",
    "        return \"colab\", f\"/content/drive/MyDrive/Kaggle/{COMPETITION_NAME}/{base_path}\"\n",
    "    elif cwd.startswith(\"/home/shinichiro.saito\"):\n",
    "        print(\"GCP!\")\n",
    "        return \"GCP\", f\"/home/shinichiro.saito/{COMPETITION_NAME}/{base_path}\"\n",
    "    else:\n",
    "        raise Exception(\"Unknown environment\")\n",
    "\n",
    "\n",
    "ENV_NAME, DATA_PATH = resolve_path(DATA_PATH)\n",
    "print(DATA_PATH)\n",
    "_, MODEL_OUTPUT_PATH = resolve_path(MODEL_OUTPUT_PATH)\n",
    "print(MODEL_OUTPUT_PATH)\n",
    "_, ENV_PATH = resolve_path(ENV_PATH)"
   ]
  },
  {
   "cell_type": "code",
   "execution_count": 31,
   "metadata": {},
   "outputs": [],
   "source": [
    "import json\n",
    "\n",
    "with open(f\"{DATA_PATH}/rec_stratified_fold.json\") as f:\n",
    "    label_stratified_fold = json.load(f)"
   ]
  },
  {
   "cell_type": "code",
   "execution_count": 32,
   "metadata": {},
   "outputs": [],
   "source": [
    "train = pl.read_csv(f\"{DATA_PATH}/train_with_index.csv\")\n",
    "test = pl.read_csv(f\"{DATA_PATH}/test.csv\")\n",
    "clothing_master = pl.read_csv(f\"{DATA_PATH}/clothing_master.csv\")\n",
    "\n",
    "train = train.join(clothing_master, on=\"Clothing ID\", how=\"left\").with_columns(\n",
    "    pl.col(\"index\").replace(label_stratified_fold).alias(\"fold\"),  # foldを追加する\n",
    "    pl.col(\"Clothing ID\").cast(pl.String),\n",
    ")\n",
    "test = test.join(clothing_master, on=\"Clothing ID\", how=\"left\").with_columns(\n",
    "    pl.col(\"Clothing ID\").cast(pl.String),\n",
    ")"
   ]
  },
  {
   "cell_type": "code",
   "execution_count": 33,
   "metadata": {},
   "outputs": [
    {
     "data": {
      "text/html": [
       "<div><style>\n",
       ".dataframe > thead > tr,\n",
       ".dataframe > tbody > tr {\n",
       "  text-align: right;\n",
       "  white-space: pre-wrap;\n",
       "}\n",
       "</style>\n",
       "<small>shape: (10_000, 12)</small><table border=\"1\" class=\"dataframe\"><thead><tr><th>index</th><th>Clothing ID</th><th>Age</th><th>Title</th><th>Review Text</th><th>Rating</th><th>Recommended IND</th><th>Positive Feedback Count</th><th>Division Name</th><th>Department Name</th><th>Class Name</th><th>fold</th></tr><tr><td>i64</td><td>str</td><td>i64</td><td>str</td><td>str</td><td>i64</td><td>i64</td><td>i64</td><td>str</td><td>str</td><td>str</td><td>i64</td></tr></thead><tbody><tr><td>0</td><td>&quot;0&quot;</td><td>25</td><td>&quot;3-season skirt!&quot;</td><td>&quot;Adorable, well-made skirt! lin…</td><td>5</td><td>1</td><td>4</td><td>&quot;General&quot;</td><td>&quot;Bottoms&quot;</td><td>&quot;Skirts&quot;</td><td>2</td></tr><tr><td>1</td><td>&quot;0&quot;</td><td>39</td><td>&quot;Very cute&quot;</td><td>&quot;Love the asymmetrical hem. wai…</td><td>5</td><td>1</td><td>0</td><td>&quot;General&quot;</td><td>&quot;Bottoms&quot;</td><td>&quot;Skirts&quot;</td><td>2</td></tr><tr><td>2</td><td>&quot;0&quot;</td><td>42</td><td>&quot;Beautiful! fruns small for typ…</td><td>&quot;I love this skirt! i wasn&#x27;t su…</td><td>5</td><td>1</td><td>5</td><td>&quot;General&quot;</td><td>&quot;Bottoms&quot;</td><td>&quot;Skirts&quot;</td><td>1</td></tr><tr><td>3</td><td>&quot;0&quot;</td><td>45</td><td>null</td><td>&quot;I was really pleased with this…</td><td>5</td><td>1</td><td>9</td><td>&quot;General&quot;</td><td>&quot;Bottoms&quot;</td><td>&quot;Skirts&quot;</td><td>0</td></tr><tr><td>4</td><td>&quot;0&quot;</td><td>57</td><td>&quot;Unique, pretty asymmetric skir…</td><td>&quot;I saw this skirt in retailer s…</td><td>5</td><td>1</td><td>1</td><td>&quot;General&quot;</td><td>&quot;Bottoms&quot;</td><td>&quot;Skirts&quot;</td><td>1</td></tr><tr><td>&hellip;</td><td>&hellip;</td><td>&hellip;</td><td>&hellip;</td><td>&hellip;</td><td>&hellip;</td><td>&hellip;</td><td>&hellip;</td><td>&hellip;</td><td>&hellip;</td><td>&hellip;</td><td>&hellip;</td></tr><tr><td>9995</td><td>&quot;232&quot;</td><td>57</td><td>&quot;Runs big on top&quot;</td><td>null</td><td>3</td><td>1</td><td>5</td><td>&quot;General&quot;</td><td>&quot;Dresses&quot;</td><td>&quot;Dresses&quot;</td><td>1</td></tr><tr><td>9996</td><td>&quot;232&quot;</td><td>58</td><td>null</td><td>&quot;I loved the dress, but just no…</td><td>1</td><td>1</td><td>5</td><td>&quot;General&quot;</td><td>&quot;Dresses&quot;</td><td>&quot;Dresses&quot;</td><td>0</td></tr><tr><td>9997</td><td>&quot;232&quot;</td><td>60</td><td>&quot;I was really disappointed&quot;</td><td>&quot;I was really hoping this dress…</td><td>2</td><td>0</td><td>7</td><td>&quot;General&quot;</td><td>&quot;Dresses&quot;</td><td>&quot;Dresses&quot;</td><td>1</td></tr><tr><td>9998</td><td>&quot;232&quot;</td><td>62</td><td>&quot;Too heavy&quot;</td><td>&quot;The design is beautiful but it…</td><td>2</td><td>0</td><td>0</td><td>&quot;General&quot;</td><td>&quot;Dresses&quot;</td><td>&quot;Dresses&quot;</td><td>1</td></tr><tr><td>9999</td><td>&quot;232&quot;</td><td>62</td><td>null</td><td>&quot;I love this dress. very comfor…</td><td>5</td><td>1</td><td>2</td><td>&quot;General&quot;</td><td>&quot;Dresses&quot;</td><td>&quot;Dresses&quot;</td><td>2</td></tr></tbody></table></div>"
      ],
      "text/plain": [
       "shape: (10_000, 12)\n",
       "┌───────┬─────────────┬─────┬─────────────────┬───┬──────────┬─────────────────┬────────────┬──────┐\n",
       "│ index ┆ Clothing ID ┆ Age ┆ Title           ┆ … ┆ Division ┆ Department Name ┆ Class Name ┆ fold │\n",
       "│ ---   ┆ ---         ┆ --- ┆ ---             ┆   ┆ Name     ┆ ---             ┆ ---        ┆ ---  │\n",
       "│ i64   ┆ str         ┆ i64 ┆ str             ┆   ┆ ---      ┆ str             ┆ str        ┆ i64  │\n",
       "│       ┆             ┆     ┆                 ┆   ┆ str      ┆                 ┆            ┆      │\n",
       "╞═══════╪═════════════╪═════╪═════════════════╪═══╪══════════╪═════════════════╪════════════╪══════╡\n",
       "│ 0     ┆ 0           ┆ 25  ┆ 3-season skirt! ┆ … ┆ General  ┆ Bottoms         ┆ Skirts     ┆ 2    │\n",
       "│ 1     ┆ 0           ┆ 39  ┆ Very cute       ┆ … ┆ General  ┆ Bottoms         ┆ Skirts     ┆ 2    │\n",
       "│ 2     ┆ 0           ┆ 42  ┆ Beautiful!      ┆ … ┆ General  ┆ Bottoms         ┆ Skirts     ┆ 1    │\n",
       "│       ┆             ┆     ┆ fruns small for ┆   ┆          ┆                 ┆            ┆      │\n",
       "│       ┆             ┆     ┆ typ…            ┆   ┆          ┆                 ┆            ┆      │\n",
       "│ 3     ┆ 0           ┆ 45  ┆ null            ┆ … ┆ General  ┆ Bottoms         ┆ Skirts     ┆ 0    │\n",
       "│ 4     ┆ 0           ┆ 57  ┆ Unique, pretty  ┆ … ┆ General  ┆ Bottoms         ┆ Skirts     ┆ 1    │\n",
       "│       ┆             ┆     ┆ asymmetric      ┆   ┆          ┆                 ┆            ┆      │\n",
       "│       ┆             ┆     ┆ skir…           ┆   ┆          ┆                 ┆            ┆      │\n",
       "│ …     ┆ …           ┆ …   ┆ …               ┆ … ┆ …        ┆ …               ┆ …          ┆ …    │\n",
       "│ 9995  ┆ 232         ┆ 57  ┆ Runs big on top ┆ … ┆ General  ┆ Dresses         ┆ Dresses    ┆ 1    │\n",
       "│ 9996  ┆ 232         ┆ 58  ┆ null            ┆ … ┆ General  ┆ Dresses         ┆ Dresses    ┆ 0    │\n",
       "│ 9997  ┆ 232         ┆ 60  ┆ I was really    ┆ … ┆ General  ┆ Dresses         ┆ Dresses    ┆ 1    │\n",
       "│       ┆             ┆     ┆ disappointed    ┆   ┆          ┆                 ┆            ┆      │\n",
       "│ 9998  ┆ 232         ┆ 62  ┆ Too heavy       ┆ … ┆ General  ┆ Dresses         ┆ Dresses    ┆ 1    │\n",
       "│ 9999  ┆ 232         ┆ 62  ┆ null            ┆ … ┆ General  ┆ Dresses         ┆ Dresses    ┆ 2    │\n",
       "└───────┴─────────────┴─────┴─────────────────┴───┴──────────┴─────────────────┴────────────┴──────┘"
      ]
     },
     "execution_count": 33,
     "metadata": {},
     "output_type": "execute_result"
    }
   ],
   "source": [
    "train"
   ]
  },
  {
   "cell_type": "markdown",
   "metadata": {},
   "source": [
    "# feature engineering"
   ]
  },
  {
   "cell_type": "markdown",
   "metadata": {},
   "source": [
    "## DeBERTa xsmall oof pred"
   ]
  },
  {
   "cell_type": "code",
   "execution_count": 34,
   "metadata": {},
   "outputs": [],
   "source": [
    "xsmall_oof = pl.read_csv(\n",
    "    f\"../trained_models/e004-0-1-2-ens/xsmall-fold-fix-oof.csv\"\n",
    ").rename({\"valid_pred\": \"xsmall_pred\"})\n",
    "\n",
    "xsmall_pred = pl.read_csv(\n",
    "    f\"../trained_models/e004-0-1-2-ens/e004-0-1-2-ens-cv0.9590.csv\"\n",
    ")"
   ]
  },
  {
   "cell_type": "code",
   "execution_count": 35,
   "metadata": {},
   "outputs": [],
   "source": [
    "train = train.join(\n",
    "    xsmall_oof.select(pl.col([\"index\", \"xsmall_pred\"])), on=\"index\", how=\"left\"\n",
    ")\n",
    "test = test.with_columns(pl.Series(xsmall_pred).alias(\"xsmall_pred\"))"
   ]
  },
  {
   "cell_type": "markdown",
   "metadata": {},
   "source": [
    "# DeBERTa(all_info auxiliary loss) large oof pred"
   ]
  },
  {
   "cell_type": "code",
   "execution_count": 36,
   "metadata": {},
   "outputs": [],
   "source": [
    "large_aux_oof_fold0 = pl.read_csv(\n",
    "    \"../trained_models/e032-lrg-fold0/valid_dataset_e032-lrg-fold0.csv\"\n",
    ")\n",
    "large_aux_oof_fold1 = pl.read_csv(\n",
    "    \"../trained_models/e033-lrg-fold1/valid_dataset_e033-lrg-fold1.csv\"\n",
    ")\n",
    "large_aux_oof_fold2 = pl.read_csv(\n",
    "    \"../trained_models/e034-lrg-fold2/valid_dataset_e034-lrg-fold2.csv\"\n",
    ")\n",
    "\n",
    "large_aux_pred_fold0 = pl.read_csv(\n",
    "    \"../trained_models/e032-lrg-fold0/submission_e032-lrg-fold0_cv0.9720.csv\"\n",
    ")\n",
    "large_aux_pred_fold1 = pl.read_csv(\n",
    "    \"../trained_models/e033-lrg-fold1/submission_e033-lrg-fold1_cv0.9715.csv\"\n",
    ")\n",
    "large_aux_pred_fold2 = pl.read_csv(\n",
    "    \"../trained_models/e034-lrg-fold2/submission_e034-lrg-fold2_cv0.9669.csv\"\n",
    ")\n",
    "\n",
    "large_aux_oof = pl.concat(\n",
    "    [large_aux_oof_fold0, large_aux_oof_fold1, large_aux_oof_fold2], how=\"vertical\"\n",
    ")\n",
    "large_aux_pred = (\n",
    "    large_aux_pred_fold0 + large_aux_pred_fold1 + large_aux_pred_fold2\n",
    ") / 3"
   ]
  },
  {
   "cell_type": "code",
   "execution_count": 37,
   "metadata": {},
   "outputs": [],
   "source": [
    "train = train.join(\n",
    "    large_aux_oof.select(pl.col([\"index\", \"valid_pred\"])), on=\"index\", how=\"left\"\n",
    ").rename({\"valid_pred\": \"large_aux_pred\"})\n",
    "test = test.with_columns(pl.Series(large_aux_pred).alias(\"large_aux_pred\"))"
   ]
  },
  {
   "cell_type": "markdown",
   "metadata": {},
   "source": [
    "# LLM Embedding"
   ]
  },
  {
   "cell_type": "code",
   "execution_count": 38,
   "metadata": {},
   "outputs": [],
   "source": [
    "train_emb = np.load(f\"{DATA_PATH}/train_embeddings.npy\")\n",
    "test_emb = np.load(f\"{DATA_PATH}/test_embeddings.npy\")"
   ]
  },
  {
   "cell_type": "code",
   "execution_count": 39,
   "metadata": {},
   "outputs": [
    {
     "name": "stdout",
     "output_type": "stream",
     "text": [
      "(10000, 4096)\n",
      "(11155, 4096)\n"
     ]
    }
   ],
   "source": [
    "print(train_emb.shape)\n",
    "print(test_emb.shape)"
   ]
  },
  {
   "cell_type": "code",
   "execution_count": 40,
   "metadata": {},
   "outputs": [],
   "source": [
    "train_emb = pl.DataFrame(train_emb, schema=[f\"llm_{i}\" for i in range(4096)])\n",
    "test_emb = pl.DataFrame(test_emb, schema=[f\"llm_{i}\" for i in range(4096)])"
   ]
  },
  {
   "cell_type": "code",
   "execution_count": 41,
   "metadata": {},
   "outputs": [],
   "source": [
    "train = pl.concat([train, train_emb], how=\"horizontal\")\n",
    "test = pl.concat([test, test_emb], how=\"horizontal\")"
   ]
  },
  {
   "cell_type": "code",
   "execution_count": 43,
   "metadata": {},
   "outputs": [],
   "source": [
    "USE_COL = [\n",
    "    \"Clothing ID\",\n",
    "    \"Age\",\n",
    "    \"Positive Feedback Count\",\n",
    "    \"Division Name\",\n",
    "    \"Department Name\",\n",
    "    \"Class Name\",\n",
    "    \"xsmall_pred\",\n",
    "    \"large_aux_pred\",\n",
    "]\n",
    "USE_COL += [f\"llm_{i}\" for i in range(4096)]\n",
    "CATEGORICAL_FEATURE = [\"Clothing ID\", \"Division Name\", \"Department Name\", \"Class Name\"]\n",
    "TARGET_COL = \"Recommended IND\"\n",
    "FOLD_NUM = 3\n",
    "SEED = 42"
   ]
  },
  {
   "cell_type": "code",
   "execution_count": 44,
   "metadata": {},
   "outputs": [],
   "source": [
    "# Categorical型への変換\n",
    "train = train.with_columns(pl.col(CATEGORICAL_FEATURE).cast(pl.Categorical))\n",
    "test = test.with_columns(pl.col(CATEGORICAL_FEATURE).cast(pl.Categorical))"
   ]
  },
  {
   "cell_type": "code",
   "execution_count": 47,
   "metadata": {},
   "outputs": [],
   "source": [
    "# LightGBMで用いるパラメータを指定\n",
    "params = {\n",
    "    \"objective\": \"binary\",\n",
    "    \"metric\": \"auc\",\n",
    "    \"max_depth\": -1,\n",
    "    \"min_data_in_leaf\": 10,  # 1つの葉に入る最小のデータ数\n",
    "    \"num_leaves\": 24,  # 2**max_depthより少し小さめにすると過学習を防げる\n",
    "    \"learning_rate\": 0.01,  # 1回のiterationで学習を進める割合、大きいと学習が早く終わる。小さいと学習は長いが高精度になりやすい。\n",
    "    \"bagging_freq\": 5,  # 指定した回数ごとにbaggingを行う\n",
    "    \"feature_fraction\": 0.9,  # 1回のiterationで利用する特徴量(列方向)の割合\n",
    "    \"bagging_fraction\": 0.8,  # 1回のiterationで利用するデータ(行方向)の割合\n",
    "    \"verbose\": -1,  # 出力するログレベルの変更、-1はFatalなログのみを出力\n",
    "    \"seed\": SEED,  # ランダムシードの固定\n",
    "    \"lambda_l1\": 0.4,  # 正則化のためのパラメータ\n",
    "    \"lambda_l2\": 0.4,  # 正則化のためのパラメータ\n",
    "}"
   ]
  },
  {
   "cell_type": "code",
   "execution_count": 48,
   "metadata": {},
   "outputs": [
    {
     "name": "stdout",
     "output_type": "stream",
     "text": [
      "Start fold 0\n",
      "Training until validation scores don't improve for 100 rounds\n",
      "[100]\ttraining's auc: 0.988504\tvalid_1's auc: 0.972751\n",
      "Early stopping, best iteration is:\n",
      "[80]\ttraining's auc: 0.987655\tvalid_1's auc: 0.973014\n",
      "Start fold 1\n",
      "Training until validation scores don't improve for 100 rounds\n",
      "[100]\ttraining's auc: 0.988764\tvalid_1's auc: 0.971269\n",
      "Early stopping, best iteration is:\n",
      "[73]\ttraining's auc: 0.987887\tvalid_1's auc: 0.971491\n",
      "Start fold 2\n",
      "Training until validation scores don't improve for 100 rounds\n",
      "[100]\ttraining's auc: 0.989698\tvalid_1's auc: 0.96545\n",
      "[200]\ttraining's auc: 0.994414\tvalid_1's auc: 0.965403\n",
      "Early stopping, best iteration is:\n",
      "[115]\ttraining's auc: 0.990368\tvalid_1's auc: 0.965708\n"
     ]
    }
   ],
   "source": [
    "# テストデータに対する推論、特徴量重要度(後述)を計算するために、モデルを保存するobjectを作成\n",
    "models = []\n",
    "\n",
    "# Cross Validationによる学習の実施\n",
    "for fold in range(FOLD_NUM):\n",
    "    print(f\"Start fold {fold}\")\n",
    "\n",
    "    # foldごとにtrainとvalidに分ける\n",
    "    train_fold = train.filter(pl.col(\"fold\") != fold)\n",
    "    valid_fold = train.filter(pl.col(\"fold\") == fold)\n",
    "\n",
    "    # X(説明変数)とy(目的変数)に分ける\n",
    "    X_train = train_fold.select(USE_COL)\n",
    "    X_valid = valid_fold.select(USE_COL)\n",
    "    y_train = train_fold.select(TARGET_COL)\n",
    "    y_valid = valid_fold.select(TARGET_COL)\n",
    "\n",
    "    # LightGBMが認識可能な形にデータセットを変換\n",
    "    lgb_train = lgb.Dataset(X_train.to_pandas(), y_train.to_pandas())\n",
    "    lgb_eval = lgb.Dataset(\n",
    "        X_valid.to_pandas(), y_valid.to_pandas(), reference=lgb_train\n",
    "    )\n",
    "\n",
    "    # モデルの学習\n",
    "    model = lgb.train(\n",
    "        params,\n",
    "        lgb_train,\n",
    "        num_boost_round=10000,  # 学習のiteration回数\n",
    "        valid_sets=[lgb_train, lgb_eval],\n",
    "        callbacks=[\n",
    "            lgb.early_stopping(\n",
    "                stopping_rounds=100\n",
    "            ),  # Early stopingの回数、binary_loglossが改善しないiterationが100回続いたら学習を止める\n",
    "            lgb.log_evaluation(100),  # 指定したiteration回数ごとにlogを出力する\n",
    "        ],\n",
    "    )\n",
    "\n",
    "    # モデルを保存\n",
    "    models.append([fold, model])"
   ]
  },
  {
   "cell_type": "code",
   "execution_count": 49,
   "metadata": {},
   "outputs": [
    {
     "name": "stdout",
     "output_type": "stream",
     "text": [
      "fold 0 Score: 0.9730135942453061\n",
      "fold 1 Score: 0.9714905237087416\n",
      "fold 2 Score: 0.9657079038094459\n"
     ]
    }
   ],
   "source": [
    "# 学習データ全体に対する推論結果を保存するobjectを作成\n",
    "oof = np.zeros((len(train)))\n",
    "\n",
    "scores = []\n",
    "# foldの値と学習済みモデルを利用し、モデルの評価を行う\n",
    "for fold, model in models:\n",
    "    valid_fold = train.filter(pl.col(\"fold\") == fold)\n",
    "\n",
    "    X_valid = valid_fold.select(USE_COL)\n",
    "    y_valid = valid_fold.select(TARGET_COL)\n",
    "\n",
    "    # validデータに対する推論\n",
    "    y_valid_pred = model.predict(\n",
    "        X_valid.to_pandas(), num_iteration=model.best_iteration\n",
    "    )\n",
    "\n",
    "    score = roc_auc_score(y_valid, y_valid_pred)\n",
    "    scores.append(score)\n",
    "    print(f\"fold {fold} Score: {score}\")\n",
    "\n",
    "    is_valid = train.get_column(\"fold\") == fold\n",
    "    oof[is_valid] = y_valid_pred"
   ]
  },
  {
   "cell_type": "code",
   "execution_count": 50,
   "metadata": {},
   "outputs": [
    {
     "data": {
      "text/plain": [
       "0.9700706739211645"
      ]
     },
     "execution_count": 50,
     "metadata": {},
     "output_type": "execute_result"
    }
   ],
   "source": [
    "# cv_score = roc_auc_score(train.get_column(TARGET_COL), oof)\n",
    "# cv_score\n",
    "# foldごとの平均をとる\n",
    "cv_score = np.mean(scores)\n",
    "cv_score"
   ]
  },
  {
   "cell_type": "code",
   "execution_count": 51,
   "metadata": {},
   "outputs": [
    {
     "ename": "KeyboardInterrupt",
     "evalue": "",
     "output_type": "error",
     "traceback": [
      "\u001b[0;31m---------------------------------------------------------------------------\u001b[0m",
      "\u001b[0;31mKeyboardInterrupt\u001b[0m                         Traceback (most recent call last)",
      "\u001b[0;32m/var/tmp/ipykernel_448060/639333863.py\u001b[0m in \u001b[0;36m?\u001b[0;34m()\u001b[0m\n\u001b[1;32m      6\u001b[0m \u001b[0mfeature_importances_df\u001b[0m \u001b[0;34m=\u001b[0m \u001b[0mpd\u001b[0m\u001b[0;34m.\u001b[0m\u001b[0mDataFrame\u001b[0m\u001b[0;34m(\u001b[0m\u001b[0mfeature_importances\u001b[0m\u001b[0;34m,\u001b[0m \u001b[0mcolumns\u001b[0m\u001b[0;34m=\u001b[0m\u001b[0mUSE_COL\u001b[0m\u001b[0;34m)\u001b[0m\u001b[0;34m\u001b[0m\u001b[0;34m\u001b[0m\u001b[0m\n\u001b[1;32m      7\u001b[0m \u001b[0;34m\u001b[0m\u001b[0m\n\u001b[1;32m      8\u001b[0m \u001b[0morder\u001b[0m \u001b[0;34m=\u001b[0m \u001b[0mfeature_importances_df\u001b[0m\u001b[0;34m.\u001b[0m\u001b[0mmean\u001b[0m\u001b[0;34m(\u001b[0m\u001b[0;34m)\u001b[0m\u001b[0;34m.\u001b[0m\u001b[0msort_values\u001b[0m\u001b[0;34m(\u001b[0m\u001b[0mascending\u001b[0m\u001b[0;34m=\u001b[0m\u001b[0;32mFalse\u001b[0m\u001b[0;34m)\u001b[0m\u001b[0;34m.\u001b[0m\u001b[0mindex\u001b[0m\u001b[0;34m.\u001b[0m\u001b[0mtolist\u001b[0m\u001b[0;34m(\u001b[0m\u001b[0;34m)\u001b[0m\u001b[0;34m\u001b[0m\u001b[0;34m\u001b[0m\u001b[0m\n\u001b[1;32m      9\u001b[0m \u001b[0;34m\u001b[0m\u001b[0m\n\u001b[0;32m---> 10\u001b[0;31m \u001b[0msns\u001b[0m\u001b[0;34m.\u001b[0m\u001b[0mboxplot\u001b[0m\u001b[0;34m(\u001b[0m\u001b[0mdata\u001b[0m\u001b[0;34m=\u001b[0m\u001b[0mfeature_importances_df\u001b[0m\u001b[0;34m,\u001b[0m \u001b[0morient\u001b[0m\u001b[0;34m=\u001b[0m\u001b[0;34m\"h\"\u001b[0m\u001b[0;34m,\u001b[0m \u001b[0morder\u001b[0m\u001b[0;34m=\u001b[0m\u001b[0morder\u001b[0m\u001b[0;34m)\u001b[0m\u001b[0;34m\u001b[0m\u001b[0;34m\u001b[0m\u001b[0m\n\u001b[0m",
      "\u001b[0;32m/opt/conda/lib/python3.10/site-packages/seaborn/categorical.py\u001b[0m in \u001b[0;36m?\u001b[0;34m(data, x, y, hue, order, hue_order, orient, color, palette, saturation, fill, dodge, width, gap, whis, linecolor, linewidth, fliersize, hue_norm, native_scale, log_scale, formatter, legend, ax, **kwargs)\u001b[0m\n\u001b[1;32m   1630\u001b[0m         \u001b[0msaturation\u001b[0m\u001b[0;34m=\u001b[0m\u001b[0msaturation\u001b[0m\u001b[0;34m,\u001b[0m\u001b[0;34m\u001b[0m\u001b[0;34m\u001b[0m\u001b[0m\n\u001b[1;32m   1631\u001b[0m     )\n\u001b[1;32m   1632\u001b[0m     \u001b[0mlinecolor\u001b[0m \u001b[0;34m=\u001b[0m \u001b[0mp\u001b[0m\u001b[0;34m.\u001b[0m\u001b[0m_complement_color\u001b[0m\u001b[0;34m(\u001b[0m\u001b[0mlinecolor\u001b[0m\u001b[0;34m,\u001b[0m \u001b[0mcolor\u001b[0m\u001b[0;34m,\u001b[0m \u001b[0mp\u001b[0m\u001b[0;34m.\u001b[0m\u001b[0m_hue_map\u001b[0m\u001b[0;34m)\u001b[0m\u001b[0;34m\u001b[0m\u001b[0;34m\u001b[0m\u001b[0m\n\u001b[1;32m   1633\u001b[0m \u001b[0;34m\u001b[0m\u001b[0m\n\u001b[0;32m-> 1634\u001b[0;31m     p.plot_boxes(\n\u001b[0m\u001b[1;32m   1635\u001b[0m         \u001b[0mwidth\u001b[0m\u001b[0;34m=\u001b[0m\u001b[0mwidth\u001b[0m\u001b[0;34m,\u001b[0m\u001b[0;34m\u001b[0m\u001b[0;34m\u001b[0m\u001b[0m\n\u001b[1;32m   1636\u001b[0m         \u001b[0mdodge\u001b[0m\u001b[0;34m=\u001b[0m\u001b[0mdodge\u001b[0m\u001b[0;34m,\u001b[0m\u001b[0;34m\u001b[0m\u001b[0;34m\u001b[0m\u001b[0m\n\u001b[1;32m   1637\u001b[0m         \u001b[0mgap\u001b[0m\u001b[0;34m=\u001b[0m\u001b[0mgap\u001b[0m\u001b[0;34m,\u001b[0m\u001b[0;34m\u001b[0m\u001b[0;34m\u001b[0m\u001b[0m\n",
      "\u001b[0;32m/opt/conda/lib/python3.10/site-packages/seaborn/categorical.py\u001b[0m in \u001b[0;36m?\u001b[0;34m(self, width, dodge, gap, fill, whis, color, linecolor, linewidth, fliersize, plot_kws)\u001b[0m\n\u001b[1;32m    647\u001b[0m             \u001b[0;32mif\u001b[0m \u001b[0mgap\u001b[0m\u001b[0;34m:\u001b[0m\u001b[0;34m\u001b[0m\u001b[0;34m\u001b[0m\u001b[0m\n\u001b[1;32m    648\u001b[0m                 \u001b[0mdata\u001b[0m\u001b[0;34m[\u001b[0m\u001b[0;34m\"width\"\u001b[0m\u001b[0;34m]\u001b[0m \u001b[0;34m*=\u001b[0m \u001b[0;36m1\u001b[0m \u001b[0;34m-\u001b[0m \u001b[0mgap\u001b[0m\u001b[0;34m\u001b[0m\u001b[0;34m\u001b[0m\u001b[0m\n\u001b[1;32m    649\u001b[0m             \u001b[0mcapwidth\u001b[0m \u001b[0;34m=\u001b[0m \u001b[0mplot_kws\u001b[0m\u001b[0;34m.\u001b[0m\u001b[0mget\u001b[0m\u001b[0;34m(\u001b[0m\u001b[0;34m\"capwidths\"\u001b[0m\u001b[0;34m,\u001b[0m \u001b[0;36m0.5\u001b[0m \u001b[0;34m*\u001b[0m \u001b[0mdata\u001b[0m\u001b[0;34m[\u001b[0m\u001b[0;34m\"width\"\u001b[0m\u001b[0;34m]\u001b[0m\u001b[0;34m)\u001b[0m\u001b[0;34m\u001b[0m\u001b[0;34m\u001b[0m\u001b[0m\n\u001b[1;32m    650\u001b[0m \u001b[0;34m\u001b[0m\u001b[0m\n\u001b[0;32m--> 651\u001b[0;31m             \u001b[0mself\u001b[0m\u001b[0;34m.\u001b[0m\u001b[0m_invert_scale\u001b[0m\u001b[0;34m(\u001b[0m\u001b[0max\u001b[0m\u001b[0;34m,\u001b[0m \u001b[0mdata\u001b[0m\u001b[0;34m)\u001b[0m\u001b[0;34m\u001b[0m\u001b[0;34m\u001b[0m\u001b[0m\n\u001b[0m\u001b[1;32m    652\u001b[0m             \u001b[0m_\u001b[0m\u001b[0;34m,\u001b[0m \u001b[0minv\u001b[0m \u001b[0;34m=\u001b[0m \u001b[0m_get_transform_functions\u001b[0m\u001b[0;34m(\u001b[0m\u001b[0max\u001b[0m\u001b[0;34m,\u001b[0m \u001b[0mvalue_var\u001b[0m\u001b[0;34m)\u001b[0m\u001b[0;34m\u001b[0m\u001b[0;34m\u001b[0m\u001b[0m\n\u001b[1;32m    653\u001b[0m             \u001b[0;32mfor\u001b[0m \u001b[0mstat\u001b[0m \u001b[0;32min\u001b[0m \u001b[0;34m[\u001b[0m\u001b[0;34m\"mean\"\u001b[0m\u001b[0;34m,\u001b[0m \u001b[0;34m\"med\"\u001b[0m\u001b[0;34m,\u001b[0m \u001b[0;34m\"q1\"\u001b[0m\u001b[0;34m,\u001b[0m \u001b[0;34m\"q3\"\u001b[0m\u001b[0;34m,\u001b[0m \u001b[0;34m\"cilo\"\u001b[0m\u001b[0;34m,\u001b[0m \u001b[0;34m\"cihi\"\u001b[0m\u001b[0;34m,\u001b[0m \u001b[0;34m\"whislo\"\u001b[0m\u001b[0;34m,\u001b[0m \u001b[0;34m\"whishi\"\u001b[0m\u001b[0;34m]\u001b[0m\u001b[0;34m:\u001b[0m\u001b[0;34m\u001b[0m\u001b[0;34m\u001b[0m\u001b[0m\n\u001b[1;32m    654\u001b[0m                 \u001b[0mstats\u001b[0m\u001b[0;34m[\u001b[0m\u001b[0mstat\u001b[0m\u001b[0;34m]\u001b[0m \u001b[0;34m=\u001b[0m \u001b[0minv\u001b[0m\u001b[0;34m(\u001b[0m\u001b[0mstats\u001b[0m\u001b[0;34m[\u001b[0m\u001b[0mstat\u001b[0m\u001b[0;34m]\u001b[0m\u001b[0;34m)\u001b[0m\u001b[0;34m\u001b[0m\u001b[0;34m\u001b[0m\u001b[0m\n",
      "\u001b[0;32m/opt/conda/lib/python3.10/site-packages/seaborn/categorical.py\u001b[0m in \u001b[0;36m?\u001b[0;34m(self, ax, data, vars)\u001b[0m\n\u001b[1;32m    412\u001b[0m             \u001b[0m_\u001b[0m\u001b[0;34m,\u001b[0m \u001b[0minv\u001b[0m \u001b[0;34m=\u001b[0m \u001b[0m_get_transform_functions\u001b[0m\u001b[0;34m(\u001b[0m\u001b[0max\u001b[0m\u001b[0;34m,\u001b[0m \u001b[0mvar\u001b[0m\u001b[0;34m[\u001b[0m\u001b[0;36m0\u001b[0m\u001b[0;34m]\u001b[0m\u001b[0;34m)\u001b[0m\u001b[0;34m\u001b[0m\u001b[0;34m\u001b[0m\u001b[0m\n\u001b[1;32m    413\u001b[0m             \u001b[0;32mif\u001b[0m \u001b[0mvar\u001b[0m \u001b[0;34m==\u001b[0m \u001b[0mself\u001b[0m\u001b[0;34m.\u001b[0m\u001b[0morient\u001b[0m \u001b[0;32mand\u001b[0m \u001b[0;34m\"width\"\u001b[0m \u001b[0;32min\u001b[0m \u001b[0mdata\u001b[0m\u001b[0;34m:\u001b[0m\u001b[0;34m\u001b[0m\u001b[0;34m\u001b[0m\u001b[0m\n\u001b[1;32m    414\u001b[0m                 \u001b[0mhw\u001b[0m \u001b[0;34m=\u001b[0m \u001b[0mdata\u001b[0m\u001b[0;34m[\u001b[0m\u001b[0;34m\"width\"\u001b[0m\u001b[0;34m]\u001b[0m \u001b[0;34m/\u001b[0m \u001b[0;36m2\u001b[0m\u001b[0;34m\u001b[0m\u001b[0;34m\u001b[0m\u001b[0m\n\u001b[1;32m    415\u001b[0m                 \u001b[0mdata\u001b[0m\u001b[0;34m[\u001b[0m\u001b[0;34m\"edge\"\u001b[0m\u001b[0;34m]\u001b[0m \u001b[0;34m=\u001b[0m \u001b[0minv\u001b[0m\u001b[0;34m(\u001b[0m\u001b[0mdata\u001b[0m\u001b[0;34m[\u001b[0m\u001b[0mvar\u001b[0m\u001b[0;34m]\u001b[0m \u001b[0;34m-\u001b[0m \u001b[0mhw\u001b[0m\u001b[0;34m)\u001b[0m\u001b[0;34m\u001b[0m\u001b[0;34m\u001b[0m\u001b[0m\n\u001b[0;32m--> 416\u001b[0;31m                 \u001b[0mdata\u001b[0m\u001b[0;34m[\u001b[0m\u001b[0;34m\"width\"\u001b[0m\u001b[0;34m]\u001b[0m \u001b[0;34m=\u001b[0m \u001b[0minv\u001b[0m\u001b[0;34m(\u001b[0m\u001b[0mdata\u001b[0m\u001b[0;34m[\u001b[0m\u001b[0mvar\u001b[0m\u001b[0;34m]\u001b[0m \u001b[0;34m+\u001b[0m \u001b[0mhw\u001b[0m\u001b[0;34m)\u001b[0m \u001b[0;34m-\u001b[0m \u001b[0mdata\u001b[0m\u001b[0;34m[\u001b[0m\u001b[0;34m\"edge\"\u001b[0m\u001b[0;34m]\u001b[0m\u001b[0;34m.\u001b[0m\u001b[0mto_numpy\u001b[0m\u001b[0;34m(\u001b[0m\u001b[0;34m)\u001b[0m\u001b[0;34m\u001b[0m\u001b[0;34m\u001b[0m\u001b[0m\n\u001b[0m\u001b[1;32m    417\u001b[0m             \u001b[0;32mfor\u001b[0m \u001b[0msuf\u001b[0m \u001b[0;32min\u001b[0m \u001b[0;34m[\u001b[0m\u001b[0;34m\"\"\u001b[0m\u001b[0;34m,\u001b[0m \u001b[0;34m\"min\"\u001b[0m\u001b[0;34m,\u001b[0m \u001b[0;34m\"max\"\u001b[0m\u001b[0;34m]\u001b[0m\u001b[0;34m:\u001b[0m\u001b[0;34m\u001b[0m\u001b[0;34m\u001b[0m\u001b[0m\n\u001b[1;32m    418\u001b[0m                 \u001b[0;32mif\u001b[0m \u001b[0;34m(\u001b[0m\u001b[0mcol\u001b[0m \u001b[0;34m:=\u001b[0m \u001b[0;34mf\"{var}{suf}\"\u001b[0m\u001b[0;34m)\u001b[0m \u001b[0;32min\u001b[0m \u001b[0mdata\u001b[0m\u001b[0;34m:\u001b[0m\u001b[0;34m\u001b[0m\u001b[0;34m\u001b[0m\u001b[0m\n\u001b[1;32m    419\u001b[0m                     \u001b[0mdata\u001b[0m\u001b[0;34m[\u001b[0m\u001b[0mcol\u001b[0m\u001b[0;34m]\u001b[0m \u001b[0;34m=\u001b[0m \u001b[0minv\u001b[0m\u001b[0;34m(\u001b[0m\u001b[0mdata\u001b[0m\u001b[0;34m[\u001b[0m\u001b[0mcol\u001b[0m\u001b[0;34m]\u001b[0m\u001b[0;34m)\u001b[0m\u001b[0;34m\u001b[0m\u001b[0;34m\u001b[0m\u001b[0m\n",
      "\u001b[0;32m/opt/conda/lib/python3.10/site-packages/pandas/core/frame.py\u001b[0m in \u001b[0;36m?\u001b[0;34m(self, key, value)\u001b[0m\n\u001b[0;32m-> 3921\u001b[0;31m     \u001b[0;32mdef\u001b[0m \u001b[0m__setitem__\u001b[0m\u001b[0;34m(\u001b[0m\u001b[0mself\u001b[0m\u001b[0;34m,\u001b[0m \u001b[0mkey\u001b[0m\u001b[0;34m,\u001b[0m \u001b[0mvalue\u001b[0m\u001b[0;34m)\u001b[0m\u001b[0;34m:\u001b[0m\u001b[0;34m\u001b[0m\u001b[0;34m\u001b[0m\u001b[0m\n\u001b[0m\u001b[1;32m   3922\u001b[0m         \u001b[0;32mif\u001b[0m \u001b[0;32mnot\u001b[0m \u001b[0mPYPY\u001b[0m \u001b[0;32mand\u001b[0m \u001b[0musing_copy_on_write\u001b[0m\u001b[0;34m(\u001b[0m\u001b[0;34m)\u001b[0m\u001b[0;34m:\u001b[0m\u001b[0;34m\u001b[0m\u001b[0;34m\u001b[0m\u001b[0m\n\u001b[1;32m   3923\u001b[0m             \u001b[0;32mif\u001b[0m \u001b[0msys\u001b[0m\u001b[0;34m.\u001b[0m\u001b[0mgetrefcount\u001b[0m\u001b[0;34m(\u001b[0m\u001b[0mself\u001b[0m\u001b[0;34m)\u001b[0m \u001b[0;34m<=\u001b[0m \u001b[0;36m3\u001b[0m\u001b[0;34m:\u001b[0m\u001b[0;34m\u001b[0m\u001b[0;34m\u001b[0m\u001b[0m\n\u001b[1;32m   3924\u001b[0m                 warnings.warn(\n",
      "\u001b[0;31mKeyboardInterrupt\u001b[0m: "
     ]
    },
    {
     "data": {
      "image/png": "[encoded data removed]",
      "text/plain": [
       "<Figure size 640x480 with 1 Axes>"
      ]
     },
     "metadata": {},
     "output_type": "display_data"
    }
   ],
   "source": [
    "import pandas as pd\n",
    "\n",
    "feature_importances = [\n",
    "    model.feature_importance(importance_type=\"gain\") for _, model in models\n",
    "]\n",
    "feature_importances_df = pd.DataFrame(feature_importances, columns=USE_COL)\n",
    "\n",
    "order = feature_importances_df.mean().sort_values(ascending=False).index.tolist()\n",
    "\n",
    "sns.boxplot(data=feature_importances_df, orient=\"h\", order=order)"
   ]
  },
  {
   "cell_type": "code",
   "execution_count": 20,
   "metadata": {},
   "outputs": [
    {
     "data": {
      "text/plain": [
       "array([0.85673811, 0.76428034, 0.85673811, ..., 0.85673811, 0.85673811,\n",
       "       0.85673811])"
      ]
     },
     "execution_count": 20,
     "metadata": {},
     "output_type": "execute_result"
    }
   ],
   "source": [
    "pred = np.array([model.predict(test[USE_COL].to_pandas()) for _, model in models])\n",
    "pred = np.mean(pred, axis=0)\n",
    "pred"
   ]
  },
  {
   "cell_type": "code",
   "execution_count": 21,
   "metadata": {},
   "outputs": [],
   "source": [
    "import os\n",
    "\n",
    "os.makedirs(MODEL_OUTPUT_PATH, exist_ok=True)\n",
    "\n",
    "sample_submission = pl.read_csv(f\"{DATA_PATH}/sample_submission.csv\")\n",
    "\n",
    "if DEBUG:\n",
    "    sample_submission = sample_submission.head(100)\n",
    "\n",
    "(\n",
    "    sample_submission.with_columns(pl.Series(pred).alias(\"target\")).write_csv(\n",
    "        f\"{MODEL_OUTPUT_PATH}/submission_{EXP_NAME}_cv{cv_score:.4f}.csv\"\n",
    "    )\n",
    ")"
   ]
  },
  {
   "cell_type": "code",
   "execution_count": null,
   "metadata": {},
   "outputs": [],
   "source": []
  }
 ],
 "metadata": {
  "kernelspec": {
   "display_name": ".venv",
   "language": "python",
   "name": "python3"
  },
  "language_info": {
   "codemirror_mode": {
    "name": "ipython",
    "version": 3
   },
   "file_extension": ".py",
   "mimetype": "text/x-python",
   "name": "python",
   "nbconvert_exporter": "python",
   "pygments_lexer": "ipython3",
   "version": "3.10.14"
  }
 },
 "nbformat": 4,
 "nbformat_minor": 2
}
