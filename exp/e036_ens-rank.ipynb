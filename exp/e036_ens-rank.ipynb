{
 "cells": [
  {
   "cell_type": "code",
   "execution_count": 1,
   "metadata": {},
   "outputs": [],
   "source": [
    "import polars as pl"
   ]
  },
  {
   "cell_type": "markdown",
   "metadata": {},
   "source": [
    "# CVの計算を行う"
   ]
  },
  {
   "cell_type": "code",
   "execution_count": 2,
   "metadata": {},
   "outputs": [],
   "source": [
    "cv_fold0 = pl.read_csv(\n",
    "    \"../\"\n",
    "    + \"trained_models/e005-use-large-fold0_org/valid_dataset_e005-use-large-fold0.csv\"\n",
    ")\n",
    "cv_fold1 = pl.read_csv(\n",
    "    \"../\"\n",
    "    + \"trained_models/e006-use-large-fold1_org/valid_dataset_e006-use-large-fold1.csv\"\n",
    ")\n",
    "cv_fold2 = pl.read_csv(\n",
    "    \"../\"\n",
    "    + \"trained_models/e007-use-large-fold2_org/valid_dataset_e007-use-large-fold2.csv\"\n",
    ")\n",
    "oof_large = pl.concat([cv_fold0, cv_fold1, cv_fold2])"
   ]
  },
  {
   "cell_type": "code",
   "execution_count": 3,
   "metadata": {},
   "outputs": [],
   "source": [
    "cv_fold0 = pl.read_csv(\n",
    "    \"../\" + \"trained_models/e029-xsmall-fold0/valid_dataset_e029-xsmall-fold0.csv\"\n",
    ")\n",
    "cv_fold1 = pl.read_csv(\n",
    "    \"../\" + \"trained_models/e030-xsmall-fold1/valid_dataset_e030-xsmall-fold1.csv\"\n",
    ")\n",
    "cv_fold2 = pl.read_csv(\n",
    "    \"../\" + \"trained_models/e031-xsmall-fold2/valid_dataset_e031-xsmall-fold2.csv\"\n",
    ")\n",
    "oof_xsmall = pl.concat([cv_fold0, cv_fold1, cv_fold2])"
   ]
  },
  {
   "cell_type": "code",
   "execution_count": 5,
   "metadata": {},
   "outputs": [
    {
     "name": "stdout",
     "output_type": "stream",
     "text": [
      "CV Score: 0.9693835695951963\n"
     ]
    }
   ],
   "source": [
    "from sklearn.metrics import roc_auc_score\n",
    "\n",
    "cv_score = roc_auc_score(oof_large[\"label\"], oof_large[\"valid_pred\"])\n",
    "print(f\"CV Score: {cv_score}\")"
   ]
  },
  {
   "cell_type": "code",
   "execution_count": 6,
   "metadata": {},
   "outputs": [
    {
     "name": "stdout",
     "output_type": "stream",
     "text": [
      "CV Score: 0.9456025742113957\n"
     ]
    }
   ],
   "source": [
    "from sklearn.metrics import roc_auc_score\n",
    "\n",
    "cv_score = roc_auc_score(oof_xsmall[\"label\"], oof_xsmall[\"valid_pred\"])\n",
    "print(f\"CV Score: {cv_score}\")"
   ]
  },
  {
   "cell_type": "code",
   "execution_count": 11,
   "metadata": {},
   "outputs": [],
   "source": [
    "pred_fold0_lrg = pl.read_csv(\n",
    "    \"../\"\n",
    "    + \"trained_models/e005-use-large-fold0_org/submission_e005-use-large-fold0_cv0.9719.csv\"\n",
    ")\n",
    "pred_fold1_lrg = pl.read_csv(\n",
    "    \"../\"\n",
    "    + \"trained_models/e006-use-large-fold1_org/submission_e006-use-large-fold1_cv0.9737.csv\"\n",
    ")\n",
    "pred_fold2_lrg = pl.read_csv(\n",
    "    \"../\"\n",
    "    + \"trained_models/e007-use-large-fold2_org/submission_e007-use-large-fold2_cv0.9654.csv\"\n",
    ")"
   ]
  },
  {
   "cell_type": "code",
   "execution_count": null,
   "metadata": {},
   "outputs": [],
   "source": [
    "pred_fold0_xsmall = pl.read_csv(\n",
    "    \"../\" + \"trained_models/e029-xsmall-fold0/submission_e029-xsmall-fold0_cv0.9493.csv\"\n",
    ")\n",
    "pred_fold1_pred_fold0_xsmall = pl.read_csv(\n",
    "    \"../\" + \"trained_models/e030-xsmall-fold1/submission_e030-xsmall-fold1_cv0.9472.csv\"\n",
    ")\n",
    "pred_fold2_pred_fold0_xsmall = pl.read_csv(\n",
    "    \"../\"\n",
    "    + \"trained_models/e007-use-large-fold2_org/submission_e007-use-large-fold2_cv0.9654.csv\"\n",
    ")"
   ]
  },
  {
   "cell_type": "code",
   "execution_count": 23,
   "metadata": {},
   "outputs": [],
   "source": [
    "from scipy.stats import rankdata\n",
    "\n",
    "sub = pl.DataFrame((rankdata(pred_fold0) + rankdata(pred_fold1) + rankdata(pred_fold2)))\n",
    "\n",
    "sub.rename({\"column_0\": \"target\"}).write_csv(\n",
    "    \"../\" + \"trained_models/e005-6-7-ens/e005-6-7-ens-rank.csv\"\n",
    ")"
   ]
  },
  {
   "cell_type": "code",
   "execution_count": 22,
   "metadata": {},
   "outputs": [
    {
     "data": {
      "text/html": [
       "<div><style>\n",
       ".dataframe > thead > tr,\n",
       ".dataframe > tbody > tr {\n",
       "  text-align: right;\n",
       "  white-space: pre-wrap;\n",
       "}\n",
       "</style>\n",
       "<small>shape: (11_155, 1)</small><table border=\"1\" class=\"dataframe\"><thead><tr><th>target</th></tr><tr><td>f64</td></tr></thead><tbody><tr><td>22882.0</td></tr><tr><td>5281.0</td></tr><tr><td>27584.0</td></tr><tr><td>2438.0</td></tr><tr><td>13478.5</td></tr><tr><td>&hellip;</td></tr><tr><td>27247.5</td></tr><tr><td>29776.0</td></tr><tr><td>27636.0</td></tr><tr><td>27141.0</td></tr><tr><td>29970.5</td></tr></tbody></table></div>"
      ],
      "text/plain": [
       "shape: (11_155, 1)\n",
       "┌─────────┐\n",
       "│ target  │\n",
       "│ ---     │\n",
       "│ f64     │\n",
       "╞═════════╡\n",
       "│ 22882.0 │\n",
       "│ 5281.0  │\n",
       "│ 27584.0 │\n",
       "│ 2438.0  │\n",
       "│ 13478.5 │\n",
       "│ …       │\n",
       "│ 27247.5 │\n",
       "│ 29776.0 │\n",
       "│ 27636.0 │\n",
       "│ 27141.0 │\n",
       "│ 29970.5 │\n",
       "└─────────┘"
      ]
     },
     "execution_count": 22,
     "metadata": {},
     "output_type": "execute_result"
    }
   ],
   "source": []
  },
  {
   "cell_type": "code",
   "execution_count": null,
   "metadata": {},
   "outputs": [],
   "source": []
  }
 ],
 "metadata": {
  "kernelspec": {
   "display_name": "base",
   "language": "python",
   "name": "python3"
  },
  "language_info": {
   "codemirror_mode": {
    "name": "ipython",
    "version": 3
   },
   "file_extension": ".py",
   "mimetype": "text/x-python",
   "name": "python",
   "nbconvert_exporter": "python",
   "pygments_lexer": "ipython3",
   "version": "3.10.14"
  }
 },
 "nbformat": 4,
 "nbformat_minor": 2
}
