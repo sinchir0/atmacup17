{
 "cells": [
  {
   "cell_type": "code",
   "execution_count": 2,
   "metadata": {},
   "outputs": [],
   "source": [
    "import polars as pl\n",
    "import numpy as np\n",
    "\n",
    "from sklearn.model_selection import KFold, train_test_split\n",
    "from sklearn.metrics import roc_auc_score\n",
    "\n",
    "import lightgbm as lgb\n",
    "\n",
    "import seaborn as sns"
   ]
  },
  {
   "cell_type": "code",
   "execution_count": 3,
   "metadata": {},
   "outputs": [
    {
     "data": {
      "text/plain": [
       "'1.0.0'"
      ]
     },
     "execution_count": 3,
     "metadata": {},
     "output_type": "execute_result"
    }
   ],
   "source": [
    "pl.__version__"
   ]
  },
  {
   "cell_type": "code",
   "execution_count": 4,
   "metadata": {},
   "outputs": [
    {
     "data": {
      "text/plain": [
       "'4.5.0'"
      ]
     },
     "execution_count": 4,
     "metadata": {},
     "output_type": "execute_result"
    }
   ],
   "source": [
    "lgb.__version__"
   ]
  },
  {
   "cell_type": "code",
   "execution_count": 5,
   "metadata": {},
   "outputs": [],
   "source": [
    "EXP_NAME = \"e100-lightgbm\"\n",
    "COMPETITION_NAME = \"atmacup17\"\n",
    "\n",
    "DATA_PATH = \"data\"\n",
    "ENV_PATH = \"env_file\"\n",
    "MODEL_OUTPUT_PATH = f\"trained_models/{EXP_NAME}\"\n",
    "TARGET_COL = \"Recommended IND\"\n",
    "\n",
    "# experiment parameter\n",
    "DEBUG = False\n",
    "TRAINING = True\n",
    "UPLOAD_DATA_TO_S3 = True\n",
    "# UPLOAD_DATA_TO_KAGGLE = True\n",
    "WANDB = True"
   ]
  },
  {
   "cell_type": "code",
   "execution_count": 6,
   "metadata": {},
   "outputs": [
    {
     "name": "stdout",
     "output_type": "stream",
     "text": [
      "/home/shinichiro.saito/atmacup17/exp\n",
      "GCP!\n",
      "/home/shinichiro.saito/atmacup17/data\n",
      "/home/shinichiro.saito/atmacup17/exp\n",
      "GCP!\n",
      "/home/shinichiro.saito/atmacup17/trained_models/e100-lightgbm\n",
      "/home/shinichiro.saito/atmacup17/exp\n",
      "GCP!\n"
     ]
    }
   ],
   "source": [
    "def resolve_path(base_path: str) -> str:\n",
    "    import os\n",
    "\n",
    "    cwd = os.getcwd()\n",
    "    print(cwd)\n",
    "    if cwd == f\"/notebooks\":\n",
    "        print(\"Jupyter Kernel By VSCode!\")\n",
    "        return \"kernel\", f\"/notebooks/{COMPETITION_NAME}/{base_path}\"\n",
    "    elif cwd == f\"/notebooks/{COMPETITION_NAME}\":\n",
    "        print(\"nohup!\")\n",
    "        return base_path\n",
    "    elif cwd == f\"/notebooks/{COMPETITION_NAME}/{COMPETITION_NAME}/exp\":\n",
    "        print(\"Jupyter Lab!\")\n",
    "        return \"nohup\", f\"../../{base_path}\"\n",
    "    elif cwd == f\"/content\":\n",
    "        print(\"Google Colab!\")\n",
    "        return \"colab\", f\"/content/drive/MyDrive/Kaggle/{COMPETITION_NAME}/{base_path}\"\n",
    "    elif cwd.startswith(\"/home/shinichiro.saito\"):\n",
    "        print(\"GCP!\")\n",
    "        return \"GCP\", f\"/home/shinichiro.saito/{COMPETITION_NAME}/{base_path}\"\n",
    "    else:\n",
    "        raise Exception(\"Unknown environment\")\n",
    "\n",
    "\n",
    "ENV_NAME, DATA_PATH = resolve_path(DATA_PATH)\n",
    "print(DATA_PATH)\n",
    "_, MODEL_OUTPUT_PATH = resolve_path(MODEL_OUTPUT_PATH)\n",
    "print(MODEL_OUTPUT_PATH)\n",
    "_, ENV_PATH = resolve_path(ENV_PATH)"
   ]
  },
  {
   "cell_type": "code",
   "execution_count": 7,
   "metadata": {},
   "outputs": [],
   "source": [
    "import json\n",
    "\n",
    "with open(f\"{DATA_PATH}/rec_stratified_fold.json\") as f:\n",
    "    label_stratified_fold = json.load(f)"
   ]
  },
  {
   "cell_type": "code",
   "execution_count": 14,
   "metadata": {},
   "outputs": [],
   "source": [
    "train = pl.read_csv(f\"{DATA_PATH}/train.csv\")\n",
    "test = pl.read_csv(f\"{DATA_PATH}/test.csv\")\n",
    "clothing_master = pl.read_csv(f\"{DATA_PATH}/clothing_master.csv\")\n",
    "\n",
    "train = train.join(clothing_master, on=\"Clothing ID\", how=\"left\").with_columns(\n",
    "    pl.col(\"Clothing ID\")\n",
    "    .replace(label_stratified_fold)\n",
    "    .alias(\"fold\"),  # foldを追加する\n",
    "    pl.col(\"Clothing ID\").cast(pl.String),\n",
    ")\n",
    "test = test.join(clothing_master, on=\"Clothing ID\", how=\"left\").with_columns(\n",
    "    pl.col(\"Clothing ID\").cast(pl.String),\n",
    ")"
   ]
  },
  {
   "cell_type": "code",
   "execution_count": 15,
   "metadata": {},
   "outputs": [
    {
     "data": {
      "text/html": [
       "<div><style>\n",
       ".dataframe > thead > tr,\n",
       ".dataframe > tbody > tr {\n",
       "  text-align: right;\n",
       "  white-space: pre-wrap;\n",
       "}\n",
       "</style>\n",
       "<small>shape: (10_000, 11)</small><table border=\"1\" class=\"dataframe\"><thead><tr><th>Clothing ID</th><th>Age</th><th>Title</th><th>Review Text</th><th>Rating</th><th>Recommended IND</th><th>Positive Feedback Count</th><th>Division Name</th><th>Department Name</th><th>Class Name</th><th>fold</th></tr><tr><td>str</td><td>i64</td><td>str</td><td>str</td><td>i64</td><td>i64</td><td>i64</td><td>str</td><td>str</td><td>str</td><td>i64</td></tr></thead><tbody><tr><td>&quot;0&quot;</td><td>25</td><td>&quot;3-season skirt!&quot;</td><td>&quot;Adorable, well-made skirt! lin…</td><td>5</td><td>1</td><td>4</td><td>&quot;General&quot;</td><td>&quot;Bottoms&quot;</td><td>&quot;Skirts&quot;</td><td>0</td></tr><tr><td>&quot;0&quot;</td><td>39</td><td>&quot;Very cute&quot;</td><td>&quot;Love the asymmetrical hem. wai…</td><td>5</td><td>1</td><td>0</td><td>&quot;General&quot;</td><td>&quot;Bottoms&quot;</td><td>&quot;Skirts&quot;</td><td>0</td></tr><tr><td>&quot;0&quot;</td><td>42</td><td>&quot;Beautiful! fruns small for typ…</td><td>&quot;I love this skirt! i wasn&#x27;t su…</td><td>5</td><td>1</td><td>5</td><td>&quot;General&quot;</td><td>&quot;Bottoms&quot;</td><td>&quot;Skirts&quot;</td><td>0</td></tr><tr><td>&quot;0&quot;</td><td>45</td><td>null</td><td>&quot;I was really pleased with this…</td><td>5</td><td>1</td><td>9</td><td>&quot;General&quot;</td><td>&quot;Bottoms&quot;</td><td>&quot;Skirts&quot;</td><td>0</td></tr><tr><td>&quot;0&quot;</td><td>57</td><td>&quot;Unique, pretty asymmetric skir…</td><td>&quot;I saw this skirt in retailer s…</td><td>5</td><td>1</td><td>1</td><td>&quot;General&quot;</td><td>&quot;Bottoms&quot;</td><td>&quot;Skirts&quot;</td><td>0</td></tr><tr><td>&hellip;</td><td>&hellip;</td><td>&hellip;</td><td>&hellip;</td><td>&hellip;</td><td>&hellip;</td><td>&hellip;</td><td>&hellip;</td><td>&hellip;</td><td>&hellip;</td><td>&hellip;</td></tr><tr><td>&quot;232&quot;</td><td>57</td><td>&quot;Runs big on top&quot;</td><td>null</td><td>3</td><td>1</td><td>5</td><td>&quot;General&quot;</td><td>&quot;Dresses&quot;</td><td>&quot;Dresses&quot;</td><td>2</td></tr><tr><td>&quot;232&quot;</td><td>58</td><td>null</td><td>&quot;I loved the dress, but just no…</td><td>1</td><td>1</td><td>5</td><td>&quot;General&quot;</td><td>&quot;Dresses&quot;</td><td>&quot;Dresses&quot;</td><td>2</td></tr><tr><td>&quot;232&quot;</td><td>60</td><td>&quot;I was really disappointed&quot;</td><td>&quot;I was really hoping this dress…</td><td>2</td><td>0</td><td>7</td><td>&quot;General&quot;</td><td>&quot;Dresses&quot;</td><td>&quot;Dresses&quot;</td><td>2</td></tr><tr><td>&quot;232&quot;</td><td>62</td><td>&quot;Too heavy&quot;</td><td>&quot;The design is beautiful but it…</td><td>2</td><td>0</td><td>0</td><td>&quot;General&quot;</td><td>&quot;Dresses&quot;</td><td>&quot;Dresses&quot;</td><td>2</td></tr><tr><td>&quot;232&quot;</td><td>62</td><td>null</td><td>&quot;I love this dress. very comfor…</td><td>5</td><td>1</td><td>2</td><td>&quot;General&quot;</td><td>&quot;Dresses&quot;</td><td>&quot;Dresses&quot;</td><td>2</td></tr></tbody></table></div>"
      ],
      "text/plain": [
       "shape: (10_000, 11)\n",
       "┌─────────────┬─────┬─────────────┬─────────────┬───┬─────────────┬────────────┬────────────┬──────┐\n",
       "│ Clothing ID ┆ Age ┆ Title       ┆ Review Text ┆ … ┆ Division    ┆ Department ┆ Class Name ┆ fold │\n",
       "│ ---         ┆ --- ┆ ---         ┆ ---         ┆   ┆ Name        ┆ Name       ┆ ---        ┆ ---  │\n",
       "│ str         ┆ i64 ┆ str         ┆ str         ┆   ┆ ---         ┆ ---        ┆ str        ┆ i64  │\n",
       "│             ┆     ┆             ┆             ┆   ┆ str         ┆ str        ┆            ┆      │\n",
       "╞═════════════╪═════╪═════════════╪═════════════╪═══╪═════════════╪════════════╪════════════╪══════╡\n",
       "│ 0           ┆ 25  ┆ 3-season    ┆ Adorable,   ┆ … ┆ General     ┆ Bottoms    ┆ Skirts     ┆ 0    │\n",
       "│             ┆     ┆ skirt!      ┆ well-made   ┆   ┆             ┆            ┆            ┆      │\n",
       "│             ┆     ┆             ┆ skirt! lin… ┆   ┆             ┆            ┆            ┆      │\n",
       "│ 0           ┆ 39  ┆ Very cute   ┆ Love the    ┆ … ┆ General     ┆ Bottoms    ┆ Skirts     ┆ 0    │\n",
       "│             ┆     ┆             ┆ asymmetrica ┆   ┆             ┆            ┆            ┆      │\n",
       "│             ┆     ┆             ┆ l hem. wai… ┆   ┆             ┆            ┆            ┆      │\n",
       "│ 0           ┆ 42  ┆ Beautiful!  ┆ I love this ┆ … ┆ General     ┆ Bottoms    ┆ Skirts     ┆ 0    │\n",
       "│             ┆     ┆ fruns small ┆ skirt! i    ┆   ┆             ┆            ┆            ┆      │\n",
       "│             ┆     ┆ for typ…    ┆ wasn't su…  ┆   ┆             ┆            ┆            ┆      │\n",
       "│ 0           ┆ 45  ┆ null        ┆ I was       ┆ … ┆ General     ┆ Bottoms    ┆ Skirts     ┆ 0    │\n",
       "│             ┆     ┆             ┆ really      ┆   ┆             ┆            ┆            ┆      │\n",
       "│             ┆     ┆             ┆ pleased     ┆   ┆             ┆            ┆            ┆      │\n",
       "│             ┆     ┆             ┆ with this…  ┆   ┆             ┆            ┆            ┆      │\n",
       "│ 0           ┆ 57  ┆ Unique,     ┆ I saw this  ┆ … ┆ General     ┆ Bottoms    ┆ Skirts     ┆ 0    │\n",
       "│             ┆     ┆ pretty      ┆ skirt in    ┆   ┆             ┆            ┆            ┆      │\n",
       "│             ┆     ┆ asymmetric  ┆ retailer s… ┆   ┆             ┆            ┆            ┆      │\n",
       "│             ┆     ┆ skir…       ┆             ┆   ┆             ┆            ┆            ┆      │\n",
       "│ …           ┆ …   ┆ …           ┆ …           ┆ … ┆ …           ┆ …          ┆ …          ┆ …    │\n",
       "│ 232         ┆ 57  ┆ Runs big on ┆ null        ┆ … ┆ General     ┆ Dresses    ┆ Dresses    ┆ 2    │\n",
       "│             ┆     ┆ top         ┆             ┆   ┆             ┆            ┆            ┆      │\n",
       "│ 232         ┆ 58  ┆ null        ┆ I loved the ┆ … ┆ General     ┆ Dresses    ┆ Dresses    ┆ 2    │\n",
       "│             ┆     ┆             ┆ dress, but  ┆   ┆             ┆            ┆            ┆      │\n",
       "│             ┆     ┆             ┆ just no…    ┆   ┆             ┆            ┆            ┆      │\n",
       "│ 232         ┆ 60  ┆ I was       ┆ I was       ┆ … ┆ General     ┆ Dresses    ┆ Dresses    ┆ 2    │\n",
       "│             ┆     ┆ really disa ┆ really      ┆   ┆             ┆            ┆            ┆      │\n",
       "│             ┆     ┆ ppointed    ┆ hoping this ┆   ┆             ┆            ┆            ┆      │\n",
       "│             ┆     ┆             ┆ dress…      ┆   ┆             ┆            ┆            ┆      │\n",
       "│ 232         ┆ 62  ┆ Too heavy   ┆ The design  ┆ … ┆ General     ┆ Dresses    ┆ Dresses    ┆ 2    │\n",
       "│             ┆     ┆             ┆ is          ┆   ┆             ┆            ┆            ┆      │\n",
       "│             ┆     ┆             ┆ beautiful   ┆   ┆             ┆            ┆            ┆      │\n",
       "│             ┆     ┆             ┆ but it…     ┆   ┆             ┆            ┆            ┆      │\n",
       "│ 232         ┆ 62  ┆ null        ┆ I love this ┆ … ┆ General     ┆ Dresses    ┆ Dresses    ┆ 2    │\n",
       "│             ┆     ┆             ┆ dress. very ┆   ┆             ┆            ┆            ┆      │\n",
       "│             ┆     ┆             ┆ comfor…     ┆   ┆             ┆            ┆            ┆      │\n",
       "└─────────────┴─────┴─────────────┴─────────────┴───┴─────────────┴────────────┴────────────┴──────┘"
      ]
     },
     "execution_count": 15,
     "metadata": {},
     "output_type": "execute_result"
    }
   ],
   "source": [
    "train"
   ]
  },
  {
   "cell_type": "code",
   "execution_count": 16,
   "metadata": {},
   "outputs": [],
   "source": [
    "USE_COL = [\n",
    "    \"Clothing ID\",\n",
    "    \"Age\",\n",
    "    \"Positive Feedback Count\",\n",
    "    \"Division Name\",\n",
    "    \"Department Name\",\n",
    "    \"Class Name\",\n",
    "]\n",
    "CATEGORICAL_FEATURE = [\"Clothing ID\", \"Division Name\", \"Department Name\", \"Class Name\"]\n",
    "TARGET_COL = \"Recommended IND\"\n",
    "FOLD_NUM = 3\n",
    "SEED = 42"
   ]
  },
  {
   "cell_type": "code",
   "execution_count": 17,
   "metadata": {},
   "outputs": [],
   "source": [
    "# Categorical型への変換\n",
    "train = train.with_columns(pl.col(CATEGORICAL_FEATURE).cast(pl.Categorical))\n",
    "test = test.with_columns(pl.col(CATEGORICAL_FEATURE).cast(pl.Categorical))"
   ]
  },
  {
   "cell_type": "code",
   "execution_count": 18,
   "metadata": {},
   "outputs": [],
   "source": [
    "# LightGBMで用いるパラメータを指定\n",
    "params = {\n",
    "    \"objective\": \"binary\",\n",
    "    \"metric\": \"auc\",\n",
    "    \"max_depth\": -1,\n",
    "    \"min_data_in_leaf\": 10,  # 1つの葉に入る最小のデータ数\n",
    "    \"num_leaves\": 24,  # 2**max_depthより少し小さめにすると過学習を防げる\n",
    "    \"learning_rate\": 0.01,  # 1回のiterationで学習を進める割合、大きいと学習が早く終わる。小さいと学習は長いが高精度になりやすい。\n",
    "    \"bagging_freq\": 5,  # 指定した回数ごとにbaggingを行う\n",
    "    \"feature_fraction\": 0.9,  # 1回のiterationで利用する特徴量(列方向)の割合\n",
    "    \"bagging_fraction\": 0.8,  # 1回のiterationで利用するデータ(行方向)の割合\n",
    "    \"verbose\": -1,  # 出力するログレベルの変更、-1はFatalなログのみを出力\n",
    "    \"seed\": SEED,  # ランダムシードの固定\n",
    "    \"lambda_l1\": 0.4,  # 正則化のためのパラメータ\n",
    "    \"lambda_l2\": 0.4,  # 正則化のためのパラメータ\n",
    "}"
   ]
  },
  {
   "cell_type": "code",
   "execution_count": 19,
   "metadata": {},
   "outputs": [
    {
     "name": "stdout",
     "output_type": "stream",
     "text": [
      "Start fold 0\n",
      "Training until validation scores don't improve for 100 rounds\n",
      "[100]\ttraining's auc: 0.708582\tvalid_1's auc: 0.578818\n",
      "[200]\ttraining's auc: 0.727675\tvalid_1's auc: 0.581371\n",
      "[300]\ttraining's auc: 0.747166\tvalid_1's auc: 0.580528\n",
      "Early stopping, best iteration is:\n",
      "[240]\ttraining's auc: 0.736558\tvalid_1's auc: 0.582216\n",
      "Start fold 1\n",
      "Training until validation scores don't improve for 100 rounds\n",
      "[100]\ttraining's auc: 0.724313\tvalid_1's auc: 0.56873\n",
      "Early stopping, best iteration is:\n",
      "[14]\ttraining's auc: 0.691058\tvalid_1's auc: 0.572121\n",
      "Start fold 2\n",
      "Training until validation scores don't improve for 100 rounds\n",
      "[100]\ttraining's auc: 0.70504\tvalid_1's auc: 0.596171\n",
      "Early stopping, best iteration is:\n",
      "[54]\ttraining's auc: 0.689525\tvalid_1's auc: 0.600431\n"
     ]
    }
   ],
   "source": [
    "# テストデータに対する推論、特徴量重要度(後述)を計算するために、モデルを保存するobjectを作成\n",
    "models = []\n",
    "\n",
    "# Cross Validationによる学習の実施\n",
    "for fold in range(FOLD_NUM):\n",
    "    print(f\"Start fold {fold}\")\n",
    "\n",
    "    # foldごとにtrainとvalidに分ける\n",
    "    train_fold = train.filter(pl.col(\"fold\") != fold)\n",
    "    valid_fold = train.filter(pl.col(\"fold\") == fold)\n",
    "\n",
    "    # X(説明変数)とy(目的変数)に分ける\n",
    "    X_train = train_fold.select(USE_COL)\n",
    "    X_valid = valid_fold.select(USE_COL)\n",
    "    y_train = train_fold.select(TARGET_COL)\n",
    "    y_valid = valid_fold.select(TARGET_COL)\n",
    "\n",
    "    # LightGBMが認識可能な形にデータセットを変換\n",
    "    lgb_train = lgb.Dataset(X_train.to_pandas(), y_train.to_pandas())\n",
    "    lgb_eval = lgb.Dataset(\n",
    "        X_valid.to_pandas(), y_valid.to_pandas(), reference=lgb_train\n",
    "    )\n",
    "\n",
    "    # モデルの学習\n",
    "    model = lgb.train(\n",
    "        params,\n",
    "        lgb_train,\n",
    "        num_boost_round=10000,  # 学習のiteration回数\n",
    "        valid_sets=[lgb_train, lgb_eval],\n",
    "        callbacks=[\n",
    "            lgb.early_stopping(\n",
    "                stopping_rounds=100\n",
    "            ),  # Early stopingの回数、binary_loglossが改善しないiterationが100回続いたら学習を止める\n",
    "            lgb.log_evaluation(100),  # 指定したiteration回数ごとにlogを出力する\n",
    "        ],\n",
    "    )\n",
    "\n",
    "    # モデルを保存\n",
    "    models.append([fold, model])"
   ]
  },
  {
   "cell_type": "code",
   "execution_count": 21,
   "metadata": {},
   "outputs": [
    {
     "name": "stdout",
     "output_type": "stream",
     "text": [
      "fold 0 Score: 0.5822161058332593\n",
      "fold 1 Score: 0.5721209260731319\n",
      "fold 2 Score: 0.6004308697037273\n"
     ]
    }
   ],
   "source": [
    "# 学習データ全体に対する推論結果を保存するobjectを作成\n",
    "oof = np.zeros((len(train)))\n",
    "\n",
    "# foldの値と学習済みモデルを利用し、モデルの評価を行う\n",
    "for fold, model in models:\n",
    "    valid_fold = train.filter(pl.col(\"fold\") == fold)\n",
    "\n",
    "    X_valid = valid_fold.select(USE_COL)\n",
    "    y_valid = valid_fold.select(TARGET_COL)\n",
    "\n",
    "    # validデータに対する推論\n",
    "    y_valid_pred = model.predict(\n",
    "        X_valid.to_pandas(), num_iteration=model.best_iteration\n",
    "    )\n",
    "\n",
    "    score = roc_auc_score(y_valid, y_valid_pred)\n",
    "    print(f\"fold {fold} Score: {score}\")\n",
    "\n",
    "    is_valid = train.get_column(\"fold\") == fold\n",
    "    oof[is_valid] = y_valid_pred"
   ]
  },
  {
   "cell_type": "code",
   "execution_count": 22,
   "metadata": {},
   "outputs": [
    {
     "data": {
      "text/plain": [
       "<lightgbm.basic.Booster at 0x7f42e068cbb0>"
      ]
     },
     "execution_count": 22,
     "metadata": {},
     "output_type": "execute_result"
    }
   ],
   "source": [
    "model"
   ]
  },
  {
   "cell_type": "code",
   "execution_count": 28,
   "metadata": {},
   "outputs": [
    {
     "data": {
      "text/plain": [
       "0.5754881470348668"
      ]
     },
     "execution_count": 28,
     "metadata": {},
     "output_type": "execute_result"
    }
   ],
   "source": [
    "cv_score = roc_auc_score(train.get_column(TARGET_COL), oof)\n",
    "cv_score"
   ]
  },
  {
   "cell_type": "code",
   "execution_count": 25,
   "metadata": {},
   "outputs": [
    {
     "data": {
      "text/plain": [
       "<Axes: >"
      ]
     },
     "execution_count": 25,
     "metadata": {},
     "output_type": "execute_result"
    },
    {
     "data": {
      "image/png": "[encoded data removed]",
      "text/plain": [
       "<Figure size 640x480 with 1 Axes>"
      ]
     },
     "metadata": {},
     "output_type": "display_data"
    }
   ],
   "source": [
    "import pandas as pd\n",
    "\n",
    "feature_importances = [\n",
    "    model.feature_importance(importance_type=\"gain\") for _, model in models\n",
    "]\n",
    "feature_importances_df = pd.DataFrame(feature_importances, columns=USE_COL)\n",
    "\n",
    "order = feature_importances_df.mean().sort_values(ascending=False).index.tolist()\n",
    "\n",
    "sns.boxplot(data=feature_importances_df, orient=\"h\", order=order)"
   ]
  },
  {
   "cell_type": "code",
   "execution_count": 26,
   "metadata": {},
   "outputs": [
    {
     "data": {
      "text/plain": [
       "array([0.84791296, 0.85396492, 0.85249228, ..., 0.79781903, 0.76863834,\n",
       "       0.7927655 ])"
      ]
     },
     "execution_count": 26,
     "metadata": {},
     "output_type": "execute_result"
    }
   ],
   "source": [
    "pred = np.array([model.predict(test[USE_COL].to_pandas()) for _, model in models])\n",
    "pred = np.mean(pred, axis=0)\n",
    "pred"
   ]
  },
  {
   "cell_type": "code",
   "execution_count": 31,
   "metadata": {},
   "outputs": [],
   "source": [
    "import os\n",
    "\n",
    "os.makedirs(MODEL_OUTPUT_PATH, exist_ok=True)\n",
    "\n",
    "sample_submission = pl.read_csv(f\"{DATA_PATH}/sample_submission.csv\")\n",
    "\n",
    "if DEBUG:\n",
    "    sample_submission = sample_submission.head(100)\n",
    "\n",
    "(\n",
    "    sample_submission.with_columns(pl.Series(pred).alias(\"target\")).write_csv(\n",
    "        f\"{MODEL_OUTPUT_PATH}/submission_{EXP_NAME}_cv{cv_score:.4f}.csv\"\n",
    "    )\n",
    ")"
   ]
  },
  {
   "cell_type": "code",
   "execution_count": null,
   "metadata": {},
   "outputs": [],
   "source": []
  }
 ],
 "metadata": {
  "kernelspec": {
   "display_name": ".venv",
   "language": "python",
   "name": "python3"
  },
  "language_info": {
   "codemirror_mode": {
    "name": "ipython",
    "version": 3
   },
   "file_extension": ".py",
   "mimetype": "text/x-python",
   "name": "python",
   "nbconvert_exporter": "python",
   "pygments_lexer": "ipython3",
   "version": "3.10.14"
  }
 },
 "nbformat": 4,
 "nbformat_minor": 2
}
