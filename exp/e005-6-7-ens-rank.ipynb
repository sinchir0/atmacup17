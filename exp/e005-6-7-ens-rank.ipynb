{
 "cells": [
  {
   "cell_type": "code",
   "execution_count": 5,
   "metadata": {},
   "outputs": [],
   "source": [
    "import polars as pl"
   ]
  },
  {
   "cell_type": "markdown",
   "metadata": {},
   "source": [
    "# CVの計算を行う"
   ]
  },
  {
   "cell_type": "code",
   "execution_count": 6,
   "metadata": {},
   "outputs": [],
   "source": [
    "cv_fold0 = pl.read_csv(\n",
    "    \"../\"\n",
    "    + \"trained_models/e005-use-large-fold0_org/valid_dataset_e005-use-large-fold0.csv\"\n",
    ")\n",
    "cv_fold1 = pl.read_csv(\n",
    "    \"../\"\n",
    "    + \"trained_models/e006-use-large-fold1_org/valid_dataset_e006-use-large-fold1.csv\"\n",
    ")\n",
    "cv_fold2 = pl.read_csv(\n",
    "    \"../\"\n",
    "    + \"trained_models/e007-use-large-fold2_org/valid_dataset_e007-use-large-fold2.csv\"\n",
    ")"
   ]
  },
  {
   "cell_type": "code",
   "execution_count": 7,
   "metadata": {},
   "outputs": [],
   "source": [
    "oof = pl.concat([cv_fold0, cv_fold1, cv_fold2])"
   ]
  },
  {
   "cell_type": "code",
   "execution_count": 8,
   "metadata": {},
   "outputs": [
    {
     "data": {
      "text/html": [
       "<div><style>\n",
       ".dataframe > thead > tr,\n",
       ".dataframe > tbody > tr {\n",
       "  text-align: right;\n",
       "  white-space: pre-wrap;\n",
       "}\n",
       "</style>\n",
       "<small>shape: (10_000, 13)</small><table border=\"1\" class=\"dataframe\"><thead><tr><th>index</th><th>Clothing ID</th><th>Age</th><th>Title</th><th>Review Text</th><th>Rating</th><th>label</th><th>Positive Feedback Count</th><th>Division Name</th><th>Department Name</th><th>Class Name</th><th>fold</th><th>valid_pred</th></tr><tr><td>i64</td><td>i64</td><td>i64</td><td>str</td><td>str</td><td>i64</td><td>i64</td><td>i64</td><td>str</td><td>str</td><td>str</td><td>i64</td><td>f64</td></tr></thead><tbody><tr><td>32</td><td>3</td><td>19</td><td>&quot;&quot;</td><td>&quot;This dress is so pretty!! the …</td><td>4</td><td>1</td><td>0</td><td>&quot;General&quot;</td><td>&quot;Dresses&quot;</td><td>&quot;Dresses&quot;</td><td>0</td><td>0.996503</td></tr><tr><td>33</td><td>3</td><td>25</td><td>&quot;So beautiful!&quot;</td><td>&quot;This dress is just absolutely …</td><td>5</td><td>1</td><td>2</td><td>&quot;General&quot;</td><td>&quot;Dresses&quot;</td><td>&quot;Dresses&quot;</td><td>0</td><td>0.9986541</td></tr><tr><td>34</td><td>3</td><td>26</td><td>&quot;Beautiful and unique dress&quot;</td><td>&quot;I purchased this dress for my …</td><td>5</td><td>1</td><td>0</td><td>&quot;General&quot;</td><td>&quot;Dresses&quot;</td><td>&quot;Dresses&quot;</td><td>0</td><td>0.9985562</td></tr><tr><td>35</td><td>3</td><td>28</td><td>&quot;&quot;</td><td>&quot;I was looking for a dress for …</td><td>5</td><td>1</td><td>1</td><td>&quot;General&quot;</td><td>&quot;Dresses&quot;</td><td>&quot;Dresses&quot;</td><td>0</td><td>0.9972638</td></tr><tr><td>36</td><td>3</td><td>31</td><td>&quot;High quality one of a kind pie…</td><td>&quot;This dress had my attention im…</td><td>5</td><td>1</td><td>2</td><td>&quot;General&quot;</td><td>&quot;Dresses&quot;</td><td>&quot;Dresses&quot;</td><td>0</td><td>0.9974788</td></tr><tr><td>&hellip;</td><td>&hellip;</td><td>&hellip;</td><td>&hellip;</td><td>&hellip;</td><td>&hellip;</td><td>&hellip;</td><td>&hellip;</td><td>&hellip;</td><td>&hellip;</td><td>&hellip;</td><td>&hellip;</td><td>&hellip;</td></tr><tr><td>9995</td><td>232</td><td>57</td><td>&quot;Runs big on top&quot;</td><td>&quot;&quot;</td><td>3</td><td>1</td><td>5</td><td>&quot;General&quot;</td><td>&quot;Dresses&quot;</td><td>&quot;Dresses&quot;</td><td>2</td><td>0.957912</td></tr><tr><td>9996</td><td>232</td><td>58</td><td>&quot;&quot;</td><td>&quot;I loved the dress, but just no…</td><td>1</td><td>1</td><td>5</td><td>&quot;General&quot;</td><td>&quot;Dresses&quot;</td><td>&quot;Dresses&quot;</td><td>2</td><td>0.881258</td></tr><tr><td>9997</td><td>232</td><td>60</td><td>&quot;I was really disappointed&quot;</td><td>&quot;I was really hoping this dress…</td><td>2</td><td>0</td><td>7</td><td>&quot;General&quot;</td><td>&quot;Dresses&quot;</td><td>&quot;Dresses&quot;</td><td>2</td><td>0.019308</td></tr><tr><td>9998</td><td>232</td><td>62</td><td>&quot;Too heavy&quot;</td><td>&quot;The design is beautiful but it…</td><td>2</td><td>0</td><td>0</td><td>&quot;General&quot;</td><td>&quot;Dresses&quot;</td><td>&quot;Dresses&quot;</td><td>2</td><td>0.022543</td></tr><tr><td>9999</td><td>232</td><td>62</td><td>&quot;&quot;</td><td>&quot;I love this dress. very comfor…</td><td>5</td><td>1</td><td>2</td><td>&quot;General&quot;</td><td>&quot;Dresses&quot;</td><td>&quot;Dresses&quot;</td><td>2</td><td>0.9983897</td></tr></tbody></table></div>"
      ],
      "text/plain": [
       "shape: (10_000, 13)\n",
       "┌───────┬─────────────┬─────┬────────────────────┬───┬────────────┬────────────┬──────┬────────────┐\n",
       "│ index ┆ Clothing ID ┆ Age ┆ Title              ┆ … ┆ Department ┆ Class Name ┆ fold ┆ valid_pred │\n",
       "│ ---   ┆ ---         ┆ --- ┆ ---                ┆   ┆ Name       ┆ ---        ┆ ---  ┆ ---        │\n",
       "│ i64   ┆ i64         ┆ i64 ┆ str                ┆   ┆ ---        ┆ str        ┆ i64  ┆ f64        │\n",
       "│       ┆             ┆     ┆                    ┆   ┆ str        ┆            ┆      ┆            │\n",
       "╞═══════╪═════════════╪═════╪════════════════════╪═══╪════════════╪════════════╪══════╪════════════╡\n",
       "│ 32    ┆ 3           ┆ 19  ┆                    ┆ … ┆ Dresses    ┆ Dresses    ┆ 0    ┆ 0.996503   │\n",
       "│ 33    ┆ 3           ┆ 25  ┆ So beautiful!      ┆ … ┆ Dresses    ┆ Dresses    ┆ 0    ┆ 0.9986541  │\n",
       "│ 34    ┆ 3           ┆ 26  ┆ Beautiful and      ┆ … ┆ Dresses    ┆ Dresses    ┆ 0    ┆ 0.9985562  │\n",
       "│       ┆             ┆     ┆ unique dress       ┆   ┆            ┆            ┆      ┆            │\n",
       "│ 35    ┆ 3           ┆ 28  ┆                    ┆ … ┆ Dresses    ┆ Dresses    ┆ 0    ┆ 0.9972638  │\n",
       "│ 36    ┆ 3           ┆ 31  ┆ High quality one   ┆ … ┆ Dresses    ┆ Dresses    ┆ 0    ┆ 0.9974788  │\n",
       "│       ┆             ┆     ┆ of a kind pie…     ┆   ┆            ┆            ┆      ┆            │\n",
       "│ …     ┆ …           ┆ …   ┆ …                  ┆ … ┆ …          ┆ …          ┆ …    ┆ …          │\n",
       "│ 9995  ┆ 232         ┆ 57  ┆ Runs big on top    ┆ … ┆ Dresses    ┆ Dresses    ┆ 2    ┆ 0.957912   │\n",
       "│ 9996  ┆ 232         ┆ 58  ┆                    ┆ … ┆ Dresses    ┆ Dresses    ┆ 2    ┆ 0.881258   │\n",
       "│ 9997  ┆ 232         ┆ 60  ┆ I was really       ┆ … ┆ Dresses    ┆ Dresses    ┆ 2    ┆ 0.019308   │\n",
       "│       ┆             ┆     ┆ disappointed       ┆   ┆            ┆            ┆      ┆            │\n",
       "│ 9998  ┆ 232         ┆ 62  ┆ Too heavy          ┆ … ┆ Dresses    ┆ Dresses    ┆ 2    ┆ 0.022543   │\n",
       "│ 9999  ┆ 232         ┆ 62  ┆                    ┆ … ┆ Dresses    ┆ Dresses    ┆ 2    ┆ 0.9983897  │\n",
       "└───────┴─────────────┴─────┴────────────────────┴───┴────────────┴────────────┴──────┴────────────┘"
      ]
     },
     "execution_count": 8,
     "metadata": {},
     "output_type": "execute_result"
    }
   ],
   "source": [
    "oof"
   ]
  },
  {
   "cell_type": "code",
   "execution_count": 9,
   "metadata": {},
   "outputs": [],
   "source": [
    "oof.write_csv(\"../\" + \"trained_models/e005-6-7-ens/large-oof.csv\")"
   ]
  },
  {
   "cell_type": "code",
   "execution_count": 10,
   "metadata": {},
   "outputs": [
    {
     "name": "stdout",
     "output_type": "stream",
     "text": [
      "CV Score: 0.9693835695951963\n"
     ]
    }
   ],
   "source": [
    "from sklearn.metrics import roc_auc_score\n",
    "\n",
    "cv_score = roc_auc_score(oof[\"label\"], oof[\"valid_pred\"])\n",
    "print(f\"CV Score: {cv_score}\")"
   ]
  },
  {
   "cell_type": "code",
   "execution_count": 11,
   "metadata": {},
   "outputs": [],
   "source": [
    "pred_fold0 = pl.read_csv(\n",
    "    \"../\"\n",
    "    + \"trained_models/e005-use-large-fold0_org/submission_e005-use-large-fold0_cv0.9719.csv\"\n",
    ")\n",
    "pred_fold1 = pl.read_csv(\n",
    "    \"../\"\n",
    "    + \"trained_models/e006-use-large-fold1_org/submission_e006-use-large-fold1_cv0.9737.csv\"\n",
    ")\n",
    "pred_fold2 = pl.read_csv(\n",
    "    \"../\"\n",
    "    + \"trained_models/e007-use-large-fold2_org/submission_e007-use-large-fold2_cv0.9654.csv\"\n",
    ")"
   ]
  },
  {
   "cell_type": "code",
   "execution_count": 13,
   "metadata": {},
   "outputs": [
    {
     "data": {
      "text/plain": [
       "array([ 7085.5,  1696. ,  8929. , ...,  9496.5,  8608. , 10664. ])"
      ]
     },
     "execution_count": 13,
     "metadata": {},
     "output_type": "execute_result"
    }
   ],
   "source": [
    "from scipy.stats import rankdata\n",
    "\n",
    "rankdata(pred_fold0)"
   ]
  },
  {
   "cell_type": "code",
   "execution_count": 15,
   "metadata": {},
   "outputs": [
    {
     "data": {
      "text/plain": [
       "array([22882. ,  5281. , 27584. , ..., 27636. , 27141. , 29970.5])"
      ]
     },
     "execution_count": 15,
     "metadata": {},
     "output_type": "execute_result"
    }
   ],
   "source": [
    "(rankdata(pred_fold0) + rankdata(pred_fold1) + rankdata(pred_fold2))"
   ]
  },
  {
   "cell_type": "code",
   "execution_count": 23,
   "metadata": {},
   "outputs": [],
   "source": [
    "# ((pred_fold0 + pred_fold1 + pred_fold2) / 3).write_csv(\n",
    "sub = pl.DataFrame((rankdata(pred_fold0) + rankdata(pred_fold1) + rankdata(pred_fold2)))\n",
    "\n",
    "sub.rename({\"column_0\": \"target\"}).write_csv(\n",
    "    \"../\" + \"trained_models/e005-6-7-ens/e005-6-7-ens-rank.csv\"\n",
    ")"
   ]
  },
  {
   "cell_type": "code",
   "execution_count": 22,
   "metadata": {},
   "outputs": [
    {
     "data": {
      "text/html": [
       "<div><style>\n",
       ".dataframe > thead > tr,\n",
       ".dataframe > tbody > tr {\n",
       "  text-align: right;\n",
       "  white-space: pre-wrap;\n",
       "}\n",
       "</style>\n",
       "<small>shape: (11_155, 1)</small><table border=\"1\" class=\"dataframe\"><thead><tr><th>target</th></tr><tr><td>f64</td></tr></thead><tbody><tr><td>22882.0</td></tr><tr><td>5281.0</td></tr><tr><td>27584.0</td></tr><tr><td>2438.0</td></tr><tr><td>13478.5</td></tr><tr><td>&hellip;</td></tr><tr><td>27247.5</td></tr><tr><td>29776.0</td></tr><tr><td>27636.0</td></tr><tr><td>27141.0</td></tr><tr><td>29970.5</td></tr></tbody></table></div>"
      ],
      "text/plain": [
       "shape: (11_155, 1)\n",
       "┌─────────┐\n",
       "│ target  │\n",
       "│ ---     │\n",
       "│ f64     │\n",
       "╞═════════╡\n",
       "│ 22882.0 │\n",
       "│ 5281.0  │\n",
       "│ 27584.0 │\n",
       "│ 2438.0  │\n",
       "│ 13478.5 │\n",
       "│ …       │\n",
       "│ 27247.5 │\n",
       "│ 29776.0 │\n",
       "│ 27636.0 │\n",
       "│ 27141.0 │\n",
       "│ 29970.5 │\n",
       "└─────────┘"
      ]
     },
     "execution_count": 22,
     "metadata": {},
     "output_type": "execute_result"
    }
   ],
   "source": []
  },
  {
   "cell_type": "code",
   "execution_count": null,
   "metadata": {},
   "outputs": [],
   "source": []
  }
 ],
 "metadata": {
  "kernelspec": {
   "display_name": "base",
   "language": "python",
   "name": "python3"
  },
  "language_info": {
   "codemirror_mode": {
    "name": "ipython",
    "version": 3
   },
   "file_extension": ".py",
   "mimetype": "text/x-python",
   "name": "python",
   "nbconvert_exporter": "python",
   "pygments_lexer": "ipython3",
   "version": "3.10.14"
  }
 },
 "nbformat": 4,
 "nbformat_minor": 2
}
