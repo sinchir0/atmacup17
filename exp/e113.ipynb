{
 "cells": [
  {
   "cell_type": "markdown",
   "metadata": {},
   "source": [
    "# 目的\n",
    "LightGBMによる2ndStage"
   ]
  },
  {
   "cell_type": "code",
   "execution_count": 1,
   "metadata": {},
   "outputs": [],
   "source": [
    "EXP_NAME = \"e113-weight-ave\"\n",
    "COMPETITION_NAME = \"atmacup17\"\n",
    "\n",
    "DATA_PATH = \"data\"\n",
    "ENV_PATH = \"env_file\"\n",
    "MODEL_OUTPUT_PATH = f\"trained_models/{EXP_NAME}\"\n",
    "TARGET_COL = \"Recommended IND\"\n",
    "\n",
    "# experiment parameter\n",
    "DEBUG = False\n",
    "TRAINING = True\n",
    "UPLOAD_DATA_TO_S3 = True\n",
    "# UPLOAD_DATA_TO_KAGGLE = True\n",
    "WANDB = True"
   ]
  },
  {
   "cell_type": "code",
   "execution_count": 2,
   "metadata": {},
   "outputs": [],
   "source": [
    "import polars as pl\n",
    "import numpy as np\n",
    "\n",
    "from sklearn.model_selection import KFold, train_test_split\n",
    "from sklearn.metrics import roc_auc_score\n",
    "\n",
    "import lightgbm as lgb\n",
    "\n",
    "import seaborn as sns"
   ]
  },
  {
   "cell_type": "code",
   "execution_count": 3,
   "metadata": {},
   "outputs": [
    {
     "data": {
      "text/plain": [
       "'1.0.0'"
      ]
     },
     "execution_count": 3,
     "metadata": {},
     "output_type": "execute_result"
    }
   ],
   "source": [
    "pl.__version__"
   ]
  },
  {
   "cell_type": "code",
   "execution_count": 4,
   "metadata": {},
   "outputs": [
    {
     "data": {
      "text/plain": [
       "'4.5.0'"
      ]
     },
     "execution_count": 4,
     "metadata": {},
     "output_type": "execute_result"
    }
   ],
   "source": [
    "lgb.__version__"
   ]
  },
  {
   "cell_type": "code",
   "execution_count": 5,
   "metadata": {},
   "outputs": [
    {
     "name": "stdout",
     "output_type": "stream",
     "text": [
      "/home/shinichiro.saito/atmacup17/exp\n",
      "GCP!\n",
      "/home/shinichiro.saito/atmacup17/data\n",
      "/home/shinichiro.saito/atmacup17/exp\n",
      "GCP!\n",
      "/home/shinichiro.saito/atmacup17/trained_models/e113-weight-ave\n",
      "/home/shinichiro.saito/atmacup17/exp\n",
      "GCP!\n"
     ]
    }
   ],
   "source": [
    "def resolve_path(base_path: str) -> str:\n",
    "    import os\n",
    "\n",
    "    cwd = os.getcwd()\n",
    "    print(cwd)\n",
    "    if cwd == f\"/notebooks\":\n",
    "        print(\"Jupyter Kernel By VSCode!\")\n",
    "        return \"kernel\", f\"/notebooks/{COMPETITION_NAME}/{base_path}\"\n",
    "    elif cwd == f\"/notebooks/{COMPETITION_NAME}\":\n",
    "        print(\"nohup!\")\n",
    "        return base_path\n",
    "    elif cwd == f\"/notebooks/{COMPETITION_NAME}/{COMPETITION_NAME}/exp\":\n",
    "        print(\"Jupyter Lab!\")\n",
    "        return \"nohup\", f\"../../{base_path}\"\n",
    "    elif cwd == f\"/content\":\n",
    "        print(\"Google Colab!\")\n",
    "        return \"colab\", f\"/content/drive/MyDrive/Kaggle/{COMPETITION_NAME}/{base_path}\"\n",
    "    elif cwd.startswith(\"/home/shinichiro.saito\"):\n",
    "        print(\"GCP!\")\n",
    "        return \"GCP\", f\"/home/shinichiro.saito/{COMPETITION_NAME}/{base_path}\"\n",
    "    else:\n",
    "        raise Exception(\"Unknown environment\")\n",
    "\n",
    "\n",
    "ENV_NAME, DATA_PATH = resolve_path(DATA_PATH)\n",
    "print(DATA_PATH)\n",
    "_, MODEL_OUTPUT_PATH = resolve_path(MODEL_OUTPUT_PATH)\n",
    "print(MODEL_OUTPUT_PATH)\n",
    "_, ENV_PATH = resolve_path(ENV_PATH)"
   ]
  },
  {
   "cell_type": "code",
   "execution_count": 6,
   "metadata": {},
   "outputs": [],
   "source": [
    "import json\n",
    "\n",
    "with open(f\"{DATA_PATH}/rec_stratified_fold.json\") as f:\n",
    "    label_stratified_fold = json.load(f)"
   ]
  },
  {
   "cell_type": "code",
   "execution_count": 7,
   "metadata": {},
   "outputs": [],
   "source": [
    "train = pl.read_csv(f\"{DATA_PATH}/train_with_index.csv\")\n",
    "test = pl.read_csv(f\"{DATA_PATH}/test.csv\")\n",
    "clothing_master = pl.read_csv(f\"{DATA_PATH}/clothing_master.csv\")\n",
    "\n",
    "train = train.join(clothing_master, on=\"Clothing ID\", how=\"left\").with_columns(\n",
    "    pl.col(\"index\").replace(label_stratified_fold).alias(\"fold\"),  # foldを追加する\n",
    "    pl.col(\"Clothing ID\").cast(pl.String),\n",
    ")\n",
    "test = test.join(clothing_master, on=\"Clothing ID\", how=\"left\").with_columns(\n",
    "    pl.col(\"Clothing ID\").cast(pl.String),\n",
    ")"
   ]
  },
  {
   "cell_type": "code",
   "execution_count": 42,
   "metadata": {},
   "outputs": [
    {
     "data": {
      "text/html": [
       "<div><style>\n",
       ".dataframe > thead > tr,\n",
       ".dataframe > tbody > tr {\n",
       "  text-align: right;\n",
       "  white-space: pre-wrap;\n",
       "}\n",
       "</style>\n",
       "<small>shape: (2, 2)</small><table border=\"1\" class=\"dataframe\"><thead><tr><th>Recommended IND</th><th>count</th></tr><tr><td>i64</td><td>u32</td></tr></thead><tbody><tr><td>1</td><td>2734</td></tr><tr><td>0</td><td>599</td></tr></tbody></table></div>"
      ],
      "text/plain": [
       "shape: (2, 2)\n",
       "┌─────────────────┬───────┐\n",
       "│ Recommended IND ┆ count │\n",
       "│ ---             ┆ ---   │\n",
       "│ i64             ┆ u32   │\n",
       "╞═════════════════╪═══════╡\n",
       "│ 1               ┆ 2734  │\n",
       "│ 0               ┆ 599   │\n",
       "└─────────────────┴───────┘"
      ]
     },
     "execution_count": 42,
     "metadata": {},
     "output_type": "execute_result"
    }
   ],
   "source": [
    "train.filter(pl.col(\"fold\") == 2)[\"Recommended IND\"].value_counts()"
   ]
  },
  {
   "cell_type": "markdown",
   "metadata": {},
   "source": [
    "# feature engineering"
   ]
  },
  {
   "cell_type": "markdown",
   "metadata": {},
   "source": [
    "## DeBERTa xsmall oof pred"
   ]
  },
  {
   "cell_type": "code",
   "execution_count": 9,
   "metadata": {},
   "outputs": [],
   "source": [
    "xsmall_oof = pl.read_csv(\n",
    "    f\"../trained_models/e004-0-1-2-ens/xsmall-fold-fix-oof.csv\"\n",
    ").rename({\"valid_pred\": \"xsmall_pred\"})\n",
    "\n",
    "xsmall_pred = pl.read_csv(\n",
    "    f\"../trained_models/e004-0-1-2-ens/e004-0-1-2-ens-cv0.9590.csv\"\n",
    ")"
   ]
  },
  {
   "cell_type": "code",
   "execution_count": 10,
   "metadata": {},
   "outputs": [],
   "source": [
    "train = train.join(\n",
    "    xsmall_oof.select(pl.col([\"index\", \"xsmall_pred\"])), on=\"index\", how=\"left\"\n",
    ")\n",
    "test = test.with_columns(pl.Series(xsmall_pred).alias(\"xsmall_pred\"))"
   ]
  },
  {
   "cell_type": "markdown",
   "metadata": {},
   "source": [
    "# DeBERTa(all_info auxiliary loss) large oof pred"
   ]
  },
  {
   "cell_type": "code",
   "execution_count": 11,
   "metadata": {},
   "outputs": [],
   "source": [
    "large_aux_oof_fold0 = pl.read_csv(\n",
    "    \"../trained_models/e032-lrg-fold0/valid_dataset_e032-lrg-fold0.csv\"\n",
    ")\n",
    "large_aux_oof_fold1 = pl.read_csv(\n",
    "    \"../trained_models/e033-lrg-fold1/valid_dataset_e033-lrg-fold1.csv\"\n",
    ")\n",
    "large_aux_oof_fold2 = pl.read_csv(\n",
    "    \"../trained_models/e034-lrg-fold2/valid_dataset_e034-lrg-fold2.csv\"\n",
    ")\n",
    "\n",
    "large_aux_pred_fold0 = pl.read_csv(\n",
    "    \"../trained_models/e032-lrg-fold0/submission_e032-lrg-fold0_cv0.9720.csv\"\n",
    ")\n",
    "large_aux_pred_fold1 = pl.read_csv(\n",
    "    \"../trained_models/e033-lrg-fold1/submission_e033-lrg-fold1_cv0.9715.csv\"\n",
    ")\n",
    "large_aux_pred_fold2 = pl.read_csv(\n",
    "    \"../trained_models/e034-lrg-fold2/submission_e034-lrg-fold2_cv0.9669.csv\"\n",
    ")\n",
    "\n",
    "large_aux_oof = pl.concat(\n",
    "    [large_aux_oof_fold0, large_aux_oof_fold1, large_aux_oof_fold2], how=\"vertical\"\n",
    ")\n",
    "large_aux_pred = (\n",
    "    large_aux_pred_fold0 + large_aux_pred_fold1 + large_aux_pred_fold2\n",
    ") / 3"
   ]
  },
  {
   "cell_type": "code",
   "execution_count": 12,
   "metadata": {},
   "outputs": [],
   "source": [
    "train = train.join(\n",
    "    large_aux_oof.select(pl.col([\"index\", \"valid_pred\"])), on=\"index\", how=\"left\"\n",
    ").rename({\"valid_pred\": \"large_aux_pred\"})\n",
    "test = test.with_columns(pl.Series(large_aux_pred).alias(\"large_aux_pred\"))"
   ]
  },
  {
   "cell_type": "markdown",
   "metadata": {},
   "source": [
    "# DeBERTa(all info) large"
   ]
  },
  {
   "cell_type": "code",
   "execution_count": 13,
   "metadata": {},
   "outputs": [],
   "source": [
    "large_all_info_oof = pl.read_csv(f\"../trained_models/e037-ens/large-oof.csv\")\n",
    "large_all_info_pred = pl.read_csv(f\"../trained_models/e037-ens/ens37-cv0.9696.csv\")"
   ]
  },
  {
   "cell_type": "code",
   "execution_count": 14,
   "metadata": {},
   "outputs": [],
   "source": [
    "train = train.join(\n",
    "    large_all_info_oof.select(pl.col([\"index\", \"valid_pred\"])), on=\"index\", how=\"left\"\n",
    ").rename({\"valid_pred\": \"large_all_info_pred\"})\n",
    "test = test.with_columns(pl.Series(large_all_info_pred).alias(\"large_all_info_pred\"))"
   ]
  },
  {
   "cell_type": "markdown",
   "metadata": {},
   "source": [
    "# Average Ensemble"
   ]
  },
  {
   "cell_type": "code",
   "execution_count": 16,
   "metadata": {},
   "outputs": [
    {
     "data": {
      "text/html": [
       "<div><style>\n",
       ".dataframe > thead > tr,\n",
       ".dataframe > tbody > tr {\n",
       "  text-align: right;\n",
       "  white-space: pre-wrap;\n",
       "}\n",
       "</style>\n",
       "<small>shape: (10_000, 15)</small><table border=\"1\" class=\"dataframe\"><thead><tr><th>index</th><th>Clothing ID</th><th>Age</th><th>Title</th><th>Review Text</th><th>Rating</th><th>Recommended IND</th><th>Positive Feedback Count</th><th>Division Name</th><th>Department Name</th><th>Class Name</th><th>fold</th><th>xsmall_pred</th><th>large_aux_pred</th><th>large_all_info_pred</th></tr><tr><td>i64</td><td>str</td><td>i64</td><td>str</td><td>str</td><td>i64</td><td>i64</td><td>i64</td><td>str</td><td>str</td><td>str</td><td>i64</td><td>f64</td><td>f64</td><td>f64</td></tr></thead><tbody><tr><td>0</td><td>&quot;0&quot;</td><td>25</td><td>&quot;3-season skirt!&quot;</td><td>&quot;Adorable, well-made skirt! lin…</td><td>5</td><td>1</td><td>4</td><td>&quot;General&quot;</td><td>&quot;Bottoms&quot;</td><td>&quot;Skirts&quot;</td><td>2</td><td>0.9985335</td><td>0.996858</td><td>0.9991135</td></tr><tr><td>1</td><td>&quot;0&quot;</td><td>39</td><td>&quot;Very cute&quot;</td><td>&quot;Love the asymmetrical hem. wai…</td><td>5</td><td>1</td><td>0</td><td>&quot;General&quot;</td><td>&quot;Bottoms&quot;</td><td>&quot;Skirts&quot;</td><td>2</td><td>0.9983802</td><td>0.9859634</td><td>0.99898</td></tr><tr><td>2</td><td>&quot;0&quot;</td><td>42</td><td>&quot;Beautiful! fruns small for typ…</td><td>&quot;I love this skirt! i wasn&#x27;t su…</td><td>5</td><td>1</td><td>5</td><td>&quot;General&quot;</td><td>&quot;Bottoms&quot;</td><td>&quot;Skirts&quot;</td><td>1</td><td>0.998649</td><td>0.99576</td><td>0.9971439</td></tr><tr><td>3</td><td>&quot;0&quot;</td><td>45</td><td>null</td><td>&quot;I was really pleased with this…</td><td>5</td><td>1</td><td>9</td><td>&quot;General&quot;</td><td>&quot;Bottoms&quot;</td><td>&quot;Skirts&quot;</td><td>0</td><td>0.998242</td><td>0.9971384</td><td>0.9974885</td></tr><tr><td>4</td><td>&quot;0&quot;</td><td>57</td><td>&quot;Unique, pretty asymmetric skir…</td><td>&quot;I saw this skirt in retailer s…</td><td>5</td><td>1</td><td>1</td><td>&quot;General&quot;</td><td>&quot;Bottoms&quot;</td><td>&quot;Skirts&quot;</td><td>1</td><td>0.996746</td><td>0.9920002</td><td>0.9959849</td></tr><tr><td>&hellip;</td><td>&hellip;</td><td>&hellip;</td><td>&hellip;</td><td>&hellip;</td><td>&hellip;</td><td>&hellip;</td><td>&hellip;</td><td>&hellip;</td><td>&hellip;</td><td>&hellip;</td><td>&hellip;</td><td>&hellip;</td><td>&hellip;</td><td>&hellip;</td></tr><tr><td>9995</td><td>&quot;232&quot;</td><td>57</td><td>&quot;Runs big on top&quot;</td><td>null</td><td>3</td><td>1</td><td>5</td><td>&quot;General&quot;</td><td>&quot;Dresses&quot;</td><td>&quot;Dresses&quot;</td><td>1</td><td>0.980506</td><td>0.924959</td><td>0.97151</td></tr><tr><td>9996</td><td>&quot;232&quot;</td><td>58</td><td>null</td><td>&quot;I loved the dress, but just no…</td><td>1</td><td>1</td><td>5</td><td>&quot;General&quot;</td><td>&quot;Dresses&quot;</td><td>&quot;Dresses&quot;</td><td>0</td><td>0.9908035</td><td>0.941761</td><td>0.9614253</td></tr><tr><td>9997</td><td>&quot;232&quot;</td><td>60</td><td>&quot;I was really disappointed&quot;</td><td>&quot;I was really hoping this dress…</td><td>2</td><td>0</td><td>7</td><td>&quot;General&quot;</td><td>&quot;Dresses&quot;</td><td>&quot;Dresses&quot;</td><td>1</td><td>0.032651</td><td>0.054349</td><td>0.030647</td></tr><tr><td>9998</td><td>&quot;232&quot;</td><td>62</td><td>&quot;Too heavy&quot;</td><td>&quot;The design is beautiful but it…</td><td>2</td><td>0</td><td>0</td><td>&quot;General&quot;</td><td>&quot;Dresses&quot;</td><td>&quot;Dresses&quot;</td><td>1</td><td>0.033243</td><td>0.059921</td><td>0.053305</td></tr><tr><td>9999</td><td>&quot;232&quot;</td><td>62</td><td>null</td><td>&quot;I love this dress. very comfor…</td><td>5</td><td>1</td><td>2</td><td>&quot;General&quot;</td><td>&quot;Dresses&quot;</td><td>&quot;Dresses&quot;</td><td>2</td><td>0.998548</td><td>0.9966102</td><td>0.9987576</td></tr></tbody></table></div>"
      ],
      "text/plain": [
       "shape: (10_000, 15)\n",
       "┌───────┬─────────────┬─────┬───────────────┬───┬──────┬─────────────┬──────────────┬──────────────┐\n",
       "│ index ┆ Clothing ID ┆ Age ┆ Title         ┆ … ┆ fold ┆ xsmall_pred ┆ large_aux_pr ┆ large_all_in │\n",
       "│ ---   ┆ ---         ┆ --- ┆ ---           ┆   ┆ ---  ┆ ---         ┆ ed           ┆ fo_pred      │\n",
       "│ i64   ┆ str         ┆ i64 ┆ str           ┆   ┆ i64  ┆ f64         ┆ ---          ┆ ---          │\n",
       "│       ┆             ┆     ┆               ┆   ┆      ┆             ┆ f64          ┆ f64          │\n",
       "╞═══════╪═════════════╪═════╪═══════════════╪═══╪══════╪═════════════╪══════════════╪══════════════╡\n",
       "│ 0     ┆ 0           ┆ 25  ┆ 3-season      ┆ … ┆ 2    ┆ 0.9985335   ┆ 0.996858     ┆ 0.9991135    │\n",
       "│       ┆             ┆     ┆ skirt!        ┆   ┆      ┆             ┆              ┆              │\n",
       "│ 1     ┆ 0           ┆ 39  ┆ Very cute     ┆ … ┆ 2    ┆ 0.9983802   ┆ 0.9859634    ┆ 0.99898      │\n",
       "│ 2     ┆ 0           ┆ 42  ┆ Beautiful!    ┆ … ┆ 1    ┆ 0.998649    ┆ 0.99576      ┆ 0.9971439    │\n",
       "│       ┆             ┆     ┆ fruns small   ┆   ┆      ┆             ┆              ┆              │\n",
       "│       ┆             ┆     ┆ for typ…      ┆   ┆      ┆             ┆              ┆              │\n",
       "│ 3     ┆ 0           ┆ 45  ┆ null          ┆ … ┆ 0    ┆ 0.998242    ┆ 0.9971384    ┆ 0.9974885    │\n",
       "│ 4     ┆ 0           ┆ 57  ┆ Unique,       ┆ … ┆ 1    ┆ 0.996746    ┆ 0.9920002    ┆ 0.9959849    │\n",
       "│       ┆             ┆     ┆ pretty        ┆   ┆      ┆             ┆              ┆              │\n",
       "│       ┆             ┆     ┆ asymmetric    ┆   ┆      ┆             ┆              ┆              │\n",
       "│       ┆             ┆     ┆ skir…         ┆   ┆      ┆             ┆              ┆              │\n",
       "│ …     ┆ …           ┆ …   ┆ …             ┆ … ┆ …    ┆ …           ┆ …            ┆ …            │\n",
       "│ 9995  ┆ 232         ┆ 57  ┆ Runs big on   ┆ … ┆ 1    ┆ 0.980506    ┆ 0.924959     ┆ 0.97151      │\n",
       "│       ┆             ┆     ┆ top           ┆   ┆      ┆             ┆              ┆              │\n",
       "│ 9996  ┆ 232         ┆ 58  ┆ null          ┆ … ┆ 0    ┆ 0.9908035   ┆ 0.941761     ┆ 0.9614253    │\n",
       "│ 9997  ┆ 232         ┆ 60  ┆ I was really  ┆ … ┆ 1    ┆ 0.032651    ┆ 0.054349     ┆ 0.030647     │\n",
       "│       ┆             ┆     ┆ disappointed  ┆   ┆      ┆             ┆              ┆              │\n",
       "│ 9998  ┆ 232         ┆ 62  ┆ Too heavy     ┆ … ┆ 1    ┆ 0.033243    ┆ 0.059921     ┆ 0.053305     │\n",
       "│ 9999  ┆ 232         ┆ 62  ┆ null          ┆ … ┆ 2    ┆ 0.998548    ┆ 0.9966102    ┆ 0.9987576    │\n",
       "└───────┴─────────────┴─────┴───────────────┴───┴──────┴─────────────┴──────────────┴──────────────┘"
      ]
     },
     "execution_count": 16,
     "metadata": {},
     "output_type": "execute_result"
    }
   ],
   "source": []
  },
  {
   "cell_type": "code",
   "execution_count": 29,
   "metadata": {},
   "outputs": [
    {
     "data": {
      "text/plain": [
       "0.9714792900291009"
      ]
     },
     "execution_count": 29,
     "metadata": {},
     "output_type": "execute_result"
    }
   ],
   "source": [
    "def get_optimized_weight(x1, x2, x3, y1, weights):\n",
    "    X_combined = weights[0] * x1 + weights[1] * x2 + weights[2] * x3\n",
    "    return roc_auc_score(y1, X_combined)\n",
    "\n",
    "\n",
    "get_optimized_weight(\n",
    "    train[\"xsmall_pred\"],\n",
    "    train[\"large_aux_pred\"],\n",
    "    train[\"large_all_info_pred\"],\n",
    "    train[\"Recommended IND\"],\n",
    "    weights=[1 / 4, 1 / 4, 1 / 2],\n",
    ")"
   ]
  },
  {
   "cell_type": "code",
   "execution_count": 32,
   "metadata": {},
   "outputs": [
    {
     "data": {
      "application/vnd.jupyter.widget-view+json": {
       "model_id": "70ff0f736f34491cbe4dd7a47cf218e8",
       "version_major": 2,
       "version_minor": 0
      },
      "text/plain": [
       "  0%|          | 0/101 [00:00<?, ?it/s]"
      ]
     },
     "metadata": {},
     "output_type": "display_data"
    },
    {
     "name": "stdout",
     "output_type": "stream",
     "text": [
      "Optimal weights: [0.07, 0.47000000000000003, 0.4599999999999999]\n",
      "Optimal ROC AUC Score: 0.9721017134375918\n"
     ]
    }
   ],
   "source": [
    "from sklearn.metrics import roc_auc_score\n",
    "import numpy as np\n",
    "from tqdm.auto import tqdm\n",
    "\n",
    "# 重みの範囲とステップを設定\n",
    "step = 0.01\n",
    "weight_range = np.arange(0, 1 + step, step)\n",
    "\n",
    "\n",
    "# 最適な重みを探す関数\n",
    "def find_optimal_weights(x1, x2, x3, y1):\n",
    "    best_score = 0\n",
    "    best_weights = None\n",
    "\n",
    "    # すべての重みの組み合わせを試行\n",
    "    for w1 in tqdm(weight_range):\n",
    "        for w2 in weight_range:\n",
    "            w3 = 1 - w1 - w2  # 重みの合計が1になるようにする\n",
    "            if w3 < 0 or w3 > 1:\n",
    "                continue\n",
    "\n",
    "            # ROC AUCスコアを計算\n",
    "            score = get_optimized_weight(x1, x2, x3, y1, weights=[w1, w2, w3])\n",
    "            if score > best_score:\n",
    "                best_score = score\n",
    "                best_weights = [w1, w2, w3]\n",
    "\n",
    "    return best_weights, best_score\n",
    "\n",
    "\n",
    "# 使用例\n",
    "optimal_weights, optimal_score = find_optimal_weights(\n",
    "    train[\"xsmall_pred\"],\n",
    "    train[\"large_aux_pred\"],\n",
    "    train[\"large_all_info_pred\"],\n",
    "    train[\"Recommended IND\"],\n",
    ")\n",
    "\n",
    "print(f\"Optimal weights: {optimal_weights}\")\n",
    "print(f\"Optimal ROC AUC Score: {optimal_score}\")\n"
   ]
  },
  {
   "cell_type": "markdown",
   "metadata": {},
   "source": [
    "# Submission"
   ]
  },
  {
   "cell_type": "code",
   "execution_count": 33,
   "metadata": {},
   "outputs": [],
   "source": [
    "pred = (\n",
    "    optimal_weights[0] * test[\"xsmall_pred\"]\n",
    "    + optimal_weights[1] * test[\"large_aux_pred\"]\n",
    "    + optimal_weights[2] * test[\"large_all_info_pred\"]\n",
    ")"
   ]
  },
  {
   "cell_type": "code",
   "execution_count": 35,
   "metadata": {},
   "outputs": [],
   "source": [
    "import os\n",
    "\n",
    "os.makedirs(MODEL_OUTPUT_PATH, exist_ok=True)\n",
    "\n",
    "sample_submission = pl.read_csv(f\"{DATA_PATH}/sample_submission.csv\")\n",
    "\n",
    "if DEBUG:\n",
    "    sample_submission = sample_submission.head(100)\n",
    "\n",
    "(\n",
    "    sample_submission.with_columns(pl.Series(pred).alias(\"target\")).write_csv(\n",
    "        f\"{MODEL_OUTPUT_PATH}/submission_{EXP_NAME}_cv{optimal_score:.4f}.csv\"\n",
    "    )\n",
    ")"
   ]
  },
  {
   "cell_type": "code",
   "execution_count": null,
   "metadata": {},
   "outputs": [],
   "source": []
  }
 ],
 "metadata": {
  "kernelspec": {
   "display_name": ".venv",
   "language": "python",
   "name": "python3"
  },
  "language_info": {
   "codemirror_mode": {
    "name": "ipython",
    "version": 3
   },
   "file_extension": ".py",
   "mimetype": "text/x-python",
   "name": "python",
   "nbconvert_exporter": "python",
   "pygments_lexer": "ipython3",
   "version": "3.10.14"
  }
 },
 "nbformat": 4,
 "nbformat_minor": 2
}
