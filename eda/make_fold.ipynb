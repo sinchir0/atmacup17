{
 "cells": [
  {
   "cell_type": "code",
   "execution_count": 18,
   "metadata": {},
   "outputs": [],
   "source": [
    "import polars as pl\n",
    "\n",
    "train = pl.read_csv(\"/home/shinichiro.saito/atmacup17/data/train_with_index.csv\")"
   ]
  },
  {
   "cell_type": "code",
   "execution_count": 19,
   "metadata": {},
   "outputs": [
    {
     "data": {
      "text/html": [
       "<div><style>\n",
       ".dataframe > thead > tr,\n",
       ".dataframe > tbody > tr {\n",
       "  text-align: right;\n",
       "  white-space: pre-wrap;\n",
       "}\n",
       "</style>\n",
       "<small>shape: (10_000, 7)</small><table border=\"1\" class=\"dataframe\"><thead><tr><th>Clothing ID</th><th>Age</th><th>Title</th><th>Review Text</th><th>Rating</th><th>Recommended IND</th><th>Positive Feedback Count</th></tr><tr><td>i64</td><td>i64</td><td>str</td><td>str</td><td>i64</td><td>i64</td><td>i64</td></tr></thead><tbody><tr><td>0</td><td>25</td><td>&quot;3-season skirt!&quot;</td><td>&quot;Adorable, well-made skirt! lin…</td><td>5</td><td>1</td><td>4</td></tr><tr><td>0</td><td>39</td><td>&quot;Very cute&quot;</td><td>&quot;Love the asymmetrical hem. wai…</td><td>5</td><td>1</td><td>0</td></tr><tr><td>0</td><td>42</td><td>&quot;Beautiful! fruns small for typ…</td><td>&quot;I love this skirt! i wasn&#x27;t su…</td><td>5</td><td>1</td><td>5</td></tr><tr><td>0</td><td>45</td><td>null</td><td>&quot;I was really pleased with this…</td><td>5</td><td>1</td><td>9</td></tr><tr><td>0</td><td>57</td><td>&quot;Unique, pretty asymmetric skir…</td><td>&quot;I saw this skirt in retailer s…</td><td>5</td><td>1</td><td>1</td></tr><tr><td>&hellip;</td><td>&hellip;</td><td>&hellip;</td><td>&hellip;</td><td>&hellip;</td><td>&hellip;</td><td>&hellip;</td></tr><tr><td>232</td><td>57</td><td>&quot;Runs big on top&quot;</td><td>null</td><td>3</td><td>1</td><td>5</td></tr><tr><td>232</td><td>58</td><td>null</td><td>&quot;I loved the dress, but just no…</td><td>1</td><td>1</td><td>5</td></tr><tr><td>232</td><td>60</td><td>&quot;I was really disappointed&quot;</td><td>&quot;I was really hoping this dress…</td><td>2</td><td>0</td><td>7</td></tr><tr><td>232</td><td>62</td><td>&quot;Too heavy&quot;</td><td>&quot;The design is beautiful but it…</td><td>2</td><td>0</td><td>0</td></tr><tr><td>232</td><td>62</td><td>null</td><td>&quot;I love this dress. very comfor…</td><td>5</td><td>1</td><td>2</td></tr></tbody></table></div>"
      ],
      "text/plain": [
       "shape: (10_000, 7)\n",
       "┌─────────────┬─────┬──────────────────┬──────────────────┬────────┬─────────────┬─────────────────┐\n",
       "│ Clothing ID ┆ Age ┆ Title            ┆ Review Text      ┆ Rating ┆ Recommended ┆ Positive        │\n",
       "│ ---         ┆ --- ┆ ---              ┆ ---              ┆ ---    ┆ IND         ┆ Feedback Count  │\n",
       "│ i64         ┆ i64 ┆ str              ┆ str              ┆ i64    ┆ ---         ┆ ---             │\n",
       "│             ┆     ┆                  ┆                  ┆        ┆ i64         ┆ i64             │\n",
       "╞═════════════╪═════╪══════════════════╪══════════════════╪════════╪═════════════╪═════════════════╡\n",
       "│ 0           ┆ 25  ┆ 3-season skirt!  ┆ Adorable,        ┆ 5      ┆ 1           ┆ 4               │\n",
       "│             ┆     ┆                  ┆ well-made skirt! ┆        ┆             ┆                 │\n",
       "│             ┆     ┆                  ┆ lin…             ┆        ┆             ┆                 │\n",
       "│ 0           ┆ 39  ┆ Very cute        ┆ Love the         ┆ 5      ┆ 1           ┆ 0               │\n",
       "│             ┆     ┆                  ┆ asymmetrical     ┆        ┆             ┆                 │\n",
       "│             ┆     ┆                  ┆ hem. wai…        ┆        ┆             ┆                 │\n",
       "│ 0           ┆ 42  ┆ Beautiful! fruns ┆ I love this      ┆ 5      ┆ 1           ┆ 5               │\n",
       "│             ┆     ┆ small for typ…   ┆ skirt! i wasn't  ┆        ┆             ┆                 │\n",
       "│             ┆     ┆                  ┆ su…              ┆        ┆             ┆                 │\n",
       "│ 0           ┆ 45  ┆ null             ┆ I was really     ┆ 5      ┆ 1           ┆ 9               │\n",
       "│             ┆     ┆                  ┆ pleased with     ┆        ┆             ┆                 │\n",
       "│             ┆     ┆                  ┆ this…            ┆        ┆             ┆                 │\n",
       "│ 0           ┆ 57  ┆ Unique, pretty   ┆ I saw this skirt ┆ 5      ┆ 1           ┆ 1               │\n",
       "│             ┆     ┆ asymmetric skir… ┆ in retailer s…   ┆        ┆             ┆                 │\n",
       "│ …           ┆ …   ┆ …                ┆ …                ┆ …      ┆ …           ┆ …               │\n",
       "│ 232         ┆ 57  ┆ Runs big on top  ┆ null             ┆ 3      ┆ 1           ┆ 5               │\n",
       "│ 232         ┆ 58  ┆ null             ┆ I loved the      ┆ 1      ┆ 1           ┆ 5               │\n",
       "│             ┆     ┆                  ┆ dress, but just  ┆        ┆             ┆                 │\n",
       "│             ┆     ┆                  ┆ no…              ┆        ┆             ┆                 │\n",
       "│ 232         ┆ 60  ┆ I was really     ┆ I was really     ┆ 2      ┆ 0           ┆ 7               │\n",
       "│             ┆     ┆ disappointed     ┆ hoping this      ┆        ┆             ┆                 │\n",
       "│             ┆     ┆                  ┆ dress…           ┆        ┆             ┆                 │\n",
       "│ 232         ┆ 62  ┆ Too heavy        ┆ The design is    ┆ 2      ┆ 0           ┆ 0               │\n",
       "│             ┆     ┆                  ┆ beautiful but    ┆        ┆             ┆                 │\n",
       "│             ┆     ┆                  ┆ it…              ┆        ┆             ┆                 │\n",
       "│ 232         ┆ 62  ┆ null             ┆ I love this      ┆ 5      ┆ 1           ┆ 2               │\n",
       "│             ┆     ┆                  ┆ dress. very      ┆        ┆             ┆                 │\n",
       "│             ┆     ┆                  ┆ comfor…          ┆        ┆             ┆                 │\n",
       "└─────────────┴─────┴──────────────────┴──────────────────┴────────┴─────────────┴─────────────────┘"
      ]
     },
     "execution_count": 19,
     "metadata": {},
     "output_type": "execute_result"
    }
   ],
   "source": [
    "train"
   ]
  },
  {
   "cell_type": "code",
   "execution_count": 20,
   "metadata": {},
   "outputs": [],
   "source": [
    "train = train.with_columns(\n",
    "    pl.concat_str(pl.col(\"Rating\"), pl.col(\"Recommended IND\"), separator=\"_\").alias(\n",
    "        \"rate_rec\"\n",
    "    )\n",
    ")"
   ]
  },
  {
   "cell_type": "code",
   "execution_count": 23,
   "metadata": {},
   "outputs": [],
   "source": [
    "import numpy as np\n",
    "from sklearn.model_selection import StratifiedKFold\n",
    "\n",
    "fold_arr = np.zeros(train.height)\n",
    "sgkf = StratifiedKFold(n_splits=3, random_state=42, shuffle=True)\n",
    "\n",
    "for idx, (_, val_idx) in enumerate(sgkf.split(train, train[\"rate_rec\"])):\n",
    "    fold_arr[val_idx] = idx\n",
    "\n",
    "train = train.with_columns(pl.Series(fold_arr).cast(pl.Int64).alias(\"fold\"))"
   ]
  },
  {
   "cell_type": "code",
   "execution_count": 25,
   "metadata": {},
   "outputs": [
    {
     "data": {
      "text/html": [
       "<div><style>\n",
       ".dataframe > thead > tr,\n",
       ".dataframe > tbody > tr {\n",
       "  text-align: right;\n",
       "  white-space: pre-wrap;\n",
       "}\n",
       "</style>\n",
       "<small>shape: (10, 2)</small><table border=\"1\" class=\"dataframe\"><thead><tr><th>rate_rec</th><th>count</th></tr><tr><td>str</td><td>u32</td></tr></thead><tbody><tr><td>&quot;1_0&quot;</td><td>117</td></tr><tr><td>&quot;1_1&quot;</td><td>4</td></tr><tr><td>&quot;2_0&quot;</td><td>211</td></tr><tr><td>&quot;2_1&quot;</td><td>12</td></tr><tr><td>&quot;3_0&quot;</td><td>244</td></tr><tr><td>&quot;3_1&quot;</td><td>170</td></tr><tr><td>&quot;4_0&quot;</td><td>24</td></tr><tr><td>&quot;4_1&quot;</td><td>701</td></tr><tr><td>&quot;5_0&quot;</td><td>4</td></tr><tr><td>&quot;5_1&quot;</td><td>1847</td></tr></tbody></table></div>"
      ],
      "text/plain": [
       "shape: (10, 2)\n",
       "┌──────────┬───────┐\n",
       "│ rate_rec ┆ count │\n",
       "│ ---      ┆ ---   │\n",
       "│ str      ┆ u32   │\n",
       "╞══════════╪═══════╡\n",
       "│ 1_0      ┆ 117   │\n",
       "│ 1_1      ┆ 4     │\n",
       "│ 2_0      ┆ 211   │\n",
       "│ 2_1      ┆ 12    │\n",
       "│ 3_0      ┆ 244   │\n",
       "│ 3_1      ┆ 170   │\n",
       "│ 4_0      ┆ 24    │\n",
       "│ 4_1      ┆ 701   │\n",
       "│ 5_0      ┆ 4     │\n",
       "│ 5_1      ┆ 1847  │\n",
       "└──────────┴───────┘"
      ]
     },
     "execution_count": 25,
     "metadata": {},
     "output_type": "execute_result"
    }
   ],
   "source": [
    "train.filter(pl.col(\"fold\") == 0)[\"rate_rec\"].value_counts().sort(\"rate_rec\")"
   ]
  },
  {
   "cell_type": "code",
   "execution_count": 27,
   "metadata": {},
   "outputs": [],
   "source": [
    "# idとlabelをdictにして保存する\n",
    "id_fold_dict = dict(zip(train[\"Clothing ID\"], train[\"fold\"]))"
   ]
  },
  {
   "cell_type": "code",
   "execution_count": 28,
   "metadata": {},
   "outputs": [],
   "source": [
    "# jsonで保存する\n",
    "import json\n",
    "\n",
    "with open(\n",
    "    f\"/home/shinichiro.saito/atmacup17/data/label_stratified_fold.json\", \"w\"\n",
    ") as f:\n",
    "    json.dump(id_fold_dict, f)"
   ]
  },
  {
   "cell_type": "code",
   "execution_count": null,
   "metadata": {},
   "outputs": [],
   "source": []
  }
 ],
 "metadata": {
  "kernelspec": {
   "display_name": "base",
   "language": "python",
   "name": "python3"
  },
  "language_info": {
   "codemirror_mode": {
    "name": "ipython",
    "version": 3
   },
   "file_extension": ".py",
   "mimetype": "text/x-python",
   "name": "python",
   "nbconvert_exporter": "python",
   "pygments_lexer": "ipython3",
   "version": "3.10.14"
  }
 },
 "nbformat": 4,
 "nbformat_minor": 2
}
