{
 "cells": [
  {
   "cell_type": "code",
   "execution_count": 2,
   "metadata": {},
   "outputs": [],
   "source": [
    "import pandas as pd\n",
    "\n",
    "data = pd.read_csv(\"../data/test_with_index.csv\")"
   ]
  },
  {
   "cell_type": "code",
   "execution_count": 4,
   "metadata": {},
   "outputs": [],
   "source": [
    "data[\"Title\"] = data[\"Title\"].fillna(\"\")\n",
    "data[\"Review Text\"] = data[\"Review Text\"].fillna(\"\")\n",
    "\n",
    "data[\"full_text\"] = data[\"Title\"] + \" \" + data[\"Review Text\"]\n",
    "\n",
    "data[\"Title_word_num\"] = data[\"Title\"].apply(lambda x: len(x.split()))\n",
    "data[\"Review_word_num\"] = data[\"Review Text\"].apply(lambda x: len(x.split()))\n",
    "data[\"full_text_word_num\"] = data[\"full_text\"].apply(lambda x: len(x.split()))"
   ]
  },
  {
   "cell_type": "code",
   "execution_count": 5,
   "metadata": {},
   "outputs": [
    {
     "data": {
      "text/plain": [
       "full_text_word_num\n",
       "0      497\n",
       "3      249\n",
       "2      246\n",
       "99     176\n",
       "100    173\n",
       "      ... \n",
       "116      7\n",
       "114      5\n",
       "118      3\n",
       "117      3\n",
       "121      1\n",
       "Name: count, Length: 120, dtype: int64"
      ]
     },
     "execution_count": 5,
     "metadata": {},
     "output_type": "execute_result"
    }
   ],
   "source": [
    "data[\"full_text_word_num\"].value_counts()"
   ]
  },
  {
   "cell_type": "code",
   "execution_count": null,
   "metadata": {},
   "outputs": [],
   "source": []
  }
 ],
 "metadata": {
  "kernelspec": {
   "display_name": "base",
   "language": "python",
   "name": "python3"
  },
  "language_info": {
   "codemirror_mode": {
    "name": "ipython",
    "version": 3
   },
   "file_extension": ".py",
   "mimetype": "text/x-python",
   "name": "python",
   "nbconvert_exporter": "python",
   "pygments_lexer": "ipython3",
   "version": "3.10.14"
  }
 },
 "nbformat": 4,
 "nbformat_minor": 2
}
