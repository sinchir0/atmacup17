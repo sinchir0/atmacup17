{
 "cells": [
  {
   "cell_type": "code",
   "execution_count": 2,
   "metadata": {},
   "outputs": [
    {
     "name": "stdout",
     "output_type": "stream",
     "text": [
      "Dimensionality reduction completed!\n"
     ]
    }
   ],
   "source": [
    "import numpy as np\n",
    "from sklearn.decomposition import PCA\n",
    "\n",
    "# Load the embeddings\n",
    "train_emb = np.load(\"../data/train_embeddings.npy\")\n",
    "test_emb = np.load(\"../data/test_embeddings.npy\")\n",
    "\n",
    "# Initialize PCA to reduce to 300 dimensions\n",
    "pca = PCA(n_components=300)\n",
    "\n",
    "# Fit PCA on the training embeddings and transform both train and test embeddings\n",
    "train_emb_reduced = pca.fit_transform(train_emb)\n",
    "test_emb_reduced = pca.transform(test_emb)\n",
    "\n",
    "# Save the reduced embeddings if needed\n",
    "np.save(\"../data/train_embeddings_reduced.npy\", train_emb_reduced)\n",
    "np.save(\"../data/test_embeddings_reduced.npy\", test_emb_reduced)\n",
    "\n",
    "print(\"Dimensionality reduction completed!\")\n"
   ]
  },
  {
   "cell_type": "code",
   "execution_count": 3,
   "metadata": {},
   "outputs": [
    {
     "data": {
      "text/plain": [
       "(11155, 300)"
      ]
     },
     "execution_count": 3,
     "metadata": {},
     "output_type": "execute_result"
    }
   ],
   "source": [
    "test_emb_reduced.shape"
   ]
  },
  {
   "cell_type": "code",
   "execution_count": null,
   "metadata": {},
   "outputs": [],
   "source": []
  }
 ],
 "metadata": {
  "kernelspec": {
   "display_name": "base",
   "language": "python",
   "name": "python3"
  },
  "language_info": {
   "codemirror_mode": {
    "name": "ipython",
    "version": 3
   },
   "file_extension": ".py",
   "mimetype": "text/x-python",
   "name": "python",
   "nbconvert_exporter": "python",
   "pygments_lexer": "ipython3",
   "version": "3.10.14"
  }
 },
 "nbformat": 4,
 "nbformat_minor": 2
}
