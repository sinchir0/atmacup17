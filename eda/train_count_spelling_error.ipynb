{
 "cells": [
  {
   "cell_type": "code",
   "execution_count": 1,
   "metadata": {},
   "outputs": [
    {
     "name": "stdout",
     "output_type": "stream",
     "text": [
      "Requirement already satisfied: pyspellchecker in /opt/conda/lib/python3.10/site-packages (0.8.1)\n"
     ]
    }
   ],
   "source": [
    "!pip install pyspellchecker"
   ]
  },
  {
   "cell_type": "code",
   "execution_count": 2,
   "metadata": {},
   "outputs": [],
   "source": [
    "import polars as pl\n",
    "import spacy"
   ]
  },
  {
   "cell_type": "code",
   "execution_count": 3,
   "metadata": {},
   "outputs": [],
   "source": [
    "DATA_PATH = \"../data\""
   ]
  },
  {
   "cell_type": "code",
   "execution_count": 4,
   "metadata": {},
   "outputs": [],
   "source": [
    "nlp = spacy.load(\"en_core_web_sm\")"
   ]
  },
  {
   "cell_type": "code",
   "execution_count": 5,
   "metadata": {},
   "outputs": [],
   "source": [
    "train = pl.read_csv(f\"{DATA_PATH}/train_with_index.csv\").with_columns(\n",
    "    (pl.concat_str([\"Title\", \"Review Text\"], separator=\" \")).alias(\"full_text\")\n",
    ")"
   ]
  },
  {
   "cell_type": "code",
   "execution_count": 6,
   "metadata": {},
   "outputs": [],
   "source": [
    "from spellchecker import SpellChecker\n",
    "import re\n",
    "\n",
    "spellchecker = SpellChecker()\n",
    "NUM_SYMBOL_PARTTERN = re.compile(r\"^[0-9,./]+$\")\n",
    "\n",
    "\n",
    "def _count_spelling_errors(text):\n",
    "    doc = nlp(text)\n",
    "    lemmatized_tokens = [token.lemma_.lower() for token in doc]\n",
    "    misspelled = spellchecker.unknown(lemmatized_tokens)\n",
    "\n",
    "    misspelled = [\n",
    "        text\n",
    "        for text in misspelled\n",
    "        if (text not in [\"\\n\\n\", \"'s\", \"’s\"])\n",
    "        and (not text.isspace())\n",
    "        and not NUM_SYMBOL_PARTTERN.match(text)\n",
    "    ]\n",
    "\n",
    "    return len(misspelled)\n",
    "\n",
    "\n",
    "def count_spelling_errors() -> pl.Expr:\n",
    "    return (\n",
    "        pl.col(\"full_text\")\n",
    "        .map_elements(lambda x: _count_spelling_errors(x), return_dtype=pl.Int64)\n",
    "        .alias(\"spelling_errors_cnt\")\n",
    "    )\n",
    "\n",
    "\n",
    "train = train.with_columns(count_spelling_errors())"
   ]
  },
  {
   "cell_type": "code",
   "execution_count": 7,
   "metadata": {},
   "outputs": [],
   "source": [
    "train = train.with_columns(pl.col(\"spelling_errors_cnt\").fill_null(0))"
   ]
  },
  {
   "cell_type": "code",
   "execution_count": 8,
   "metadata": {},
   "outputs": [
    {
     "data": {
      "text/html": [
       "<div><style>\n",
       ".dataframe > thead > tr,\n",
       ".dataframe > tbody > tr {\n",
       "  text-align: right;\n",
       "  white-space: pre-wrap;\n",
       "}\n",
       "</style>\n",
       "<small>shape: (10_000, 10)</small><table border=\"1\" class=\"dataframe\"><thead><tr><th>index</th><th>Clothing ID</th><th>Age</th><th>Title</th><th>Review Text</th><th>Rating</th><th>Recommended IND</th><th>Positive Feedback Count</th><th>full_text</th><th>spelling_errors_cnt</th></tr><tr><td>i64</td><td>i64</td><td>i64</td><td>str</td><td>str</td><td>i64</td><td>i64</td><td>i64</td><td>str</td><td>i64</td></tr></thead><tbody><tr><td>0</td><td>0</td><td>25</td><td>&quot;3-season skirt!&quot;</td><td>&quot;Adorable, well-made skirt! lin…</td><td>5</td><td>1</td><td>4</td><td>&quot;3-season skirt! Adorable, well…</td><td>0</td></tr><tr><td>1</td><td>0</td><td>39</td><td>&quot;Very cute&quot;</td><td>&quot;Love the asymmetrical hem. wai…</td><td>5</td><td>1</td><td>0</td><td>&quot;Very cute Love the asymmetrica…</td><td>2</td></tr><tr><td>2</td><td>0</td><td>42</td><td>&quot;Beautiful! fruns small for typ…</td><td>&quot;I love this skirt! i wasn&#x27;t su…</td><td>5</td><td>1</td><td>5</td><td>&quot;Beautiful! fruns small for typ…</td><td>2</td></tr><tr><td>3</td><td>0</td><td>45</td><td>null</td><td>&quot;I was really pleased with this…</td><td>5</td><td>1</td><td>9</td><td>null</td><td>0</td></tr><tr><td>4</td><td>0</td><td>57</td><td>&quot;Unique, pretty asymmetric skir…</td><td>&quot;I saw this skirt in retailer s…</td><td>5</td><td>1</td><td>1</td><td>&quot;Unique, pretty asymmetric skir…</td><td>3</td></tr><tr><td>&hellip;</td><td>&hellip;</td><td>&hellip;</td><td>&hellip;</td><td>&hellip;</td><td>&hellip;</td><td>&hellip;</td><td>&hellip;</td><td>&hellip;</td><td>&hellip;</td></tr><tr><td>9995</td><td>232</td><td>57</td><td>&quot;Runs big on top&quot;</td><td>null</td><td>3</td><td>1</td><td>5</td><td>null</td><td>0</td></tr><tr><td>9996</td><td>232</td><td>58</td><td>null</td><td>&quot;I loved the dress, but just no…</td><td>1</td><td>1</td><td>5</td><td>null</td><td>0</td></tr><tr><td>9997</td><td>232</td><td>60</td><td>&quot;I was really disappointed&quot;</td><td>&quot;I was really hoping this dress…</td><td>2</td><td>0</td><td>7</td><td>&quot;I was really disappointed I wa…</td><td>0</td></tr><tr><td>9998</td><td>232</td><td>62</td><td>&quot;Too heavy&quot;</td><td>&quot;The design is beautiful but it…</td><td>2</td><td>0</td><td>0</td><td>&quot;Too heavy The design is beauti…</td><td>0</td></tr><tr><td>9999</td><td>232</td><td>62</td><td>null</td><td>&quot;I love this dress. very comfor…</td><td>5</td><td>1</td><td>2</td><td>null</td><td>0</td></tr></tbody></table></div>"
      ],
      "text/plain": [
       "shape: (10_000, 10)\n",
       "┌───────┬─────────────┬─────┬─────────────┬───┬─────────────┬────────────┬────────────┬────────────┐\n",
       "│ index ┆ Clothing ID ┆ Age ┆ Title       ┆ … ┆ Recommended ┆ Positive   ┆ full_text  ┆ spelling_e │\n",
       "│ ---   ┆ ---         ┆ --- ┆ ---         ┆   ┆ IND         ┆ Feedback   ┆ ---        ┆ rrors_cnt  │\n",
       "│ i64   ┆ i64         ┆ i64 ┆ str         ┆   ┆ ---         ┆ Count      ┆ str        ┆ ---        │\n",
       "│       ┆             ┆     ┆             ┆   ┆ i64         ┆ ---        ┆            ┆ i64        │\n",
       "│       ┆             ┆     ┆             ┆   ┆             ┆ i64        ┆            ┆            │\n",
       "╞═══════╪═════════════╪═════╪═════════════╪═══╪═════════════╪════════════╪════════════╪════════════╡\n",
       "│ 0     ┆ 0           ┆ 25  ┆ 3-season    ┆ … ┆ 1           ┆ 4          ┆ 3-season   ┆ 0          │\n",
       "│       ┆             ┆     ┆ skirt!      ┆   ┆             ┆            ┆ skirt!     ┆            │\n",
       "│       ┆             ┆     ┆             ┆   ┆             ┆            ┆ Adorable,  ┆            │\n",
       "│       ┆             ┆     ┆             ┆   ┆             ┆            ┆ well…      ┆            │\n",
       "│ 1     ┆ 0           ┆ 39  ┆ Very cute   ┆ … ┆ 1           ┆ 0          ┆ Very cute  ┆ 2          │\n",
       "│       ┆             ┆     ┆             ┆   ┆             ┆            ┆ Love the   ┆            │\n",
       "│       ┆             ┆     ┆             ┆   ┆             ┆            ┆ asymmetric ┆            │\n",
       "│       ┆             ┆     ┆             ┆   ┆             ┆            ┆ a…         ┆            │\n",
       "│ 2     ┆ 0           ┆ 42  ┆ Beautiful!  ┆ … ┆ 1           ┆ 5          ┆ Beautiful! ┆ 2          │\n",
       "│       ┆             ┆     ┆ fruns small ┆   ┆             ┆            ┆ fruns      ┆            │\n",
       "│       ┆             ┆     ┆ for typ…    ┆   ┆             ┆            ┆ small for  ┆            │\n",
       "│       ┆             ┆     ┆             ┆   ┆             ┆            ┆ typ…       ┆            │\n",
       "│ 3     ┆ 0           ┆ 45  ┆ null        ┆ … ┆ 1           ┆ 9          ┆ null       ┆ 0          │\n",
       "│ 4     ┆ 0           ┆ 57  ┆ Unique,     ┆ … ┆ 1           ┆ 1          ┆ Unique,    ┆ 3          │\n",
       "│       ┆             ┆     ┆ pretty      ┆   ┆             ┆            ┆ pretty     ┆            │\n",
       "│       ┆             ┆     ┆ asymmetric  ┆   ┆             ┆            ┆ asymmetric ┆            │\n",
       "│       ┆             ┆     ┆ skir…       ┆   ┆             ┆            ┆ skir…      ┆            │\n",
       "│ …     ┆ …           ┆ …   ┆ …           ┆ … ┆ …           ┆ …          ┆ …          ┆ …          │\n",
       "│ 9995  ┆ 232         ┆ 57  ┆ Runs big on ┆ … ┆ 1           ┆ 5          ┆ null       ┆ 0          │\n",
       "│       ┆             ┆     ┆ top         ┆   ┆             ┆            ┆            ┆            │\n",
       "│ 9996  ┆ 232         ┆ 58  ┆ null        ┆ … ┆ 1           ┆ 5          ┆ null       ┆ 0          │\n",
       "│ 9997  ┆ 232         ┆ 60  ┆ I was       ┆ … ┆ 0           ┆ 7          ┆ I was      ┆ 0          │\n",
       "│       ┆             ┆     ┆ really disa ┆   ┆             ┆            ┆ really dis ┆            │\n",
       "│       ┆             ┆     ┆ ppointed    ┆   ┆             ┆            ┆ appointed  ┆            │\n",
       "│       ┆             ┆     ┆             ┆   ┆             ┆            ┆ I wa…      ┆            │\n",
       "│ 9998  ┆ 232         ┆ 62  ┆ Too heavy   ┆ … ┆ 0           ┆ 0          ┆ Too heavy  ┆ 0          │\n",
       "│       ┆             ┆     ┆             ┆   ┆             ┆            ┆ The design ┆            │\n",
       "│       ┆             ┆     ┆             ┆   ┆             ┆            ┆ is beauti… ┆            │\n",
       "│ 9999  ┆ 232         ┆ 62  ┆ null        ┆ … ┆ 1           ┆ 2          ┆ null       ┆ 0          │\n",
       "└───────┴─────────────┴─────┴─────────────┴───┴─────────────┴────────────┴────────────┴────────────┘"
      ]
     },
     "execution_count": 8,
     "metadata": {},
     "output_type": "execute_result"
    }
   ],
   "source": [
    "train"
   ]
  },
  {
   "cell_type": "code",
   "execution_count": 9,
   "metadata": {},
   "outputs": [],
   "source": [
    "import json\n",
    "\n",
    "with open(\"../data/train_index_spelling_errors_cnt_pyspell.json\", \"w\") as f:\n",
    "    json.dump(dict(zip(train[\"index\"], train[\"spelling_errors_cnt\"])), f)"
   ]
  },
  {
   "cell_type": "code",
   "execution_count": null,
   "metadata": {},
   "outputs": [],
   "source": []
  }
 ],
 "metadata": {
  "kernelspec": {
   "display_name": "base",
   "language": "python",
   "name": "python3"
  },
  "language_info": {
   "codemirror_mode": {
    "name": "ipython",
    "version": 3
   },
   "file_extension": ".py",
   "mimetype": "text/x-python",
   "name": "python",
   "nbconvert_exporter": "python",
   "pygments_lexer": "ipython3",
   "version": "3.10.14"
  }
 },
 "nbformat": 4,
 "nbformat_minor": 2
}
