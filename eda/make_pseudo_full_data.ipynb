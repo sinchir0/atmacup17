{
 "cells": [
  {
   "cell_type": "code",
   "execution_count": 1,
   "metadata": {},
   "outputs": [],
   "source": [
    "import polars as pl\n",
    "\n",
    "test = pl.read_csv(\"../data/test_with_index.csv\")\n",
    "data = pl.read_csv(\"../trained_models/e005-6-7-ens/e005-6-7-ens.csv\")"
   ]
  },
  {
   "cell_type": "code",
   "execution_count": 8,
   "metadata": {},
   "outputs": [
    {
     "data": {
      "text/plain": [
       "(11155, 6)"
      ]
     },
     "execution_count": 8,
     "metadata": {},
     "output_type": "execute_result"
    }
   ],
   "source": [
    "test.shape"
   ]
  },
  {
   "cell_type": "code",
   "execution_count": 2,
   "metadata": {},
   "outputs": [],
   "source": [
    "test = test.with_columns(pl.col(\"index\") + 10000)"
   ]
  },
  {
   "cell_type": "code",
   "execution_count": 3,
   "metadata": {},
   "outputs": [],
   "source": [
    "data_w_pred = pl.concat([test, data], how=\"horizontal\")"
   ]
  },
  {
   "cell_type": "code",
   "execution_count": 4,
   "metadata": {},
   "outputs": [],
   "source": [
    "# psuedo_test_data = data_w_pred.filter(\n",
    "#     (pl.col(\"target\") > 0.99) | (pl.col(\"target\") < 0.20)\n",
    "# ).with_columns(\n",
    "#     pl.when(pl.col(\"target\") > 0.99).then(1).otherwise(0).alias(\"target\"),\n",
    "# )\n",
    "\n",
    "psuedo_test_data = data_w_pred.with_columns(\n",
    "    pl.when(pl.col(\"target\") >= 0.50).then(1).otherwise(0).alias(\"target\"),\n",
    ")"
   ]
  },
  {
   "cell_type": "code",
   "execution_count": 5,
   "metadata": {},
   "outputs": [
    {
     "data": {
      "text/html": [
       "<div><style>\n",
       ".dataframe > thead > tr,\n",
       ".dataframe > tbody > tr {\n",
       "  text-align: right;\n",
       "  white-space: pre-wrap;\n",
       "}\n",
       "</style>\n",
       "<small>shape: (2, 2)</small><table border=\"1\" class=\"dataframe\"><thead><tr><th>target</th><th>count</th></tr><tr><td>i32</td><td>u32</td></tr></thead><tbody><tr><td>1</td><td>8947</td></tr><tr><td>0</td><td>2208</td></tr></tbody></table></div>"
      ],
      "text/plain": [
       "shape: (2, 2)\n",
       "┌────────┬───────┐\n",
       "│ target ┆ count │\n",
       "│ ---    ┆ ---   │\n",
       "│ i32    ┆ u32   │\n",
       "╞════════╪═══════╡\n",
       "│ 1      ┆ 8947  │\n",
       "│ 0      ┆ 2208  │\n",
       "└────────┴───────┘"
      ]
     },
     "execution_count": 5,
     "metadata": {},
     "output_type": "execute_result"
    }
   ],
   "source": [
    "psuedo_test_data[\"target\"].value_counts()"
   ]
  },
  {
   "cell_type": "code",
   "execution_count": 6,
   "metadata": {},
   "outputs": [],
   "source": [
    "import numpy as np\n",
    "from sklearn.model_selection import StratifiedKFold\n",
    "\n",
    "fold_arr = np.zeros(psuedo_test_data.height)\n",
    "sgkf = StratifiedKFold(n_splits=3, random_state=42, shuffle=True)\n",
    "\n",
    "for idx, (_, val_idx) in enumerate(\n",
    "    sgkf.split(psuedo_test_data, psuedo_test_data[\"target\"])\n",
    "):\n",
    "    fold_arr[val_idx] = idx + 3\n",
    "\n",
    "psuedo_test_data = psuedo_test_data.with_columns(\n",
    "    pl.Series(fold_arr).cast(pl.Int64).alias(\"fold\")\n",
    ")"
   ]
  },
  {
   "cell_type": "code",
   "execution_count": 7,
   "metadata": {},
   "outputs": [],
   "source": [
    "psuedo_test_data.write_csv(\"../data/psuedo_all_test_data.csv\")"
   ]
  },
  {
   "cell_type": "code",
   "execution_count": null,
   "metadata": {},
   "outputs": [],
   "source": []
  }
 ],
 "metadata": {
  "kernelspec": {
   "display_name": "base",
   "language": "python",
   "name": "python3"
  },
  "language_info": {
   "codemirror_mode": {
    "name": "ipython",
    "version": 3
   },
   "file_extension": ".py",
   "mimetype": "text/x-python",
   "name": "python",
   "nbconvert_exporter": "python",
   "pygments_lexer": "ipython3",
   "version": "3.10.14"
  }
 },
 "nbformat": 4,
 "nbformat_minor": 2
}
