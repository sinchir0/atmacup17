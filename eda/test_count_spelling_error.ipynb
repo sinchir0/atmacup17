{
 "cells": [
  {
   "cell_type": "code",
   "execution_count": 1,
   "metadata": {},
   "outputs": [
    {
     "name": "stdout",
     "output_type": "stream",
     "text": [
      "Requirement already satisfied: pyspellchecker in /opt/conda/lib/python3.10/site-packages (0.8.1)\n"
     ]
    }
   ],
   "source": [
    "!pip install pyspellchecker"
   ]
  },
  {
   "cell_type": "code",
   "execution_count": 2,
   "metadata": {},
   "outputs": [],
   "source": [
    "import polars as pl\n",
    "import spacy"
   ]
  },
  {
   "cell_type": "code",
   "execution_count": 3,
   "metadata": {},
   "outputs": [],
   "source": [
    "DATA_PATH = \"../data\""
   ]
  },
  {
   "cell_type": "code",
   "execution_count": 4,
   "metadata": {},
   "outputs": [],
   "source": [
    "nlp = spacy.load(\"en_core_web_sm\")"
   ]
  },
  {
   "cell_type": "code",
   "execution_count": 5,
   "metadata": {},
   "outputs": [],
   "source": [
    "test = pl.read_csv(f\"{DATA_PATH}/test_with_index.csv\").with_columns(\n",
    "    (pl.concat_str([\"Title\", \"Review Text\"], separator=\" \")).alias(\"full_text\")\n",
    ")"
   ]
  },
  {
   "cell_type": "code",
   "execution_count": 6,
   "metadata": {},
   "outputs": [],
   "source": [
    "from spellchecker import SpellChecker\n",
    "import re\n",
    "\n",
    "spellchecker = SpellChecker()\n",
    "NUM_SYMBOL_PARTTERN = re.compile(r\"^[0-9,./]+$\")\n",
    "\n",
    "\n",
    "def _count_spelling_errors(text):\n",
    "    doc = nlp(text)\n",
    "    lemmatized_tokens = [token.lemma_.lower() for token in doc]\n",
    "    misspelled = spellchecker.unknown(lemmatized_tokens)\n",
    "\n",
    "    misspelled = [\n",
    "        text\n",
    "        for text in misspelled\n",
    "        if (text not in [\"\\n\\n\", \"'s\", \"’s\"])\n",
    "        and (not text.isspace())\n",
    "        and not NUM_SYMBOL_PARTTERN.match(text)\n",
    "    ]\n",
    "\n",
    "    return len(misspelled)\n",
    "\n",
    "\n",
    "def count_spelling_errors() -> pl.Expr:\n",
    "    return (\n",
    "        pl.col(\"full_text\")\n",
    "        .map_elements(lambda x: _count_spelling_errors(x), return_dtype=pl.Int64)\n",
    "        .alias(\"spelling_errors_cnt\")\n",
    "    )\n",
    "\n",
    "\n",
    "test = test.with_columns(count_spelling_errors())"
   ]
  },
  {
   "cell_type": "code",
   "execution_count": 7,
   "metadata": {},
   "outputs": [],
   "source": [
    "test = test.with_columns(pl.col(\"spelling_errors_cnt\").fill_null(0))"
   ]
  },
  {
   "cell_type": "code",
   "execution_count": 8,
   "metadata": {},
   "outputs": [
    {
     "data": {
      "text/html": [
       "<div><style>\n",
       ".dataframe > thead > tr,\n",
       ".dataframe > tbody > tr {\n",
       "  text-align: right;\n",
       "  white-space: pre-wrap;\n",
       "}\n",
       "</style>\n",
       "<small>shape: (11_155, 8)</small><table border=\"1\" class=\"dataframe\"><thead><tr><th>index</th><th>Clothing ID</th><th>Age</th><th>Title</th><th>Review Text</th><th>Positive Feedback Count</th><th>full_text</th><th>spelling_errors_cnt</th></tr><tr><td>i64</td><td>i64</td><td>i64</td><td>str</td><td>str</td><td>i64</td><td>str</td><td>i64</td></tr></thead><tbody><tr><td>0</td><td>0</td><td>32</td><td>&quot;So happy i bought this skirt!&quot;</td><td>&quot;I love this skirt. it does run…</td><td>0</td><td>&quot;So happy i bought this skirt! …</td><td>0</td></tr><tr><td>1</td><td>0</td><td>34</td><td>&quot;Runs small&quot;</td><td>&quot;Beautiful patterns and colors,…</td><td>0</td><td>&quot;Runs small Beautiful patterns …</td><td>0</td></tr><tr><td>2</td><td>0</td><td>37</td><td>&quot;Love the comfort of thi skirt&quot;</td><td>&quot;It is easily paired with a nic…</td><td>0</td><td>&quot;Love the comfort of thi skirt …</td><td>1</td></tr><tr><td>3</td><td>0</td><td>39</td><td>&quot;Way too small&quot;</td><td>&quot;This is a beautiful skirt, but…</td><td>10</td><td>&quot;Way too small This is a beauti…</td><td>0</td></tr><tr><td>4</td><td>0</td><td>39</td><td>null</td><td>&quot;I usually wear a size 8/10 and…</td><td>0</td><td>null</td><td>0</td></tr><tr><td>&hellip;</td><td>&hellip;</td><td>&hellip;</td><td>&hellip;</td><td>&hellip;</td><td>&hellip;</td><td>&hellip;</td><td>&hellip;</td></tr><tr><td>11150</td><td>232</td><td>53</td><td>&quot;More beautiful in reality&quot;</td><td>&quot;I purchased this dress on a wh…</td><td>0</td><td>&quot;More beautiful in reality I pu…</td><td>0</td></tr><tr><td>11151</td><td>232</td><td>58</td><td>&quot;Perfect dress!&quot;</td><td>&quot;This dress is very flattering …</td><td>0</td><td>&quot;Perfect dress! This dress is v…</td><td>1</td></tr><tr><td>11152</td><td>232</td><td>60</td><td>&quot;Perfect dress&quot;</td><td>&quot;This is the most perfect dress…</td><td>0</td><td>&quot;Perfect dress This is the most…</td><td>1</td></tr><tr><td>11153</td><td>232</td><td>62</td><td>&quot;Really great!&quot;</td><td>&quot;This is a beautiful dress! not…</td><td>5</td><td>&quot;Really great! This is a beauti…</td><td>0</td></tr><tr><td>11154</td><td>232</td><td>63</td><td>&quot;Love this dress!&quot;</td><td>&quot;This dress is absolutely darli…</td><td>2</td><td>&quot;Love this dress! This dress is…</td><td>1</td></tr></tbody></table></div>"
      ],
      "text/plain": [
       "shape: (11_155, 8)\n",
       "┌───────┬─────────────┬─────┬──────────────┬──────────────┬──────────┬──────────────┬──────────────┐\n",
       "│ index ┆ Clothing ID ┆ Age ┆ Title        ┆ Review Text  ┆ Positive ┆ full_text    ┆ spelling_err │\n",
       "│ ---   ┆ ---         ┆ --- ┆ ---          ┆ ---          ┆ Feedback ┆ ---          ┆ ors_cnt      │\n",
       "│ i64   ┆ i64         ┆ i64 ┆ str          ┆ str          ┆ Count    ┆ str          ┆ ---          │\n",
       "│       ┆             ┆     ┆              ┆              ┆ ---      ┆              ┆ i64          │\n",
       "│       ┆             ┆     ┆              ┆              ┆ i64      ┆              ┆              │\n",
       "╞═══════╪═════════════╪═════╪══════════════╪══════════════╪══════════╪══════════════╪══════════════╡\n",
       "│ 0     ┆ 0           ┆ 32  ┆ So happy i   ┆ I love this  ┆ 0        ┆ So happy i   ┆ 0            │\n",
       "│       ┆             ┆     ┆ bought this  ┆ skirt. it    ┆          ┆ bought this  ┆              │\n",
       "│       ┆             ┆     ┆ skirt!       ┆ does run…    ┆          ┆ skirt! …     ┆              │\n",
       "│ 1     ┆ 0           ┆ 34  ┆ Runs small   ┆ Beautiful    ┆ 0        ┆ Runs small   ┆ 0            │\n",
       "│       ┆             ┆     ┆              ┆ patterns and ┆          ┆ Beautiful    ┆              │\n",
       "│       ┆             ┆     ┆              ┆ colors,…     ┆          ┆ patterns …   ┆              │\n",
       "│ 2     ┆ 0           ┆ 37  ┆ Love the     ┆ It is easily ┆ 0        ┆ Love the     ┆ 1            │\n",
       "│       ┆             ┆     ┆ comfort of   ┆ paired with  ┆          ┆ comfort of   ┆              │\n",
       "│       ┆             ┆     ┆ thi skirt    ┆ a nic…       ┆          ┆ thi skirt …  ┆              │\n",
       "│ 3     ┆ 0           ┆ 39  ┆ Way too      ┆ This is a    ┆ 10       ┆ Way too      ┆ 0            │\n",
       "│       ┆             ┆     ┆ small        ┆ beautiful    ┆          ┆ small This   ┆              │\n",
       "│       ┆             ┆     ┆              ┆ skirt, but…  ┆          ┆ is a beauti… ┆              │\n",
       "│ 4     ┆ 0           ┆ 39  ┆ null         ┆ I usually    ┆ 0        ┆ null         ┆ 0            │\n",
       "│       ┆             ┆     ┆              ┆ wear a size  ┆          ┆              ┆              │\n",
       "│       ┆             ┆     ┆              ┆ 8/10 and…    ┆          ┆              ┆              │\n",
       "│ …     ┆ …           ┆ …   ┆ …            ┆ …            ┆ …        ┆ …            ┆ …            │\n",
       "│ 11150 ┆ 232         ┆ 53  ┆ More         ┆ I purchased  ┆ 0        ┆ More         ┆ 0            │\n",
       "│       ┆             ┆     ┆ beautiful in ┆ this dress   ┆          ┆ beautiful in ┆              │\n",
       "│       ┆             ┆     ┆ reality      ┆ on a wh…     ┆          ┆ reality I    ┆              │\n",
       "│       ┆             ┆     ┆              ┆              ┆          ┆ pu…          ┆              │\n",
       "│ 11151 ┆ 232         ┆ 58  ┆ Perfect      ┆ This dress   ┆ 0        ┆ Perfect      ┆ 1            │\n",
       "│       ┆             ┆     ┆ dress!       ┆ is very      ┆          ┆ dress! This  ┆              │\n",
       "│       ┆             ┆     ┆              ┆ flattering … ┆          ┆ dress is v…  ┆              │\n",
       "│ 11152 ┆ 232         ┆ 60  ┆ Perfect      ┆ This is the  ┆ 0        ┆ Perfect      ┆ 1            │\n",
       "│       ┆             ┆     ┆ dress        ┆ most perfect ┆          ┆ dress This   ┆              │\n",
       "│       ┆             ┆     ┆              ┆ dress…       ┆          ┆ is the most… ┆              │\n",
       "│ 11153 ┆ 232         ┆ 62  ┆ Really       ┆ This is a    ┆ 5        ┆ Really       ┆ 0            │\n",
       "│       ┆             ┆     ┆ great!       ┆ beautiful    ┆          ┆ great! This  ┆              │\n",
       "│       ┆             ┆     ┆              ┆ dress! not…  ┆          ┆ is a beauti… ┆              │\n",
       "│ 11154 ┆ 232         ┆ 63  ┆ Love this    ┆ This dress   ┆ 2        ┆ Love this    ┆ 1            │\n",
       "│       ┆             ┆     ┆ dress!       ┆ is           ┆          ┆ dress! This  ┆              │\n",
       "│       ┆             ┆     ┆              ┆ absolutely   ┆          ┆ dress is…    ┆              │\n",
       "│       ┆             ┆     ┆              ┆ darli…       ┆          ┆              ┆              │\n",
       "└───────┴─────────────┴─────┴──────────────┴──────────────┴──────────┴──────────────┴──────────────┘"
      ]
     },
     "execution_count": 8,
     "metadata": {},
     "output_type": "execute_result"
    }
   ],
   "source": [
    "test"
   ]
  },
  {
   "cell_type": "code",
   "execution_count": 9,
   "metadata": {},
   "outputs": [],
   "source": [
    "import json\n",
    "\n",
    "with open(\"../data/test_index_spelling_errors_cnt_pyspell.json\", \"w\") as f:\n",
    "    json.dump(dict(zip(test[\"index\"], test[\"spelling_errors_cnt\"])), f)"
   ]
  },
  {
   "cell_type": "code",
   "execution_count": null,
   "metadata": {},
   "outputs": [],
   "source": []
  }
 ],
 "metadata": {
  "kernelspec": {
   "display_name": "base",
   "language": "python",
   "name": "python3"
  },
  "language_info": {
   "codemirror_mode": {
    "name": "ipython",
    "version": 3
   },
   "file_extension": ".py",
   "mimetype": "text/x-python",
   "name": "python",
   "nbconvert_exporter": "python",
   "pygments_lexer": "ipython3",
   "version": "3.10.14"
  }
 },
 "nbformat": 4,
 "nbformat_minor": 2
}
