{
 "cells": [
  {
   "cell_type": "code",
   "execution_count": 9,
   "metadata": {},
   "outputs": [],
   "source": [
    "import pandas as pd\n",
    "\n",
    "data = pd.read_csv(\"/home/shinichiro.saito/atmacup17/data/train.csv\")"
   ]
  },
  {
   "cell_type": "code",
   "execution_count": 35,
   "metadata": {},
   "outputs": [
    {
     "data": {
      "text/html": [
       "<div>\n",
       "<style scoped>\n",
       "    .dataframe tbody tr th:only-of-type {\n",
       "        vertical-align: middle;\n",
       "    }\n",
       "\n",
       "    .dataframe tbody tr th {\n",
       "        vertical-align: top;\n",
       "    }\n",
       "\n",
       "    .dataframe thead th {\n",
       "        text-align: right;\n",
       "    }\n",
       "</style>\n",
       "<table border=\"1\" class=\"dataframe\">\n",
       "  <thead>\n",
       "    <tr style=\"text-align: right;\">\n",
       "      <th></th>\n",
       "      <th>Clothing ID</th>\n",
       "      <th>Age</th>\n",
       "      <th>Title</th>\n",
       "      <th>Review Text</th>\n",
       "      <th>Rating</th>\n",
       "      <th>Recommended IND</th>\n",
       "      <th>Positive Feedback Count</th>\n",
       "      <th>Age_bin</th>\n",
       "    </tr>\n",
       "  </thead>\n",
       "  <tbody>\n",
       "    <tr>\n",
       "      <th>0</th>\n",
       "      <td>0</td>\n",
       "      <td>25</td>\n",
       "      <td>3-season skirt!</td>\n",
       "      <td>Adorable, well-made skirt! lined and very slim...</td>\n",
       "      <td>5</td>\n",
       "      <td>1</td>\n",
       "      <td>4</td>\n",
       "      <td>20-29</td>\n",
       "    </tr>\n",
       "    <tr>\n",
       "      <th>1</th>\n",
       "      <td>0</td>\n",
       "      <td>39</td>\n",
       "      <td>Very cute</td>\n",
       "      <td>Love the asymmetrical hem. waist fit snugly as...</td>\n",
       "      <td>5</td>\n",
       "      <td>1</td>\n",
       "      <td>0</td>\n",
       "      <td>30-39</td>\n",
       "    </tr>\n",
       "    <tr>\n",
       "      <th>2</th>\n",
       "      <td>0</td>\n",
       "      <td>42</td>\n",
       "      <td>Beautiful! fruns small for typical retailer si...</td>\n",
       "      <td>I love this skirt! i wasn't sure about the mix...</td>\n",
       "      <td>5</td>\n",
       "      <td>1</td>\n",
       "      <td>5</td>\n",
       "      <td>40-49</td>\n",
       "    </tr>\n",
       "    <tr>\n",
       "      <th>3</th>\n",
       "      <td>0</td>\n",
       "      <td>45</td>\n",
       "      <td>NaN</td>\n",
       "      <td>I was really pleased with this skirt. the ligh...</td>\n",
       "      <td>5</td>\n",
       "      <td>1</td>\n",
       "      <td>9</td>\n",
       "      <td>40-49</td>\n",
       "    </tr>\n",
       "    <tr>\n",
       "      <th>4</th>\n",
       "      <td>0</td>\n",
       "      <td>57</td>\n",
       "      <td>Unique, pretty asymmetric skirt</td>\n",
       "      <td>I saw this skirt in retailer several months ag...</td>\n",
       "      <td>5</td>\n",
       "      <td>1</td>\n",
       "      <td>1</td>\n",
       "      <td>50-59</td>\n",
       "    </tr>\n",
       "    <tr>\n",
       "      <th>...</th>\n",
       "      <td>...</td>\n",
       "      <td>...</td>\n",
       "      <td>...</td>\n",
       "      <td>...</td>\n",
       "      <td>...</td>\n",
       "      <td>...</td>\n",
       "      <td>...</td>\n",
       "      <td>...</td>\n",
       "    </tr>\n",
       "    <tr>\n",
       "      <th>9995</th>\n",
       "      <td>232</td>\n",
       "      <td>57</td>\n",
       "      <td>Runs big on top</td>\n",
       "      <td>NaN</td>\n",
       "      <td>3</td>\n",
       "      <td>1</td>\n",
       "      <td>5</td>\n",
       "      <td>50-59</td>\n",
       "    </tr>\n",
       "    <tr>\n",
       "      <th>9996</th>\n",
       "      <td>232</td>\n",
       "      <td>58</td>\n",
       "      <td>NaN</td>\n",
       "      <td>I loved the dress, but just not dressy enough ...</td>\n",
       "      <td>1</td>\n",
       "      <td>1</td>\n",
       "      <td>5</td>\n",
       "      <td>50-59</td>\n",
       "    </tr>\n",
       "    <tr>\n",
       "      <th>9997</th>\n",
       "      <td>232</td>\n",
       "      <td>60</td>\n",
       "      <td>I was really disappointed</td>\n",
       "      <td>I was really hoping this dress would work beca...</td>\n",
       "      <td>2</td>\n",
       "      <td>0</td>\n",
       "      <td>7</td>\n",
       "      <td>60-69</td>\n",
       "    </tr>\n",
       "    <tr>\n",
       "      <th>9998</th>\n",
       "      <td>232</td>\n",
       "      <td>62</td>\n",
       "      <td>Too heavy</td>\n",
       "      <td>The design is beautiful but it was thick and t...</td>\n",
       "      <td>2</td>\n",
       "      <td>0</td>\n",
       "      <td>0</td>\n",
       "      <td>60-69</td>\n",
       "    </tr>\n",
       "    <tr>\n",
       "      <th>9999</th>\n",
       "      <td>232</td>\n",
       "      <td>62</td>\n",
       "      <td>NaN</td>\n",
       "      <td>I love this dress. very comfortable. soft? abs...</td>\n",
       "      <td>5</td>\n",
       "      <td>1</td>\n",
       "      <td>2</td>\n",
       "      <td>60-69</td>\n",
       "    </tr>\n",
       "  </tbody>\n",
       "</table>\n",
       "<p>10000 rows × 8 columns</p>\n",
       "</div>"
      ],
      "text/plain": [
       "      Clothing ID  Age                                              Title  \\\n",
       "0               0   25                                    3-season skirt!   \n",
       "1               0   39                                          Very cute   \n",
       "2               0   42  Beautiful! fruns small for typical retailer si...   \n",
       "3               0   45                                                NaN   \n",
       "4               0   57                    Unique, pretty asymmetric skirt   \n",
       "...           ...  ...                                                ...   \n",
       "9995          232   57                                    Runs big on top   \n",
       "9996          232   58                                                NaN   \n",
       "9997          232   60                          I was really disappointed   \n",
       "9998          232   62                                          Too heavy   \n",
       "9999          232   62                                                NaN   \n",
       "\n",
       "                                            Review Text  Rating  \\\n",
       "0     Adorable, well-made skirt! lined and very slim...       5   \n",
       "1     Love the asymmetrical hem. waist fit snugly as...       5   \n",
       "2     I love this skirt! i wasn't sure about the mix...       5   \n",
       "3     I was really pleased with this skirt. the ligh...       5   \n",
       "4     I saw this skirt in retailer several months ag...       5   \n",
       "...                                                 ...     ...   \n",
       "9995                                                NaN       3   \n",
       "9996  I loved the dress, but just not dressy enough ...       1   \n",
       "9997  I was really hoping this dress would work beca...       2   \n",
       "9998  The design is beautiful but it was thick and t...       2   \n",
       "9999  I love this dress. very comfortable. soft? abs...       5   \n",
       "\n",
       "      Recommended IND  Positive Feedback Count Age_bin  \n",
       "0                   1                        4   20-29  \n",
       "1                   1                        0   30-39  \n",
       "2                   1                        5   40-49  \n",
       "3                   1                        9   40-49  \n",
       "4                   1                        1   50-59  \n",
       "...               ...                      ...     ...  \n",
       "9995                1                        5   50-59  \n",
       "9996                1                        5   50-59  \n",
       "9997                0                        7   60-69  \n",
       "9998                0                        0   60-69  \n",
       "9999                1                        2   60-69  \n",
       "\n",
       "[10000 rows x 8 columns]"
      ]
     },
     "execution_count": 35,
     "metadata": {},
     "output_type": "execute_result"
    }
   ],
   "source": [
    "data"
   ]
  },
  {
   "cell_type": "code",
   "execution_count": 36,
   "metadata": {},
   "outputs": [
    {
     "data": {
      "text/plain": [
       "Clothing ID\n",
       "226    480\n",
       "83     391\n",
       "148    360\n",
       "164    268\n",
       "65     264\n",
       "      ... \n",
       "14       4\n",
       "183      2\n",
       "41       2\n",
       "15       2\n",
       "121      1\n",
       "Name: count, Length: 233, dtype: int64"
      ]
     },
     "execution_count": 36,
     "metadata": {},
     "output_type": "execute_result"
    }
   ],
   "source": [
    "data[\"Clothing ID\"].value_counts()"
   ]
  },
  {
   "cell_type": "code",
   "execution_count": 10,
   "metadata": {},
   "outputs": [
    {
     "data": {
      "text/plain": [
       "Recommended IND\n",
       "1    0.8202\n",
       "0    0.1798\n",
       "Name: proportion, dtype: float64"
      ]
     },
     "execution_count": 10,
     "metadata": {},
     "output_type": "execute_result"
    }
   ],
   "source": [
    "data[\"Recommended IND\"].value_counts(normalize=True)"
   ]
  },
  {
   "cell_type": "code",
   "execution_count": 17,
   "metadata": {},
   "outputs": [
    {
     "data": {
      "text/plain": [
       "Rating  Recommended IND\n",
       "1       0                  0.972376\n",
       "        1                  0.027624\n",
       "2       0                  0.943368\n",
       "        1                  0.056632\n",
       "3       0                  0.588710\n",
       "        1                  0.411290\n",
       "4       1                  0.966897\n",
       "        0                  0.033103\n",
       "5       1                  0.998019\n",
       "        0                  0.001981\n",
       "Name: proportion, dtype: float64"
      ]
     },
     "execution_count": 17,
     "metadata": {},
     "output_type": "execute_result"
    }
   ],
   "source": [
    "data.groupby(\"Rating\")[\"Recommended IND\"].value_counts(normalize=True)"
   ]
  },
  {
   "cell_type": "code",
   "execution_count": 26,
   "metadata": {},
   "outputs": [
    {
     "data": {
      "image/png": "[encoded data removed]",
      "text/plain": [
       "<Figure size 640x480 with 1 Axes>"
      ]
     },
     "metadata": {},
     "output_type": "display_data"
    }
   ],
   "source": [
    "data[\"Title\"].fillna(\"\").apply(lambda x: len(x.split())).hist();"
   ]
  },
  {
   "cell_type": "code",
   "execution_count": 28,
   "metadata": {},
   "outputs": [
    {
     "data": {
      "image/png": "[encoded data removed]",
      "text/plain": [
       "<Figure size 640x480 with 1 Axes>"
      ]
     },
     "metadata": {},
     "output_type": "display_data"
    }
   ],
   "source": [
    "data[\"Review Text\"].fillna(\"\").apply(lambda x: len(x.split())).hist();"
   ]
  },
  {
   "cell_type": "code",
   "execution_count": 30,
   "metadata": {},
   "outputs": [
    {
     "data": {
      "text/plain": [
       "<Axes: >"
      ]
     },
     "execution_count": 30,
     "metadata": {},
     "output_type": "execute_result"
    },
    {
     "data": {
      "image/png": "[encoded data removed]",
      "text/plain": [
       "<Figure size 640x480 with 1 Axes>"
      ]
     },
     "metadata": {},
     "output_type": "display_data"
    }
   ],
   "source": [
    "data[\"Age\"].hist()"
   ]
  },
  {
   "cell_type": "code",
   "execution_count": 32,
   "metadata": {},
   "outputs": [
    {
     "data": {
      "text/plain": [
       "Age_bin  Recommended IND\n",
       "0-9      1                  0.000000\n",
       "         0                  0.000000\n",
       "10-19    1                  0.888889\n",
       "         0                  0.111111\n",
       "20-29    1                  0.815550\n",
       "         0                  0.184450\n",
       "30-39    1                  0.813845\n",
       "         0                  0.186155\n",
       "40-49    1                  0.809776\n",
       "         0                  0.190224\n",
       "50-59    1                  0.833824\n",
       "         0                  0.166176\n",
       "60-69    1                  0.844294\n",
       "         0                  0.155706\n",
       "70-79    1                  0.810811\n",
       "         0                  0.189189\n",
       "80-89    1                  0.933333\n",
       "         0                  0.066667\n",
       "90-99    1                  1.000000\n",
       "         0                  0.000000\n",
       "Name: proportion, dtype: float64"
      ]
     },
     "execution_count": 32,
     "metadata": {},
     "output_type": "execute_result"
    }
   ],
   "source": [
    "# 年齢を10歳ごとの範囲に区切る\n",
    "bins = range(0, 101, 10)  # 0から100まで10歳ごとの範囲を指定\n",
    "labels = [f\"{i}-{i+9}\" for i in bins[:-1]]  # ラベルを作成\n",
    "\n",
    "# 年齢をビン分けして新しいカラムに追加\n",
    "data[\"Age_bin\"] = pd.cut(data[\"Age\"], bins=bins, labels=labels, right=False)\n",
    "data.groupby(\"Age_bin\")[\"Recommended IND\"].value_counts(normalize=True)"
   ]
  },
  {
   "cell_type": "code",
   "execution_count": 40,
   "metadata": {},
   "outputs": [
    {
     "data": {
      "image/png": "[encoded data removed]",
      "text/plain": [
       "<Figure size 640x480 with 1 Axes>"
      ]
     },
     "metadata": {},
     "output_type": "display_data"
    }
   ],
   "source": [
    "import matplotlib.pyplot as plt\n",
    "\n",
    "plt.scatter(data[\"Positive Feedback Count\"], data[\"Recommended IND\"]);"
   ]
  },
  {
   "cell_type": "code",
   "execution_count": null,
   "metadata": {},
   "outputs": [],
   "source": []
  }
 ],
 "metadata": {
  "kernelspec": {
   "display_name": "base",
   "language": "python",
   "name": "python3"
  },
  "language_info": {
   "codemirror_mode": {
    "name": "ipython",
    "version": 3
   },
   "file_extension": ".py",
   "mimetype": "text/x-python",
   "name": "python",
   "nbconvert_exporter": "python",
   "pygments_lexer": "ipython3",
   "version": "3.10.14"
  }
 },
 "nbformat": 4,
 "nbformat_minor": 2
}
